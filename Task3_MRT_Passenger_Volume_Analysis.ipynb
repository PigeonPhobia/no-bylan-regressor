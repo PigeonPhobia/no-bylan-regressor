{
 "cells": [
  {
   "cell_type": "code",
   "execution_count": 1,
   "id": "ad669eaa-a192-4880-86e7-be1b4cc46530",
   "metadata": {},
   "outputs": [],
   "source": [
    "import numpy as np\n",
    "import pandas as pd\n",
    "import networkx as nx\n",
    "\n",
    "import matplotlib.pyplot as plt\n",
    "\n",
    "from utils import preprocess"
   ]
  },
  {
   "cell_type": "code",
   "execution_count": 2,
   "id": "8244c57b-983e-45d4-82c3-51cbd000db65",
   "metadata": {},
   "outputs": [],
   "source": [
    "# Some more magic so that the notebook will reload external python modules;\n",
    "# see http://stackoverflow.com/questions/1907993/autoreload-of-modules-in-ipython\n",
    "%load_ext autoreload\n",
    "%autoreload 2"
   ]
  },
  {
   "cell_type": "code",
   "execution_count": 3,
   "id": "f3f474ad-2389-49c4-8516-3cbe0d87fd29",
   "metadata": {},
   "outputs": [],
   "source": [
    "DATA_DIR = './data/'\n",
    "PROCESSED_DATA_DIR = './processed_data/'\n",
    "\n",
    "PROCESSED_PROPERTY_NUMBER = PROCESSED_DATA_DIR + 'processed_property_number.csv'\n",
    "\n",
    "AUX_DATA_DIR = DATA_DIR + 'auxiliary-data/'\n",
    "SUBZONE_FILE = AUX_DATA_DIR + 'sg-subzones.csv'\n",
    "COMMERCIAL_CENTER_FILE = AUX_DATA_DIR + 'sg-commerical-centres.csv'\n",
    "MRT_FILE = AUX_DATA_DIR + 'sg-mrt-stations.csv'\n",
    "SHOPPING_MALL_FILE = AUX_DATA_DIR + 'sg-shopping-malls.csv'\n",
    "\n",
    "MRT_DIS_FILE = PROCESSED_DATA_DIR + 'sg-mrt-stations.npy'\n",
    "\n",
    "MRT_STATIONS_FILE = PROCESSED_DATA_DIR + 'mrt-stations.csv'\n",
    "MRT_CONNECTIONS_FILE = PROCESSED_DATA_DIR + 'mrt-connections.csv'"
   ]
  },
  {
   "cell_type": "code",
   "execution_count": 4,
   "id": "e8c2a20f-e672-455c-a48c-e7b7802aeb0b",
   "metadata": {},
   "outputs": [],
   "source": [
    "df_property_number = pd.read_csv(PROCESSED_PROPERTY_NUMBER)\n",
    "df_commercial_center = pd.read_csv(COMMERCIAL_CENTER_FILE)\n",
    "df_mrt = pd.read_csv(MRT_FILE)\n",
    "df_shopping_mall = pd.read_csv(SHOPPING_MALL_FILE)"
   ]
  },
  {
   "cell_type": "code",
   "execution_count": 5,
   "id": "a84d4159-71f6-4619-97c4-4366a235d1ef",
   "metadata": {},
   "outputs": [],
   "source": [
    "property_number_arary = df_property_number['0'].to_numpy()\n",
    "distance_mrt = np.load(MRT_DIS_FILE)\n",
    "distance_mrt_array = distance_mrt.T"
   ]
  },
  {
   "cell_type": "code",
   "execution_count": 6,
   "id": "b3293066-1d44-46ca-b326-6c5a668e0fc9",
   "metadata": {},
   "outputs": [],
   "source": [
    "property_number_arary_repeated = np.repeat(property_number_arary[np.newaxis, :], distance_mrt_array.shape[0], axis=0)\n",
    "property_number_matrix = np.where(distance_mrt_array < 1, property_number_arary_repeated, np.zeros_like(property_number_arary_repeated))\n",
    "mrt_num_property = property_number_matrix.sum(axis=1)"
   ]
  },
  {
   "cell_type": "markdown",
   "id": "5f438c5a-d06b-4c54-9dcd-0686c289828f",
   "metadata": {},
   "source": [
    "Calculate distance to MRT station for commercial center and shopping mall"
   ]
  },
  {
   "cell_type": "code",
   "execution_count": 7,
   "id": "ba773438-4045-490c-9b53-be75dec572c8",
   "metadata": {},
   "outputs": [
    {
     "name": "stderr",
     "output_type": "stream",
     "text": [
      "100%|██████████| 151/151 [00:01<00:00, 92.70it/s]\n"
     ]
    }
   ],
   "source": [
    "distance_commercial_center = preprocess.calculate_distance_km(df_mrt, df_commercial_center)"
   ]
  },
  {
   "cell_type": "code",
   "execution_count": 8,
   "id": "df7a83ff-811b-492d-b380-37671ef4f348",
   "metadata": {},
   "outputs": [
    {
     "name": "stderr",
     "output_type": "stream",
     "text": [
      "100%|██████████| 151/151 [00:06<00:00, 22.52it/s]\n"
     ]
    }
   ],
   "source": [
    "distance_shopping_mall = preprocess.calculate_distance_km(df_mrt, df_shopping_mall)"
   ]
  },
  {
   "cell_type": "markdown",
   "id": "d9764e77-be40-47ab-befd-f7e106696ee0",
   "metadata": {},
   "source": [
    "Count number of commercial centers and shopping malls"
   ]
  },
  {
   "cell_type": "code",
   "execution_count": 9,
   "id": "9436c5a7-8f11-4f7e-9a52-3ce2d10246d0",
   "metadata": {},
   "outputs": [],
   "source": [
    "mrt_num_commercial_center = (distance_commercial_center < 1).sum(axis=1)\n",
    "mrt_num_shopping_mall = (distance_shopping_mall < 1).sum(axis=1)"
   ]
  },
  {
   "cell_type": "code",
   "execution_count": 10,
   "id": "681b4a23-cedd-4507-a490-517f5ae85a5b",
   "metadata": {},
   "outputs": [],
   "source": [
    "df_mrt['num_property'] = mrt_num_property\n",
    "df_mrt['num_commercial_center'] = mrt_num_commercial_center\n",
    "df_mrt['num_shopping_mall'] = mrt_num_shopping_mall\n",
    "df_mrt_simplified = df_mrt[['name', 'num_property', 'num_commercial_center', 'num_shopping_mall']].copy()\n",
    "df_mrt_simplified.drop_duplicates(inplace=True)"
   ]
  },
  {
   "cell_type": "code",
   "execution_count": 11,
   "id": "a75cfd20-5962-4cfb-8dde-69a0bade8ba5",
   "metadata": {},
   "outputs": [],
   "source": [
    "LIVING_MRT_STATIONS = df_mrt_simplified.sort_values('num_property', ascending=False)[:30]['name'].to_list()\n",
    "WORKING_MRT_STATIONS = df_mrt_simplified[df_mrt_simplified['num_commercial_center'] > 0]['name'].to_list()\n",
    "SHOPPING_MRT_STATIONS = df_mrt_simplified.sort_values('num_shopping_mall', ascending=False)[:30]['name'].to_list()"
   ]
  },
  {
   "cell_type": "code",
   "execution_count": 12,
   "id": "533f41a8-793d-455e-b337-cdd66e791c9e",
   "metadata": {},
   "outputs": [],
   "source": [
    "df_mrt_stations = pd.read_csv(MRT_STATIONS_FILE)\n",
    "df_mrt = pd.read_csv(MRT_CONNECTIONS_FILE)"
   ]
  },
  {
   "cell_type": "code",
   "execution_count": 13,
   "id": "e3846083-ffb0-4bbf-aa19-1743b4508060",
   "metadata": {},
   "outputs": [],
   "source": [
    "G_undirected = nx.Graph()\n",
    "\n",
    "for idx, row in df_mrt.iterrows():\n",
    "    G_undirected.add_edge(row['to'], row['from'])"
   ]
  },
  {
   "cell_type": "code",
   "execution_count": 14,
   "id": "3bb59eea-eeb8-4c8a-840f-a3f3b6ee6b1b",
   "metadata": {},
   "outputs": [
    {
     "name": "stderr",
     "output_type": "stream",
     "text": [
      "100%|██████████| 30/30 [00:00<00:00, 1671.26it/s]\n"
     ]
    }
   ],
   "source": [
    "WEEKDAY_BUSY_MRT_DICT = preprocess.get_betweenness(G_undirected, LIVING_MRT_STATIONS, WORKING_MRT_STATIONS)"
   ]
  },
  {
   "cell_type": "code",
   "execution_count": 15,
   "id": "91aa0235-bcdb-454e-8eda-5184a4664500",
   "metadata": {},
   "outputs": [
    {
     "name": "stderr",
     "output_type": "stream",
     "text": [
      "100%|██████████| 30/30 [00:00<00:00, 2313.97it/s]\n"
     ]
    }
   ],
   "source": [
    "WEEKEND_BUSY_MRT_DICT = preprocess.get_betweenness(G_undirected, LIVING_MRT_STATIONS, SHOPPING_MRT_STATIONS)"
   ]
  },
  {
   "cell_type": "code",
   "execution_count": 16,
   "id": "31206fd3-fc24-4575-b9ee-6763d82a49f0",
   "metadata": {},
   "outputs": [
    {
     "data": {
      "text/plain": [
       "['little india',\n",
       " 'dhoby ghaut',\n",
       " 'newton',\n",
       " 'chinatown',\n",
       " 'botanic gardens',\n",
       " 'bugis',\n",
       " 'farrer road',\n",
       " 'clarke quay',\n",
       " 'stevens',\n",
       " 'buona vista']"
      ]
     },
     "execution_count": 16,
     "metadata": {},
     "output_type": "execute_result"
    }
   ],
   "source": [
    "list(reversed(sorted(WEEKDAY_BUSY_MRT_DICT, key=WEEKDAY_BUSY_MRT_DICT.get)))[:10]"
   ]
  },
  {
   "cell_type": "code",
   "execution_count": 17,
   "id": "e2de0000-f826-498f-a5da-a2e6b71ff367",
   "metadata": {},
   "outputs": [
    {
     "data": {
      "text/plain": [
       "['dhoby ghaut',\n",
       " 'little india',\n",
       " 'newton',\n",
       " 'chinatown',\n",
       " 'clarke quay',\n",
       " 'bugis',\n",
       " 'botanic gardens',\n",
       " 'stevens',\n",
       " 'promenade',\n",
       " 'fort canning']"
      ]
     },
     "execution_count": 17,
     "metadata": {},
     "output_type": "execute_result"
    }
   ],
   "source": [
    "list(reversed(sorted(WEEKEND_BUSY_MRT_DICT, key=WEEKEND_BUSY_MRT_DICT.get)))[:10]"
   ]
  }
 ],
 "metadata": {
  "kernelspec": {
   "display_name": "Python 3 (ipykernel)",
   "language": "python",
   "name": "python3"
  },
  "language_info": {
   "codemirror_mode": {
    "name": "ipython",
    "version": 3
   },
   "file_extension": ".py",
   "mimetype": "text/x-python",
   "name": "python",
   "nbconvert_exporter": "python",
   "pygments_lexer": "ipython3",
   "version": "3.9.12"
  }
 },
 "nbformat": 4,
 "nbformat_minor": 5
}
