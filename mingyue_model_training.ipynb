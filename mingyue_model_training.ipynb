{
 "cells": [
  {
   "cell_type": "markdown",
   "id": "9f437d38",
   "metadata": {},
   "source": [
    "# prediction on Singapore housing price with linear regression models"
   ]
  },
  {
   "cell_type": "code",
   "execution_count": 1,
   "id": "02958f10",
   "metadata": {},
   "outputs": [],
   "source": [
    "import warnings\n",
    "warnings.filterwarnings(\"ignore\")\n",
    "warnings.simplefilter(action='ignore', category=FutureWarning)\n",
    "\n",
    "import numpy as np\n",
    "import pandas as pd\n",
    "import seaborn as sns\n",
    "import matplotlib.pyplot as plt\n",
    "\n",
    "\n",
    "from sklearn import metrics\n",
    "from sklearn import linear_model\n",
    "from sklearn import preprocessing\n",
    "from sklearn.pipeline import Pipeline\n",
    "from sklearn.kernel_ridge import KernelRidge\n",
    "from sklearn.linear_model import BayesianRidge\n",
    "from sklearn.linear_model import LinearRegression\n",
    "from sklearn.model_selection import train_test_split\n",
    "from sklearn.preprocessing import PolynomialFeatures\n",
    "\n",
    "import utils.preprocess as preprocessor\n"
   ]
  },
  {
   "cell_type": "code",
   "execution_count": 2,
   "id": "265c0386",
   "metadata": {},
   "outputs": [],
   "source": [
    "# reload external python modules; automatically\n",
    "%load_ext autoreload\n",
    "%autoreload 2"
   ]
  },
  {
   "cell_type": "code",
   "execution_count": 18,
   "id": "7c4d4264",
   "metadata": {},
   "outputs": [],
   "source": [
    "# data source\n",
    "train_data_file = './data/train.csv'\n",
    "test_data_file = './data/test.csv'\n"
   ]
  },
  {
   "cell_type": "code",
   "execution_count": 19,
   "id": "2ac43fcc",
   "metadata": {},
   "outputs": [],
   "source": [
    "df_train = pd.read_csv(train_data_file)\n",
    "df_test = pd.read_csv(test_data_file)\n"
   ]
  },
  {
   "cell_type": "code",
   "execution_count": 5,
   "id": "f9b21e49",
   "metadata": {
    "scrolled": true
   },
   "outputs": [
    {
     "data": {
      "text/html": [
       "<div>\n",
       "<style scoped>\n",
       "    .dataframe tbody tr th:only-of-type {\n",
       "        vertical-align: middle;\n",
       "    }\n",
       "\n",
       "    .dataframe tbody tr th {\n",
       "        vertical-align: top;\n",
       "    }\n",
       "\n",
       "    .dataframe thead th {\n",
       "        text-align: right;\n",
       "    }\n",
       "</style>\n",
       "<table border=\"1\" class=\"dataframe\">\n",
       "  <thead>\n",
       "    <tr style=\"text-align: right;\">\n",
       "      <th></th>\n",
       "      <th>listing_id</th>\n",
       "      <th>title</th>\n",
       "      <th>address</th>\n",
       "      <th>property_name</th>\n",
       "      <th>property_type</th>\n",
       "      <th>tenure</th>\n",
       "      <th>built_year</th>\n",
       "      <th>num_beds</th>\n",
       "      <th>num_baths</th>\n",
       "      <th>size_sqft</th>\n",
       "      <th>...</th>\n",
       "      <th>furnishing</th>\n",
       "      <th>available_unit_types</th>\n",
       "      <th>total_num_units</th>\n",
       "      <th>property_details_url</th>\n",
       "      <th>lat</th>\n",
       "      <th>lng</th>\n",
       "      <th>elevation</th>\n",
       "      <th>subzone</th>\n",
       "      <th>planning_area</th>\n",
       "      <th>price</th>\n",
       "    </tr>\n",
       "  </thead>\n",
       "  <tbody>\n",
       "    <tr>\n",
       "      <th>0</th>\n",
       "      <td>122881</td>\n",
       "      <td>hdb flat for sale in 866 yishun street 81</td>\n",
       "      <td>sembawang / yishun (d27)</td>\n",
       "      <td>866 yishun street 81</td>\n",
       "      <td>hdb 4 rooms</td>\n",
       "      <td>NaN</td>\n",
       "      <td>1988.0</td>\n",
       "      <td>3.0</td>\n",
       "      <td>2.0</td>\n",
       "      <td>1115</td>\n",
       "      <td>...</td>\n",
       "      <td>unspecified</td>\n",
       "      <td>NaN</td>\n",
       "      <td>116.0</td>\n",
       "      <td>https://www.99.co/singapore/hdb/866-yishun-str...</td>\n",
       "      <td>1.414399</td>\n",
       "      <td>103.837196</td>\n",
       "      <td>0</td>\n",
       "      <td>yishun south</td>\n",
       "      <td>yishun</td>\n",
       "      <td>514500.0</td>\n",
       "    </tr>\n",
       "    <tr>\n",
       "      <th>1</th>\n",
       "      <td>259374</td>\n",
       "      <td>hdb flat for sale in 506b serangoon north aven...</td>\n",
       "      <td>hougang / punggol / sengkang (d19)</td>\n",
       "      <td>hdb-serangoon estate</td>\n",
       "      <td>hdb</td>\n",
       "      <td>99-year leasehold</td>\n",
       "      <td>1992.0</td>\n",
       "      <td>4.0</td>\n",
       "      <td>2.0</td>\n",
       "      <td>1575</td>\n",
       "      <td>...</td>\n",
       "      <td>unspecified</td>\n",
       "      <td>1, 2, 3, 4, 5, 6 br</td>\n",
       "      <td>NaN</td>\n",
       "      <td>https://www.99.co/singapore/hdb/hdbserangoon-e...</td>\n",
       "      <td>1.372597</td>\n",
       "      <td>103.875625</td>\n",
       "      <td>0</td>\n",
       "      <td>serangoon north</td>\n",
       "      <td>serangoon</td>\n",
       "      <td>995400.0</td>\n",
       "    </tr>\n",
       "    <tr>\n",
       "      <th>2</th>\n",
       "      <td>665422</td>\n",
       "      <td>4 bed condo for sale in meyerhouse</td>\n",
       "      <td>128 meyer road</td>\n",
       "      <td>meyerhouse</td>\n",
       "      <td>condo</td>\n",
       "      <td>freehold</td>\n",
       "      <td>2022.0</td>\n",
       "      <td>4.0</td>\n",
       "      <td>6.0</td>\n",
       "      <td>3070</td>\n",
       "      <td>...</td>\n",
       "      <td>partial</td>\n",
       "      <td>studio, 3, 4, 5, 6 br</td>\n",
       "      <td>56.0</td>\n",
       "      <td>https://www.99.co/singapore/condos-apartments/...</td>\n",
       "      <td>1.298773</td>\n",
       "      <td>103.895798</td>\n",
       "      <td>0</td>\n",
       "      <td>mountbatten</td>\n",
       "      <td>marine parade</td>\n",
       "      <td>8485000.0</td>\n",
       "    </tr>\n",
       "  </tbody>\n",
       "</table>\n",
       "<p>3 rows × 21 columns</p>\n",
       "</div>"
      ],
      "text/plain": [
       "   listing_id                                              title  \\\n",
       "0      122881          hdb flat for sale in 866 yishun street 81   \n",
       "1      259374  hdb flat for sale in 506b serangoon north aven...   \n",
       "2      665422                 4 bed condo for sale in meyerhouse   \n",
       "\n",
       "                              address         property_name property_type  \\\n",
       "0            sembawang / yishun (d27)  866 yishun street 81   hdb 4 rooms   \n",
       "1  hougang / punggol / sengkang (d19)  hdb-serangoon estate           hdb   \n",
       "2                      128 meyer road            meyerhouse         condo   \n",
       "\n",
       "              tenure  built_year  num_beds  num_baths  size_sqft  ...  \\\n",
       "0                NaN      1988.0       3.0        2.0       1115  ...   \n",
       "1  99-year leasehold      1992.0       4.0        2.0       1575  ...   \n",
       "2           freehold      2022.0       4.0        6.0       3070  ...   \n",
       "\n",
       "    furnishing   available_unit_types total_num_units  \\\n",
       "0  unspecified                    NaN           116.0   \n",
       "1  unspecified    1, 2, 3, 4, 5, 6 br             NaN   \n",
       "2      partial  studio, 3, 4, 5, 6 br            56.0   \n",
       "\n",
       "                                property_details_url       lat         lng  \\\n",
       "0  https://www.99.co/singapore/hdb/866-yishun-str...  1.414399  103.837196   \n",
       "1  https://www.99.co/singapore/hdb/hdbserangoon-e...  1.372597  103.875625   \n",
       "2  https://www.99.co/singapore/condos-apartments/...  1.298773  103.895798   \n",
       "\n",
       "   elevation          subzone  planning_area      price  \n",
       "0          0     yishun south         yishun   514500.0  \n",
       "1          0  serangoon north      serangoon   995400.0  \n",
       "2          0      mountbatten  marine parade  8485000.0  \n",
       "\n",
       "[3 rows x 21 columns]"
      ]
     },
     "execution_count": 5,
     "metadata": {},
     "output_type": "execute_result"
    }
   ],
   "source": [
    "df_train.head(3)"
   ]
  },
  {
   "cell_type": "code",
   "execution_count": 6,
   "id": "0dc22889",
   "metadata": {
    "scrolled": true
   },
   "outputs": [
    {
     "data": {
      "text/html": [
       "<div>\n",
       "<style scoped>\n",
       "    .dataframe tbody tr th:only-of-type {\n",
       "        vertical-align: middle;\n",
       "    }\n",
       "\n",
       "    .dataframe tbody tr th {\n",
       "        vertical-align: top;\n",
       "    }\n",
       "\n",
       "    .dataframe thead th {\n",
       "        text-align: right;\n",
       "    }\n",
       "</style>\n",
       "<table border=\"1\" class=\"dataframe\">\n",
       "  <thead>\n",
       "    <tr style=\"text-align: right;\">\n",
       "      <th></th>\n",
       "      <th>listing_id</th>\n",
       "      <th>title</th>\n",
       "      <th>address</th>\n",
       "      <th>property_name</th>\n",
       "      <th>property_type</th>\n",
       "      <th>tenure</th>\n",
       "      <th>built_year</th>\n",
       "      <th>num_beds</th>\n",
       "      <th>num_baths</th>\n",
       "      <th>size_sqft</th>\n",
       "      <th>floor_level</th>\n",
       "      <th>furnishing</th>\n",
       "      <th>available_unit_types</th>\n",
       "      <th>total_num_units</th>\n",
       "      <th>property_details_url</th>\n",
       "      <th>lat</th>\n",
       "      <th>lng</th>\n",
       "      <th>elevation</th>\n",
       "      <th>subzone</th>\n",
       "      <th>planning_area</th>\n",
       "    </tr>\n",
       "  </thead>\n",
       "  <tbody>\n",
       "    <tr>\n",
       "      <th>0</th>\n",
       "      <td>777912</td>\n",
       "      <td>1 bed condo for sale in the gazania</td>\n",
       "      <td>17 how sun drive</td>\n",
       "      <td>the gazania</td>\n",
       "      <td>condo</td>\n",
       "      <td>freehold</td>\n",
       "      <td>2022.0</td>\n",
       "      <td>1.0</td>\n",
       "      <td>1.0</td>\n",
       "      <td>463</td>\n",
       "      <td>NaN</td>\n",
       "      <td>unfurnished</td>\n",
       "      <td>studio, 1, 2, 3, 4, 5 br</td>\n",
       "      <td>250.0</td>\n",
       "      <td>https://www.99.co/singapore/condos-apartments/...</td>\n",
       "      <td>1.344334</td>\n",
       "      <td>103.878690</td>\n",
       "      <td>0</td>\n",
       "      <td>upper paya lebar</td>\n",
       "      <td>serangoon</td>\n",
       "    </tr>\n",
       "    <tr>\n",
       "      <th>1</th>\n",
       "      <td>936612</td>\n",
       "      <td>3 bed condo for sale in vue 8 residence</td>\n",
       "      <td>95 pasir ris heights</td>\n",
       "      <td>vue 8 residence</td>\n",
       "      <td>Condo</td>\n",
       "      <td>99-year leasehold</td>\n",
       "      <td>2017.0</td>\n",
       "      <td>3.0</td>\n",
       "      <td>3.0</td>\n",
       "      <td>1033</td>\n",
       "      <td>high</td>\n",
       "      <td>unspecified</td>\n",
       "      <td>studio, 1, 2, 3, 4, 5 br</td>\n",
       "      <td>463.0</td>\n",
       "      <td>https://www.99.co/singapore/condos-apartments/...</td>\n",
       "      <td>1.380281</td>\n",
       "      <td>103.943878</td>\n",
       "      <td>0</td>\n",
       "      <td>pasir ris west</td>\n",
       "      <td>pasir ris</td>\n",
       "    </tr>\n",
       "    <tr>\n",
       "      <th>2</th>\n",
       "      <td>995264</td>\n",
       "      <td>1 bed condo for sale in icon</td>\n",
       "      <td>10 gopeng street</td>\n",
       "      <td>icon</td>\n",
       "      <td>condo</td>\n",
       "      <td>99-year leasehold</td>\n",
       "      <td>2007.0</td>\n",
       "      <td>1.0</td>\n",
       "      <td>1.0</td>\n",
       "      <td>570</td>\n",
       "      <td>NaN</td>\n",
       "      <td>fully</td>\n",
       "      <td>studio, 1, 2, 3 br</td>\n",
       "      <td>646.0</td>\n",
       "      <td>https://www.99.co/singapore/condos-apartments/...</td>\n",
       "      <td>1.294668</td>\n",
       "      <td>103.850074</td>\n",
       "      <td>0</td>\n",
       "      <td>bras basah</td>\n",
       "      <td>museum</td>\n",
       "    </tr>\n",
       "  </tbody>\n",
       "</table>\n",
       "</div>"
      ],
      "text/plain": [
       "   listing_id                                    title               address  \\\n",
       "0      777912      1 bed condo for sale in the gazania      17 how sun drive   \n",
       "1      936612  3 bed condo for sale in vue 8 residence  95 pasir ris heights   \n",
       "2      995264             1 bed condo for sale in icon      10 gopeng street   \n",
       "\n",
       "     property_name property_type             tenure  built_year  num_beds  \\\n",
       "0      the gazania         condo           freehold      2022.0       1.0   \n",
       "1  vue 8 residence         Condo  99-year leasehold      2017.0       3.0   \n",
       "2             icon         condo  99-year leasehold      2007.0       1.0   \n",
       "\n",
       "   num_baths  size_sqft floor_level   furnishing      available_unit_types  \\\n",
       "0        1.0        463         NaN  unfurnished  studio, 1, 2, 3, 4, 5 br   \n",
       "1        3.0       1033        high  unspecified  studio, 1, 2, 3, 4, 5 br   \n",
       "2        1.0        570         NaN        fully        studio, 1, 2, 3 br   \n",
       "\n",
       "   total_num_units                               property_details_url  \\\n",
       "0            250.0  https://www.99.co/singapore/condos-apartments/...   \n",
       "1            463.0  https://www.99.co/singapore/condos-apartments/...   \n",
       "2            646.0  https://www.99.co/singapore/condos-apartments/...   \n",
       "\n",
       "        lat         lng  elevation           subzone planning_area  \n",
       "0  1.344334  103.878690          0  upper paya lebar     serangoon  \n",
       "1  1.380281  103.943878          0    pasir ris west     pasir ris  \n",
       "2  1.294668  103.850074          0        bras basah        museum  "
      ]
     },
     "execution_count": 6,
     "metadata": {},
     "output_type": "execute_result"
    }
   ],
   "source": [
    "df_test.head(3)"
   ]
  },
  {
   "cell_type": "markdown",
   "id": "7281926f",
   "metadata": {},
   "source": []
  },
  {
   "cell_type": "markdown",
   "id": "7262891b",
   "metadata": {},
   "source": [
    "### data preprocessing to process outliers and missing values"
   ]
  },
  {
   "cell_type": "code",
   "execution_count": 20,
   "id": "2c866788",
   "metadata": {
    "scrolled": false
   },
   "outputs": [
    {
     "name": "stdout",
     "output_type": "stream",
     "text": [
      "99          13040\n",
      "freehold     6737\n",
      "999           476\n",
      "Name: tenure, dtype: int64\n",
      "na number of tenure column is 1\n",
      "2023.0    2244\n",
      "2025.0    1612\n",
      "2024.0    1554\n",
      "2017.0    1223\n",
      "2022.0    1212\n",
      "          ... \n",
      "1991.0      37\n",
      "1971.0      34\n",
      "2028.0      31\n",
      "1963.0       9\n",
      "1968.0       6\n",
      "Name: built_year, Length: 63, dtype: int64\n",
      "na number of built_year column is 0\n"
     ]
    }
   ],
   "source": [
    "# preprocessing training data\n",
    "# lat and lng\n",
    "preprocessor.fix_abnormal_geo_location(df_train)\n",
    "# subzone\n",
    "preprocessor.map_subzone_by_geo_location_knn(df_train)\n",
    "# tenure & built_year\n",
    "preprocessor.universalize_tenure(df_train)\n",
    "preprocessor.normalize_tenure(df_train)\n",
    "preprocessor.fillna_by_grouping(df_train, 'tenure', 'property_name')\n",
    "preprocessor.fillna_by_grouping(df_train, 'built_year', 'property_name')\n",
    "preprocessor.handle_years_and_tenure_nan(df_train, 'tenure')\n",
    "preprocessor.handle_years_and_tenure_nan(df_train, 'built_year')\n",
    "# num_beds and baths\n",
    "preprocessor.process_num_beds_and_baths(df_train)\n",
    "# property_type\n",
    "preprocessor.process_property_type(df_train)\n",
    "# size_sqft\n",
    "preprocessor.df_process_size_sqft(df_train)\n",
    "# price\n",
    "preprocessor.df_process_price(df_train)\n",
    "\n",
    "#### tenure still has a nan value after processing"
   ]
  },
  {
   "cell_type": "code",
   "execution_count": 21,
   "id": "4f35618d",
   "metadata": {},
   "outputs": [
    {
     "name": "stdout",
     "output_type": "stream",
     "text": [
      "99          4444\n",
      "freehold    2339\n",
      "999          183\n",
      "Name: tenure, dtype: int64\n",
      "na number of tenure column is 0\n",
      "2023.0    775\n",
      "2024.0    529\n",
      "2025.0    506\n",
      "2017.0    426\n",
      "2026.0    424\n",
      "         ... \n",
      "1967.0     12\n",
      "2028.0     11\n",
      "1971.0      8\n",
      "1968.0      7\n",
      "1963.0      3\n",
      "Name: built_year, Length: 63, dtype: int64\n",
      "na number of built_year column is 0\n"
     ]
    }
   ],
   "source": [
    "# preprocessing testing data\n",
    "# lat and lng\n",
    "preprocessor.fix_abnormal_geo_location(df_test)\n",
    "# subzone\n",
    "preprocessor.map_subzone_by_geo_location_knn(df_test)\n",
    "# tenure & built_year\n",
    "preprocessor.universalize_tenure(df_test)\n",
    "preprocessor.normalize_tenure(df_test)\n",
    "preprocessor.fillna_by_grouping(df_test, 'tenure', 'property_name')\n",
    "preprocessor.fillna_by_grouping(df_test, 'built_year', 'property_name')\n",
    "preprocessor.handle_years_and_tenure_nan(df_test, 'tenure')\n",
    "preprocessor.handle_years_and_tenure_nan(df_test, 'built_year')\n",
    "# num_beds and baths\n",
    "preprocessor.process_num_beds_and_baths(df_test)\n",
    "# property_type\n",
    "preprocessor.process_property_type(df_test)\n",
    "# sizeq_sqft\n",
    "preprocessor.df_process_size_sqft(df_test)\n"
   ]
  },
  {
   "cell_type": "code",
   "execution_count": 22,
   "id": "a06290d2",
   "metadata": {},
   "outputs": [],
   "source": [
    "drop_columns = [\n",
    "    \"listing_id\", \n",
    "    \"title\", \n",
    "    \"address\", \n",
    "    \"property_name\",\n",
    "    \"floor_level\", \n",
    "    \"elevation\", \n",
    "    \"planning_area\", \n",
    "    \"available_unit_types\", \n",
    "    \"total_num_units\", \n",
    "    \"furnishing\", \n",
    "    \"available_unit_types\", \n",
    "    \"property_details_url\"\n",
    "]\n",
    "\n",
    "df_train.drop(columns=drop_columns, inplace=True)\n",
    "df_test.drop(columns=drop_columns, inplace=True)\n"
   ]
  },
  {
   "cell_type": "code",
   "execution_count": 10,
   "id": "92611a0d",
   "metadata": {},
   "outputs": [
    {
     "data": {
      "text/html": [
       "<div>\n",
       "<style scoped>\n",
       "    .dataframe tbody tr th:only-of-type {\n",
       "        vertical-align: middle;\n",
       "    }\n",
       "\n",
       "    .dataframe tbody tr th {\n",
       "        vertical-align: top;\n",
       "    }\n",
       "\n",
       "    .dataframe thead th {\n",
       "        text-align: right;\n",
       "    }\n",
       "</style>\n",
       "<table border=\"1\" class=\"dataframe\">\n",
       "  <thead>\n",
       "    <tr style=\"text-align: right;\">\n",
       "      <th></th>\n",
       "      <th>property_type</th>\n",
       "      <th>tenure</th>\n",
       "      <th>built_year</th>\n",
       "      <th>num_beds</th>\n",
       "      <th>num_baths</th>\n",
       "      <th>size_sqft</th>\n",
       "      <th>lat</th>\n",
       "      <th>lng</th>\n",
       "      <th>subzone</th>\n",
       "      <th>price</th>\n",
       "    </tr>\n",
       "  </thead>\n",
       "  <tbody>\n",
       "    <tr>\n",
       "      <th>51</th>\n",
       "      <td>condo</td>\n",
       "      <td>freehold</td>\n",
       "      <td>2025.0</td>\n",
       "      <td>4.0</td>\n",
       "      <td>3.0</td>\n",
       "      <td>1313.0</td>\n",
       "      <td>1.313628</td>\n",
       "      <td>103.883109</td>\n",
       "      <td>aljunied</td>\n",
       "      <td>2274800.0</td>\n",
       "    </tr>\n",
       "    <tr>\n",
       "      <th>1609</th>\n",
       "      <td>condo</td>\n",
       "      <td>freehold</td>\n",
       "      <td>2025.0</td>\n",
       "      <td>4.0</td>\n",
       "      <td>3.0</td>\n",
       "      <td>1302.0</td>\n",
       "      <td>1.313628</td>\n",
       "      <td>103.883109</td>\n",
       "      <td>aljunied</td>\n",
       "      <td>2100000.0</td>\n",
       "    </tr>\n",
       "    <tr>\n",
       "      <th>6882</th>\n",
       "      <td>condo</td>\n",
       "      <td>freehold</td>\n",
       "      <td>2025.0</td>\n",
       "      <td>4.0</td>\n",
       "      <td>3.0</td>\n",
       "      <td>1302.0</td>\n",
       "      <td>1.313628</td>\n",
       "      <td>103.883109</td>\n",
       "      <td>aljunied</td>\n",
       "      <td>2100000.0</td>\n",
       "    </tr>\n",
       "  </tbody>\n",
       "</table>\n",
       "</div>"
      ],
      "text/plain": [
       "     property_type    tenure  built_year  num_beds  num_baths  size_sqft  \\\n",
       "51           condo  freehold      2025.0       4.0        3.0     1313.0   \n",
       "1609         condo  freehold      2025.0       4.0        3.0     1302.0   \n",
       "6882         condo  freehold      2025.0       4.0        3.0     1302.0   \n",
       "\n",
       "           lat         lng   subzone      price  \n",
       "51    1.313628  103.883109  aljunied  2274800.0  \n",
       "1609  1.313628  103.883109  aljunied  2100000.0  \n",
       "6882  1.313628  103.883109  aljunied  2100000.0  "
      ]
     },
     "execution_count": 10,
     "metadata": {},
     "output_type": "execute_result"
    }
   ],
   "source": [
    "df_train.head(3)"
   ]
  },
  {
   "cell_type": "code",
   "execution_count": 11,
   "id": "85777146",
   "metadata": {},
   "outputs": [
    {
     "data": {
      "text/html": [
       "<div>\n",
       "<style scoped>\n",
       "    .dataframe tbody tr th:only-of-type {\n",
       "        vertical-align: middle;\n",
       "    }\n",
       "\n",
       "    .dataframe tbody tr th {\n",
       "        vertical-align: top;\n",
       "    }\n",
       "\n",
       "    .dataframe thead th {\n",
       "        text-align: right;\n",
       "    }\n",
       "</style>\n",
       "<table border=\"1\" class=\"dataframe\">\n",
       "  <thead>\n",
       "    <tr style=\"text-align: right;\">\n",
       "      <th></th>\n",
       "      <th>property_type</th>\n",
       "      <th>tenure</th>\n",
       "      <th>built_year</th>\n",
       "      <th>num_beds</th>\n",
       "      <th>num_baths</th>\n",
       "      <th>size_sqft</th>\n",
       "      <th>lat</th>\n",
       "      <th>lng</th>\n",
       "      <th>subzone</th>\n",
       "    </tr>\n",
       "  </thead>\n",
       "  <tbody>\n",
       "    <tr>\n",
       "      <th>118</th>\n",
       "      <td>condo</td>\n",
       "      <td>freehold</td>\n",
       "      <td>2025.0</td>\n",
       "      <td>4.0</td>\n",
       "      <td>3.0</td>\n",
       "      <td>1195.0</td>\n",
       "      <td>1.313628</td>\n",
       "      <td>103.883109</td>\n",
       "      <td>aljunied</td>\n",
       "    </tr>\n",
       "    <tr>\n",
       "      <th>3651</th>\n",
       "      <td>condo</td>\n",
       "      <td>freehold</td>\n",
       "      <td>2025.0</td>\n",
       "      <td>3.0</td>\n",
       "      <td>3.0</td>\n",
       "      <td>1023.0</td>\n",
       "      <td>1.313628</td>\n",
       "      <td>103.883109</td>\n",
       "      <td>aljunied</td>\n",
       "    </tr>\n",
       "    <tr>\n",
       "      <th>3378</th>\n",
       "      <td>condo</td>\n",
       "      <td>freehold</td>\n",
       "      <td>2025.0</td>\n",
       "      <td>3.0</td>\n",
       "      <td>2.0</td>\n",
       "      <td>1023.0</td>\n",
       "      <td>1.313628</td>\n",
       "      <td>103.883109</td>\n",
       "      <td>aljunied</td>\n",
       "    </tr>\n",
       "  </tbody>\n",
       "</table>\n",
       "</div>"
      ],
      "text/plain": [
       "     property_type    tenure  built_year  num_beds  num_baths  size_sqft  \\\n",
       "118          condo  freehold      2025.0       4.0        3.0     1195.0   \n",
       "3651         condo  freehold      2025.0       3.0        3.0     1023.0   \n",
       "3378         condo  freehold      2025.0       3.0        2.0     1023.0   \n",
       "\n",
       "           lat         lng   subzone  \n",
       "118   1.313628  103.883109  aljunied  \n",
       "3651  1.313628  103.883109  aljunied  \n",
       "3378  1.313628  103.883109  aljunied  "
      ]
     },
     "execution_count": 11,
     "metadata": {},
     "output_type": "execute_result"
    }
   ],
   "source": [
    "df_test.head(3)"
   ]
  },
  {
   "cell_type": "markdown",
   "id": "9cf84221",
   "metadata": {},
   "source": []
  },
  {
   "cell_type": "markdown",
   "id": "ad14e98a",
   "metadata": {},
   "source": [
    "# train models"
   ]
  },
  {
   "cell_type": "markdown",
   "id": "cdf2e1a8",
   "metadata": {},
   "source": [
    "### split train and test data"
   ]
  },
  {
   "cell_type": "code",
   "execution_count": 23,
   "id": "38106786",
   "metadata": {
    "scrolled": true
   },
   "outputs": [],
   "source": [
    "# drop tenure == nan\n",
    "df_train = df_train.drop(index=0)"
   ]
  },
  {
   "cell_type": "code",
   "execution_count": 24,
   "id": "f7c21b2f",
   "metadata": {},
   "outputs": [],
   "source": [
    "# get all object and float attributes\n",
    "object_atts = df_train.select_dtypes('object').columns.to_list()\n",
    "object_atts.remove('property_type')\n",
    "float_atts = df_train.select_dtypes('float').columns.to_list()\n"
   ]
  },
  {
   "cell_type": "code",
   "execution_count": 31,
   "id": "e6803a17",
   "metadata": {},
   "outputs": [],
   "source": [
    "# encoding object attributes first and then calculate sqft_price after splitting train_test_data\n",
    "\n",
    "# df_train_encoding = pd.get_dummies(df_train[object_atts])\n",
    "# df_train_encoding[float_atts] = df_train[float_atts]\n",
    "# df_train_encoding['property_type'] = df_train['property_type']\n"
   ]
  },
  {
   "cell_type": "code",
   "execution_count": 35,
   "id": "45577a5d",
   "metadata": {},
   "outputs": [],
   "source": [
    "# df_train_encoding, df_test_encoding = train_test_split(df_train_encoding, test_size = 0.1, random_state = 42)\n",
    "\n",
    "df_train_9, df_test_1 = train_test_split(df_train, test_size = 0.1, random_state = 42)\n"
   ]
  },
  {
   "cell_type": "code",
   "execution_count": 38,
   "id": "a3c7c10b",
   "metadata": {
    "scrolled": true
   },
   "outputs": [],
   "source": [
    "# encoding for train data\n",
    "df_train_encoding = pd.get_dummies(df_train_9[['tenure']])\n",
    "df_train_encoding[float_atts] = df_train_9[float_atts]\n",
    "df_train_encoding['property_type'] = df_train_9['property_type']\n",
    "df_train_encoding['subzone'] = df_train_9['subzone']\n",
    "\n",
    "# encoding for property_type\n",
    "sqft_price_train = df_train_encoding.groupby(['property_type'])['price'].sum() / df_train_encoding.groupby(['property_type'])['size_sqft'].sum()\n",
    "sqft_price_train = sqft_price_train.to_frame(name='sqft_price')\n",
    "\n",
    "df_train_encoding = df_train_encoding.join(sqft_price_train, on='property_type')\n",
    "\n",
    "\n",
    "# encoding for subzone\n",
    "sqft_subzone_train = df_train_encoding.groupby(['subzone'])['price'].sum() / df_train_encoding.groupby(['subzone'])['size_sqft'].sum()\n",
    "sqft_subzone_train = sqft_subzone_train.to_frame(name='sqft_subzone')\n",
    "\n",
    "df_train_encoding = df_train_encoding.join(sqft_subzone_train, on='subzone')\n",
    "\n",
    "\n",
    "\n",
    "# encoding for subzone and property_type\n",
    "sqft_subzone_type_train = df_train_encoding.groupby(['subzone', 'property_type'])['price'].sum() / df_train_encoding.groupby(['subzone', 'property_type'])['size_sqft'].sum()\n",
    "sqft_subzone_type_train = sqft_subzone_type_train.to_frame(name='sqft_subzone_type')\n",
    "\n",
    "df_train_encoding = df_train_encoding.join(sqft_subzone_type_train, on=['subzone','property_type'])\n",
    "\n",
    "\n",
    "df_train_encoding = df_train_encoding.drop(['property_type'], axis=1)\n",
    "df_train_encoding = df_train_encoding.drop(['subzone'], axis=1)\n",
    "\n"
   ]
  },
  {
   "cell_type": "code",
   "execution_count": 39,
   "id": "8574e05f",
   "metadata": {},
   "outputs": [],
   "source": [
    "# encoding for test data\n",
    "df_test_encoding = pd.get_dummies(df_test_1[['tenure']])\n",
    "df_test_encoding[float_atts] = df_test_1[float_atts]\n",
    "df_test_encoding['property_type'] = df_test_1['property_type']\n",
    "df_test_encoding['subzone'] = df_test_1['subzone']\n",
    "\n",
    "# encoding for property_type\n",
    "sqft_price_test = df_test_encoding.groupby(['property_type'])['price'].sum() / df_test_encoding.groupby(['property_type'])['size_sqft'].sum()\n",
    "sqft_price_test = sqft_price_test.to_frame(name='sqft_price')\n",
    "\n",
    "df_test_encoding = df_test_encoding.join(sqft_price_test, on='property_type')\n",
    "\n",
    "\n",
    "# encoding for subzone\n",
    "sqft_subzone_test = df_test_encoding.groupby(['subzone'])['price'].sum() / df_test_encoding.groupby(['subzone'])['size_sqft'].sum()\n",
    "sqft_subzone_test = sqft_subzone_test.to_frame(name='sqft_subzone')\n",
    "\n",
    "df_test_encoding = df_test_encoding.join(sqft_subzone_test, on='subzone')\n",
    "\n",
    "\n",
    "# encoding for subzone and property_type\n",
    "sqft_subzone_type_test = df_test_encoding.groupby(['subzone', 'property_type'])['price'].sum() / df_test_encoding.groupby(['subzone', 'property_type'])['size_sqft'].sum()\n",
    "sqft_subzone_type_test = sqft_subzone_type_test.to_frame(name='sqft_subzone_type')\n",
    "\n",
    "df_test_encoding = df_test_encoding.join(sqft_subzone_type_test, on=['subzone','property_type'])\n",
    "\n",
    "\n",
    "df_test_encoding = df_test_encoding.drop(['property_type'], axis=1)\n",
    "df_test_encoding = df_test_encoding.drop(['subzone'], axis=1)\n"
   ]
  },
  {
   "cell_type": "code",
   "execution_count": 40,
   "id": "aa2b4613",
   "metadata": {},
   "outputs": [],
   "source": [
    "# split attributes and predict\n",
    "all_X_att_train = df_train_encoding.columns.to_list()\n",
    "all_X_att_train.remove('price')\n",
    "all_X_att_test = df_test_encoding.columns.to_list()\n",
    "all_X_att_test.remove('price')\n",
    "X_train, X_test, y_train, y_test = df_train_encoding[all_X_att_train], df_test_encoding[all_X_att_test], df_train_encoding['price'], df_test_encoding['price']\n"
   ]
  },
  {
   "cell_type": "code",
   "execution_count": 95,
   "id": "ed8c1482",
   "metadata": {},
   "outputs": [
    {
     "data": {
      "text/plain": [
       "array(['condo', 'apartment', 'hdb', 'terraced house', 'corner terrace',\n",
       "       'semi-detached house', 'executive condo', 'bungalow',\n",
       "       'cluster house', 'landed', 'good class bungalow', 'walk-up',\n",
       "       'townhouse', 'land only', 'conservation house', 'shophouse'],\n",
       "      dtype=object)"
      ]
     },
     "execution_count": 95,
     "metadata": {},
     "output_type": "execute_result"
    }
   ],
   "source": [
    "df_train['property_type'].unique()"
   ]
  },
  {
   "cell_type": "code",
   "execution_count": 93,
   "id": "38334782",
   "metadata": {},
   "outputs": [
    {
     "data": {
      "text/html": [
       "<div>\n",
       "<style scoped>\n",
       "    .dataframe tbody tr th:only-of-type {\n",
       "        vertical-align: middle;\n",
       "    }\n",
       "\n",
       "    .dataframe tbody tr th {\n",
       "        vertical-align: top;\n",
       "    }\n",
       "\n",
       "    .dataframe thead th {\n",
       "        text-align: right;\n",
       "    }\n",
       "</style>\n",
       "<table border=\"1\" class=\"dataframe\">\n",
       "  <thead>\n",
       "    <tr style=\"text-align: right;\">\n",
       "      <th></th>\n",
       "      <th>tenure_99</th>\n",
       "      <th>tenure_999</th>\n",
       "      <th>tenure_freehold</th>\n",
       "      <th>built_year</th>\n",
       "      <th>num_beds</th>\n",
       "      <th>num_baths</th>\n",
       "      <th>size_sqft</th>\n",
       "      <th>lat</th>\n",
       "      <th>lng</th>\n",
       "      <th>sqft_price</th>\n",
       "      <th>sqft_subzone</th>\n",
       "      <th>sqft_subzone_type</th>\n",
       "    </tr>\n",
       "  </thead>\n",
       "  <tbody>\n",
       "    <tr>\n",
       "      <th>17107</th>\n",
       "      <td>1</td>\n",
       "      <td>0</td>\n",
       "      <td>0</td>\n",
       "      <td>2023.0</td>\n",
       "      <td>3.0</td>\n",
       "      <td>2.0</td>\n",
       "      <td>947.0</td>\n",
       "      <td>1.304855</td>\n",
       "      <td>103.773776</td>\n",
       "      <td>2558.257118</td>\n",
       "      <td>1972.070638</td>\n",
       "      <td>2149.816294</td>\n",
       "    </tr>\n",
       "    <tr>\n",
       "      <th>7820</th>\n",
       "      <td>1</td>\n",
       "      <td>0</td>\n",
       "      <td>0</td>\n",
       "      <td>1982.0</td>\n",
       "      <td>3.0</td>\n",
       "      <td>2.0</td>\n",
       "      <td>979.0</td>\n",
       "      <td>1.318843</td>\n",
       "      <td>103.886524</td>\n",
       "      <td>1302.578439</td>\n",
       "      <td>1269.877946</td>\n",
       "      <td>663.837708</td>\n",
       "    </tr>\n",
       "    <tr>\n",
       "      <th>4604</th>\n",
       "      <td>1</td>\n",
       "      <td>0</td>\n",
       "      <td>0</td>\n",
       "      <td>1992.0</td>\n",
       "      <td>4.0</td>\n",
       "      <td>2.0</td>\n",
       "      <td>1550.0</td>\n",
       "      <td>1.368459</td>\n",
       "      <td>103.953651</td>\n",
       "      <td>1302.578439</td>\n",
       "      <td>1181.698040</td>\n",
       "      <td>615.715291</td>\n",
       "    </tr>\n",
       "    <tr>\n",
       "      <th>7902</th>\n",
       "      <td>0</td>\n",
       "      <td>0</td>\n",
       "      <td>1</td>\n",
       "      <td>1978.0</td>\n",
       "      <td>6.0</td>\n",
       "      <td>4.0</td>\n",
       "      <td>2669.0</td>\n",
       "      <td>1.319009</td>\n",
       "      <td>103.778489</td>\n",
       "      <td>2558.257118</td>\n",
       "      <td>2085.946788</td>\n",
       "      <td>1562.621574</td>\n",
       "    </tr>\n",
       "    <tr>\n",
       "      <th>2535</th>\n",
       "      <td>1</td>\n",
       "      <td>0</td>\n",
       "      <td>0</td>\n",
       "      <td>2016.0</td>\n",
       "      <td>2.0</td>\n",
       "      <td>1.0</td>\n",
       "      <td>624.0</td>\n",
       "      <td>1.365332</td>\n",
       "      <td>103.771484</td>\n",
       "      <td>2558.257118</td>\n",
       "      <td>1411.354720</td>\n",
       "      <td>1566.096465</td>\n",
       "    </tr>\n",
       "    <tr>\n",
       "      <th>...</th>\n",
       "      <td>...</td>\n",
       "      <td>...</td>\n",
       "      <td>...</td>\n",
       "      <td>...</td>\n",
       "      <td>...</td>\n",
       "      <td>...</td>\n",
       "      <td>...</td>\n",
       "      <td>...</td>\n",
       "      <td>...</td>\n",
       "      <td>...</td>\n",
       "      <td>...</td>\n",
       "      <td>...</td>\n",
       "    </tr>\n",
       "    <tr>\n",
       "      <th>10367</th>\n",
       "      <td>0</td>\n",
       "      <td>0</td>\n",
       "      <td>1</td>\n",
       "      <td>2025.0</td>\n",
       "      <td>2.0</td>\n",
       "      <td>2.0</td>\n",
       "      <td>829.0</td>\n",
       "      <td>1.310184</td>\n",
       "      <td>103.835914</td>\n",
       "      <td>2558.257118</td>\n",
       "      <td>4186.231664</td>\n",
       "      <td>4194.587257</td>\n",
       "    </tr>\n",
       "    <tr>\n",
       "      <th>10742</th>\n",
       "      <td>1</td>\n",
       "      <td>0</td>\n",
       "      <td>0</td>\n",
       "      <td>1993.0</td>\n",
       "      <td>3.0</td>\n",
       "      <td>2.0</td>\n",
       "      <td>1700.0</td>\n",
       "      <td>1.336077</td>\n",
       "      <td>103.735642</td>\n",
       "      <td>2558.257118</td>\n",
       "      <td>561.340118</td>\n",
       "      <td>1235.294118</td>\n",
       "    </tr>\n",
       "    <tr>\n",
       "      <th>7788</th>\n",
       "      <td>1</td>\n",
       "      <td>0</td>\n",
       "      <td>0</td>\n",
       "      <td>2016.0</td>\n",
       "      <td>4.0</td>\n",
       "      <td>3.0</td>\n",
       "      <td>1271.0</td>\n",
       "      <td>1.376468</td>\n",
       "      <td>103.958384</td>\n",
       "      <td>1253.564416</td>\n",
       "      <td>1073.827128</td>\n",
       "      <td>1201.333747</td>\n",
       "    </tr>\n",
       "    <tr>\n",
       "      <th>11132</th>\n",
       "      <td>0</td>\n",
       "      <td>0</td>\n",
       "      <td>1</td>\n",
       "      <td>2024.0</td>\n",
       "      <td>3.0</td>\n",
       "      <td>3.0</td>\n",
       "      <td>1152.0</td>\n",
       "      <td>1.326012</td>\n",
       "      <td>103.850063</td>\n",
       "      <td>2558.257118</td>\n",
       "      <td>1444.775732</td>\n",
       "      <td>2018.038371</td>\n",
       "    </tr>\n",
       "    <tr>\n",
       "      <th>12342</th>\n",
       "      <td>1</td>\n",
       "      <td>0</td>\n",
       "      <td>0</td>\n",
       "      <td>2001.0</td>\n",
       "      <td>3.0</td>\n",
       "      <td>2.0</td>\n",
       "      <td>1184.0</td>\n",
       "      <td>1.388702</td>\n",
       "      <td>103.893653</td>\n",
       "      <td>1302.578439</td>\n",
       "      <td>43336.669261</td>\n",
       "      <td>46856.503123</td>\n",
       "    </tr>\n",
       "  </tbody>\n",
       "</table>\n",
       "<p>18136 rows × 12 columns</p>\n",
       "</div>"
      ],
      "text/plain": [
       "       tenure_99  tenure_999  tenure_freehold  built_year  num_beds  \\\n",
       "17107          1           0                0      2023.0       3.0   \n",
       "7820           1           0                0      1982.0       3.0   \n",
       "4604           1           0                0      1992.0       4.0   \n",
       "7902           0           0                1      1978.0       6.0   \n",
       "2535           1           0                0      2016.0       2.0   \n",
       "...          ...         ...              ...         ...       ...   \n",
       "10367          0           0                1      2025.0       2.0   \n",
       "10742          1           0                0      1993.0       3.0   \n",
       "7788           1           0                0      2016.0       4.0   \n",
       "11132          0           0                1      2024.0       3.0   \n",
       "12342          1           0                0      2001.0       3.0   \n",
       "\n",
       "       num_baths  size_sqft       lat         lng   sqft_price  sqft_subzone  \\\n",
       "17107        2.0      947.0  1.304855  103.773776  2558.257118   1972.070638   \n",
       "7820         2.0      979.0  1.318843  103.886524  1302.578439   1269.877946   \n",
       "4604         2.0     1550.0  1.368459  103.953651  1302.578439   1181.698040   \n",
       "7902         4.0     2669.0  1.319009  103.778489  2558.257118   2085.946788   \n",
       "2535         1.0      624.0  1.365332  103.771484  2558.257118   1411.354720   \n",
       "...          ...        ...       ...         ...          ...           ...   \n",
       "10367        2.0      829.0  1.310184  103.835914  2558.257118   4186.231664   \n",
       "10742        2.0     1700.0  1.336077  103.735642  2558.257118    561.340118   \n",
       "7788         3.0     1271.0  1.376468  103.958384  1253.564416   1073.827128   \n",
       "11132        3.0     1152.0  1.326012  103.850063  2558.257118   1444.775732   \n",
       "12342        2.0     1184.0  1.388702  103.893653  1302.578439  43336.669261   \n",
       "\n",
       "       sqft_subzone_type  \n",
       "17107        2149.816294  \n",
       "7820          663.837708  \n",
       "4604          615.715291  \n",
       "7902         1562.621574  \n",
       "2535         1566.096465  \n",
       "...                  ...  \n",
       "10367        4194.587257  \n",
       "10742        1235.294118  \n",
       "7788         1201.333747  \n",
       "11132        2018.038371  \n",
       "12342       46856.503123  \n",
       "\n",
       "[18136 rows x 12 columns]"
      ]
     },
     "execution_count": 93,
     "metadata": {},
     "output_type": "execute_result"
    }
   ],
   "source": [
    "X_train"
   ]
  },
  {
   "cell_type": "code",
   "execution_count": null,
   "id": "8b1a1440",
   "metadata": {},
   "outputs": [],
   "source": []
  },
  {
   "cell_type": "markdown",
   "id": "a49a49b6",
   "metadata": {},
   "source": []
  },
  {
   "cell_type": "markdown",
   "id": "d86dcb9b",
   "metadata": {},
   "source": [
    "### train linear regression model"
   ]
  },
  {
   "cell_type": "code",
   "execution_count": 41,
   "id": "ace81302",
   "metadata": {
    "scrolled": true
   },
   "outputs": [],
   "source": [
    "regressor = LinearRegression()\n",
    "regressor.fit(\n",
    "    X=X_train,\n",
    "    y=y_train,\n",
    ")\n",
    "y_hat_train = regressor.predict(X_train)\n",
    "y_hat_test = regressor.predict(X_test)"
   ]
  },
  {
   "cell_type": "markdown",
   "id": "412e1879",
   "metadata": {},
   "source": [
    "### evaluate linear regression model"
   ]
  },
  {
   "cell_type": "code",
   "execution_count": 42,
   "id": "cda5566f",
   "metadata": {},
   "outputs": [
    {
     "name": "stdout",
     "output_type": "stream",
     "text": [
      "train_MAE:  3243682.6575733684\n",
      "train_MSE:  847784135951626.4\n",
      "train_RMSE:  29116732.92029218\n",
      "score_train:  0.04298367923191171\n",
      "test_MAE:  2766582.7689078064\n",
      "test_MSE:  18072868289759.78\n",
      "test_RMSE:  4251219.623797362\n",
      "score_test:  0.08201127242747108\n"
     ]
    }
   ],
   "source": [
    "# calculate MAE, MSE, RMSE for train_data\n",
    "print('train_MAE: ', metrics.mean_absolute_error(y_hat_train, y_train))\n",
    "print('train_MSE: ', metrics.mean_squared_error(y_hat_train, y_train))\n",
    "print('train_RMSE: ', np.sqrt(metrics.mean_squared_error(y_hat_train, y_train)))\n",
    "print('score_train: ', regressor.score(X_train, y_train))\n",
    "\n",
    "# calculate MAE, MSE, RMSE for test_data\n",
    "print('test_MAE: ', metrics.mean_absolute_error(y_hat_test, y_test))\n",
    "print('test_MSE: ', metrics.mean_squared_error(y_hat_test, y_test))\n",
    "print('test_RMSE: ', np.sqrt(metrics.mean_squared_error(y_hat_test, y_test)))\n",
    "print('score_test: ', regressor.score(X_test, y_test))\n"
   ]
  },
  {
   "cell_type": "code",
   "execution_count": 89,
   "id": "e84fbc7f",
   "metadata": {},
   "outputs": [
    {
     "data": {
      "image/png": "[encoded data removed]",
      "text/plain": [
       "<Figure size 1000x400 with 2 Axes>"
      ]
     },
     "metadata": {},
     "output_type": "display_data"
    }
   ],
   "source": [
    "outputs = 'price'\n",
    "fig, ax = plt.subplots(1, 2, figsize=(10, 4))\n",
    "\n",
    "sns.scatterplot(\n",
    "    x=y_train.ravel(),\n",
    "    y=y_hat_train,\n",
    "    ax=ax[0],\n",
    "    alpha=0.5,\n",
    ")\n",
    "\n",
    "sns.scatterplot(\n",
    "    x=y_test.ravel(),\n",
    "    y=y_hat_test,\n",
    "    ax=ax[1],\n",
    "    alpha=0.5,\n",
    ")\n",
    "\n",
    "for a in ax:\n",
    "    a.set_xlabel(f'{outputs} (true)')\n",
    "    a.set_ylabel(f'{outputs} (predict)')\n",
    "    a.plot(a.get_ylim(), a.get_ylim(), ls='--', c='k')\n",
    "\n",
    "\n",
    "    \n",
    "ax[0].set_title('Train set')\n",
    "ax[1].set_title('Test set')\n",
    "\n",
    "fig.tight_layout()"
   ]
  },
  {
   "cell_type": "markdown",
   "id": "8b571f19",
   "metadata": {},
   "source": []
  },
  {
   "cell_type": "markdown",
   "id": "552a3975",
   "metadata": {},
   "source": [
    "### train kernel ridge regression model"
   ]
  },
  {
   "cell_type": "code",
   "execution_count": 44,
   "id": "87348a38",
   "metadata": {},
   "outputs": [],
   "source": [
    "kernel_model = KernelRidge(alpha=1.0, kernel='linear')\n",
    "kernel_model.fit(X_train, y_train)\n",
    "y_hat_train_linear = kernel_model.predict(X_train)\n",
    "y_hat_test_linear = kernel_model.predict(X_test)"
   ]
  },
  {
   "cell_type": "markdown",
   "id": "2aea2962",
   "metadata": {},
   "source": [
    "### evaluate kernel ridge regression model"
   ]
  },
  {
   "cell_type": "code",
   "execution_count": 45,
   "id": "2cabd333",
   "metadata": {},
   "outputs": [
    {
     "name": "stdout",
     "output_type": "stream",
     "text": [
      "train_MAE:  3238749.1420379356\n",
      "train_MSE:  847853071601187.6\n",
      "train_RMSE:  29117916.67687075\n",
      "score_train:  0.04298367923191171\n",
      "test_MAE:  2743667.6805555555\n",
      "test_MSE:  18029697623947.63\n",
      "test_RMSE:  4246139.143262692\n",
      "score_test:  0.08201127242747108\n"
     ]
    }
   ],
   "source": [
    "# calculate MAE, MSE, RMSE for train_data\n",
    "print('train_MAE: ', metrics.mean_absolute_error(y_hat_train_linear, y_train))\n",
    "print('train_MSE: ', metrics.mean_squared_error(y_hat_train_linear, y_train))\n",
    "print('train_RMSE: ', np.sqrt(metrics.mean_squared_error(y_hat_train_linear, y_train)))\n",
    "print('score_train: ', regressor.score(X_train, y_train))\n",
    "\n",
    "# calculate MAE, MSE, RMSE for test_data\n",
    "print('test_MAE: ', metrics.mean_absolute_error(y_hat_test_linear, y_test))\n",
    "print('test_MSE: ', metrics.mean_squared_error(y_hat_test_linear, y_test))\n",
    "print('test_RMSE: ', np.sqrt(metrics.mean_squared_error(y_hat_test_linear, y_test)))\n",
    "print('score_test: ', regressor.score(X_test, y_test))\n"
   ]
  },
  {
   "cell_type": "code",
   "execution_count": 88,
   "id": "f533df00",
   "metadata": {},
   "outputs": [
    {
     "data": {
      "image/png": "[encoded data removed]",
      "text/plain": [
       "<Figure size 1000x400 with 2 Axes>"
      ]
     },
     "metadata": {},
     "output_type": "display_data"
    }
   ],
   "source": [
    "fig, ax = plt.subplots(1, 2, figsize=(10, 4))\n",
    "\n",
    "sns.scatterplot(\n",
    "    x=y_train.ravel(),\n",
    "    y=y_hat_train_linear,\n",
    "    ax=ax[0],\n",
    "    alpha=0.5,\n",
    ")\n",
    "\n",
    "sns.scatterplot(\n",
    "    x=y_test.ravel(),\n",
    "    y=y_hat_test_linear,\n",
    "    ax=ax[1],\n",
    "    alpha=0.5,\n",
    ")\n",
    "\n",
    "for a in ax:\n",
    "    a.set_xlabel(f'{outputs} (true)')\n",
    "    a.set_ylabel(f'{outputs} (predict)')\n",
    "    a.plot(a.get_ylim(), a.get_ylim(), ls='--', c='k')\n",
    "\n",
    "ax[0].set_title('Train set')\n",
    "ax[1].set_title('Test set')\n",
    "\n",
    "fig.tight_layout()"
   ]
  },
  {
   "cell_type": "markdown",
   "id": "a6d76175",
   "metadata": {},
   "source": []
  },
  {
   "cell_type": "markdown",
   "id": "4f93e541",
   "metadata": {},
   "source": [
    "### train polynomial kernel regression model"
   ]
  },
  {
   "cell_type": "code",
   "execution_count": 47,
   "id": "1bd89c9a",
   "metadata": {},
   "outputs": [],
   "source": [
    "kernel_model = KernelRidge(alpha=1.0, kernel='polynomial', degree=3)\n",
    "kernel_model.fit(X_train, y_train)\n",
    "y_hat_train_polynomial = kernel_model.predict(X_train)\n",
    "y_hat_test_polynomial = kernel_model.predict(X_test)"
   ]
  },
  {
   "cell_type": "markdown",
   "id": "ffe49b53",
   "metadata": {},
   "source": [
    "### evaluate polynomial kernel regression model"
   ]
  },
  {
   "cell_type": "code",
   "execution_count": 48,
   "id": "cbd09fd5",
   "metadata": {},
   "outputs": [
    {
     "name": "stdout",
     "output_type": "stream",
     "text": [
      "train_MAE:  6589513.372243052\n",
      "train_MSE:  271072090392621.4\n",
      "train_RMSE:  16464267.077298686\n",
      "score_train:  0.04298367923191171\n",
      "test_MAE:  16907153.45436508\n",
      "test_MSE:  1373154473967572.5\n",
      "test_RMSE:  37056099.01173587\n",
      "score_test:  0.08201127242747108\n"
     ]
    }
   ],
   "source": [
    "# calculate MAE, MSE, RMSE for train_data\n",
    "print('train_MAE: ', metrics.mean_absolute_error(y_hat_train_polynomial, y_train))\n",
    "print('train_MSE: ', metrics.mean_squared_error(y_hat_train_polynomial, y_train))\n",
    "print('train_RMSE: ', np.sqrt(metrics.mean_squared_error(y_hat_train_polynomial, y_train)))\n",
    "print('score_train: ', regressor.score(X_train, y_train))\n",
    "\n",
    "# calculate MAE, MSE, RMSE for test_data\n",
    "print('test_MAE: ', metrics.mean_absolute_error(y_hat_test_polynomial, y_test))\n",
    "print('test_MSE: ', metrics.mean_squared_error(y_hat_test_polynomial, y_test))\n",
    "print('test_RMSE: ', np.sqrt(metrics.mean_squared_error(y_hat_test_polynomial, y_test)))\n",
    "print('score_test: ', regressor.score(X_test, y_test))\n"
   ]
  },
  {
   "cell_type": "code",
   "execution_count": 85,
   "id": "32fd04e1",
   "metadata": {},
   "outputs": [
    {
     "data": {
      "image/png": "[encoded data removed]",
      "text/plain": [
       "<Figure size 1000x400 with 2 Axes>"
      ]
     },
     "metadata": {},
     "output_type": "display_data"
    }
   ],
   "source": [
    "fig, ax = plt.subplots(1, 2, figsize=(10, 4))\n",
    "\n",
    "sns.scatterplot(\n",
    "    x=y_train.ravel(),\n",
    "    y=y_hat_train_polynomial,\n",
    "    ax=ax[0],\n",
    "    alpha=0.5,\n",
    ")\n",
    "\n",
    "sns.scatterplot(\n",
    "    x=y_test.ravel(),\n",
    "    y=y_hat_test_polynomial,\n",
    "    ax=ax[1],\n",
    "    alpha=0.5,\n",
    ")\n",
    "\n",
    "for a in ax:\n",
    "    a.set_xlabel(f'{outputs} (true)')\n",
    "    a.set_ylabel(f'{outputs} (predict)')\n",
    "    a.plot(a.get_ylim(), a.get_ylim(), ls='--', c='k')\n",
    "\n",
    "\n",
    "    \n",
    "ax[0].set_title('Train set')\n",
    "ax[1].set_title('Test set')\n",
    "\n",
    "fig.tight_layout()"
   ]
  },
  {
   "cell_type": "markdown",
   "id": "6a471118",
   "metadata": {},
   "source": []
  },
  {
   "cell_type": "markdown",
   "id": "1102072e",
   "metadata": {},
   "source": [
    "### train RBF kernel regression model"
   ]
  },
  {
   "cell_type": "code",
   "execution_count": 80,
   "id": "507683d8",
   "metadata": {},
   "outputs": [],
   "source": [
    "kernel_model = KernelRidge(alpha=1.0, kernel='rbf', gamma=0.08)\n",
    "kernel_model.fit(X_train, y_train)\n",
    "y_hat_train_rbf = kernel_model.predict(X_train)\n",
    "y_hat_test_rbf = kernel_model.predict(X_test)"
   ]
  },
  {
   "cell_type": "markdown",
   "id": "c09f523a",
   "metadata": {},
   "source": [
    "### evaluate RBF kernel regression model"
   ]
  },
  {
   "cell_type": "code",
   "execution_count": 81,
   "id": "abfb36da",
   "metadata": {},
   "outputs": [
    {
     "name": "stdout",
     "output_type": "stream",
     "text": [
      "train_MAE:  945024.2852618064\n",
      "train_MSE:  220778387909621.78\n",
      "train_RMSE:  14858613.256613882\n",
      "score_train:  0.04298367923191171\n",
      "test_MAE:  3050056.39871806\n",
      "test_MSE:  28990306143666.348\n",
      "test_RMSE:  5384264.679941575\n",
      "score_test:  0.08201127242747108\n"
     ]
    }
   ],
   "source": [
    "# calculate MAE, MSE, RMSE for train_data\n",
    "print('train_MAE: ', metrics.mean_absolute_error(y_hat_train_rbf, y_train))\n",
    "print('train_MSE: ', metrics.mean_squared_error(y_hat_train_rbf, y_train))\n",
    "print('train_RMSE: ', np.sqrt(metrics.mean_squared_error(y_hat_train_rbf, y_train)))\n",
    "print('score_train: ', regressor.score(X_train, y_train))\n",
    "\n",
    "# calculate MAE, MSE, RMSE for test_data\n",
    "print('test_MAE: ', metrics.mean_absolute_error(y_hat_test_rbf, y_test))\n",
    "print('test_MSE: ', metrics.mean_squared_error(y_hat_test_rbf, y_test))\n",
    "print('test_RMSE: ', np.sqrt(metrics.mean_squared_error(y_hat_test_rbf, y_test)))\n",
    "print('score_test: ', regressor.score(X_test, y_test))\n"
   ]
  },
  {
   "cell_type": "code",
   "execution_count": 86,
   "id": "accb021e",
   "metadata": {},
   "outputs": [
    {
     "data": {
      "image/png": "[encoded data removed]",
      "text/plain": [
       "<Figure size 1000x400 with 2 Axes>"
      ]
     },
     "metadata": {},
     "output_type": "display_data"
    }
   ],
   "source": [
    "fig, ax = plt.subplots(1, 2, figsize=(10, 4))\n",
    "\n",
    "sns.scatterplot(\n",
    "    x=y_train.ravel(),\n",
    "    y=y_hat_train_rbf,\n",
    "    ax=ax[0],\n",
    "    alpha=0.5,\n",
    ")\n",
    "\n",
    "sns.scatterplot(\n",
    "    x=y_test.ravel(),\n",
    "    y=y_hat_test_rbf,\n",
    "    ax=ax[1],\n",
    "    alpha=0.5,\n",
    ")\n",
    "\n",
    "for a in ax:\n",
    "    a.set_xlabel(f'{outputs} (true)')\n",
    "    a.set_ylabel(f'{outputs} (predict)')\n",
    "    a.plot(a.get_ylim(), a.get_ylim(), ls='--', c='k')\n",
    "\n",
    "ax[0].set_title('Train set')\n",
    "ax[1].set_title('Test set')\n",
    "\n",
    "fig.tight_layout()"
   ]
  },
  {
   "cell_type": "markdown",
   "id": "98bc6939",
   "metadata": {},
   "source": []
  },
  {
   "cell_type": "markdown",
   "id": "50360874",
   "metadata": {},
   "source": [
    "### Standardize RBF attributes"
   ]
  },
  {
   "cell_type": "code",
   "execution_count": 73,
   "id": "4ee11e96",
   "metadata": {
    "scrolled": true
   },
   "outputs": [],
   "source": [
    "normalized_data = preprocessing.StandardScaler()\n",
    "train_rbf = pd.DataFrame(normalized_data.fit_transform(df_train_encoding), index=df_train_encoding.index,columns=df_train_encoding.columns)\n",
    "test_rbf = pd.DataFrame(normalized_data.fit_transform(df_test_encoding), index=df_test_encoding.index,columns=df_test_encoding.columns)\n",
    "\n",
    "all_att = df_train_encoding.columns.to_list()\n",
    "all_att.remove('price')\n",
    "X_train_rbf, X_test_rbf, y_train_rbf, y_test_rbf = train_rbf[all_att], test_rbf[all_att], train_rbf['price'], test_rbf['price']\n"
   ]
  },
  {
   "cell_type": "markdown",
   "id": "f050d17a",
   "metadata": {},
   "source": []
  },
  {
   "cell_type": "markdown",
   "id": "614722d8",
   "metadata": {},
   "source": [
    "### train RBF model with standardized data"
   ]
  },
  {
   "cell_type": "code",
   "execution_count": 90,
   "id": "26d73f99",
   "metadata": {},
   "outputs": [],
   "source": [
    "kernel_model = KernelRidge(alpha=1.0, kernel='rbf', gamma=0.2)\n",
    "kernel_model.fit(X_train_rbf, y_train_rbf)\n",
    "y_hat_train_rbf = kernel_model.predict(X_train_rbf)\n",
    "y_hat_test_rbf = kernel_model.predict(X_test_rbf)"
   ]
  },
  {
   "cell_type": "code",
   "execution_count": 91,
   "id": "b5387b7f",
   "metadata": {},
   "outputs": [
    {
     "name": "stdout",
     "output_type": "stream",
     "text": [
      "train_MAE:  0.021348078832302775\n",
      "train_MSE:  0.4244823397925303\n",
      "train_RMSE:  0.6515230922941491\n",
      "score_train:  -2.5989467670155498e+17\n",
      "test_MAE:  0.4472797123347698\n",
      "test_MSE:  0.770641303341465\n",
      "test_RMSE:  0.8778617791779438\n",
      "score_test:  -2.598954436596063e+17\n"
     ]
    }
   ],
   "source": [
    "# calculate MAE, MSE, RMSE for train_data\n",
    "print('train_MAE: ', metrics.mean_absolute_error(y_hat_train_rbf, y_train_rbf))\n",
    "print('train_MSE: ', metrics.mean_squared_error(y_hat_train_rbf, y_train_rbf))\n",
    "print('train_RMSE: ', np.sqrt(metrics.mean_squared_error(y_hat_train_rbf, y_train_rbf)))\n",
    "print('score_train: ', regressor.score(X_train_rbf, y_train_rbf))\n",
    "\n",
    "# calculate MAE, MSE, RMSE for test_data\n",
    "print('test_MAE: ', metrics.mean_absolute_error(y_hat_test_rbf, y_test_rbf))\n",
    "print('test_MSE: ', metrics.mean_squared_error(y_hat_test_rbf, y_test_rbf))\n",
    "print('test_RMSE: ', np.sqrt(metrics.mean_squared_error(y_hat_test_rbf, y_test_rbf)))\n",
    "print('score_test: ', regressor.score(X_test_rbf, y_test_rbf))\n"
   ]
  },
  {
   "cell_type": "code",
   "execution_count": 92,
   "id": "b25b7184",
   "metadata": {},
   "outputs": [
    {
     "data": {
      "image/png": "[encoded data removed]",
      "text/plain": [
       "<Figure size 1000x400 with 2 Axes>"
      ]
     },
     "metadata": {},
     "output_type": "display_data"
    }
   ],
   "source": [
    "fig, ax = plt.subplots(1, 2, figsize=(10, 4))\n",
    "\n",
    "sns.scatterplot(\n",
    "    x=y_train_rbf.ravel(),\n",
    "    y=y_hat_train_rbf,\n",
    "    ax=ax[0],\n",
    "    alpha=0.5,\n",
    ")\n",
    "\n",
    "sns.scatterplot(\n",
    "    x=y_test_rbf.ravel(),\n",
    "    y=y_hat_test_rbf,\n",
    "    ax=ax[1],\n",
    "    alpha=0.5,\n",
    ")\n",
    "\n",
    "for a in ax:\n",
    "    a.set_xlabel(f'{outputs} (true)')\n",
    "    a.set_ylabel(f'{outputs} (predict)')\n",
    "    a.plot(a.get_ylim(), a.get_ylim(), ls='--', c='k')\n",
    "\n",
    "ax[0].set_title('Train set')\n",
    "ax[1].set_title('Test set')\n",
    "\n",
    "fig.tight_layout()"
   ]
  },
  {
   "cell_type": "code",
   "execution_count": null,
   "id": "749835dc",
   "metadata": {},
   "outputs": [],
   "source": []
  },
  {
   "cell_type": "code",
   "execution_count": null,
   "id": "4c9e91fd",
   "metadata": {},
   "outputs": [],
   "source": []
  },
  {
   "cell_type": "code",
   "execution_count": null,
   "id": "a7f17ac8",
   "metadata": {},
   "outputs": [],
   "source": []
  },
  {
   "cell_type": "code",
   "execution_count": null,
   "id": "05aeffca",
   "metadata": {},
   "outputs": [],
   "source": []
  },
  {
   "cell_type": "code",
   "execution_count": null,
   "id": "8d845474",
   "metadata": {},
   "outputs": [],
   "source": []
  },
  {
   "cell_type": "code",
   "execution_count": null,
   "id": "a5fdc7d4",
   "metadata": {},
   "outputs": [],
   "source": []
  },
  {
   "cell_type": "code",
   "execution_count": null,
   "id": "0f01da39",
   "metadata": {},
   "outputs": [],
   "source": []
  },
  {
   "cell_type": "code",
   "execution_count": null,
   "id": "1707cd9e",
   "metadata": {},
   "outputs": [],
   "source": []
  },
  {
   "cell_type": "code",
   "execution_count": null,
   "id": "13f6a862",
   "metadata": {},
   "outputs": [],
   "source": []
  },
  {
   "cell_type": "code",
   "execution_count": null,
   "id": "899be110",
   "metadata": {},
   "outputs": [],
   "source": []
  }
 ],
 "metadata": {
  "kernelspec": {
   "display_name": "Python 3 (ipykernel)",
   "language": "python",
   "name": "python3"
  },
  "language_info": {
   "codemirror_mode": {
    "name": "ipython",
    "version": 3
   },
   "file_extension": ".py",
   "mimetype": "text/x-python",
   "name": "python",
   "nbconvert_exporter": "python",
   "pygments_lexer": "ipython3",
   "version": "3.9.12"
  }
 },
 "nbformat": 4,
 "nbformat_minor": 5
}
