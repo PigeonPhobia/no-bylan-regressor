{
 "cells": [
  {
   "cell_type": "code",
   "execution_count": 414,
   "id": "5e212724",
   "metadata": {},
   "outputs": [],
   "source": [
    "import numpy as np\n",
    "import pandas as pd\n",
    "import matplotlib.pyplot as plt\n",
    "import seaborn as sns\n",
    "from dython.nominal import identify_nominal_columns\n",
    "from geopy import distance\n",
    "\n",
    "from sklearn.model_selection import GridSearchCV, cross_val_score, RandomizedSearchCV\n",
    "from sklearn.metrics import mean_squared_error\n",
    "from sklearn.model_selection import train_test_split\n",
    "from sklearn.model_selection import KFold\n",
    "\n",
    "from xgboost import XGBRegressor, plot_importance\n",
    "import xgboost as xgb\n",
    "import joblib\n",
    "\n",
    "from utils import preprocess"
   ]
  },
  {
   "cell_type": "code",
   "execution_count": 415,
   "id": "c7bd6e2a",
   "metadata": {},
   "outputs": [
    {
     "name": "stdout",
     "output_type": "stream",
     "text": [
      "The autoreload extension is already loaded. To reload it, use:\n",
      "  %reload_ext autoreload\n"
     ]
    }
   ],
   "source": [
    "%load_ext autoreload\n",
    "%autoreload 2"
   ]
  },
  {
   "cell_type": "code",
   "execution_count": 416,
   "id": "bfb2f891",
   "metadata": {},
   "outputs": [],
   "source": [
    "DATA_DIR = './data/'\n",
    "IMG_DIR = './img/'\n",
    "PROCESSED_DATA_DIR = './processed_data/'\n",
    "TRAIN_FILE = DATA_DIR + 'train.csv'\n",
    "TEST_FILE = DATA_DIR + 'test.csv'\n",
    "PROCESSED_TRAIN_FILE = PROCESSED_DATA_DIR + 'processed_train.csv'\n",
    "PROCESSED_TEST_FILE = PROCESSED_DATA_DIR + 'processed_test.csv'\n",
    "AUX_DATA_DIR = DATA_DIR + 'auxiliary-data/'\n",
    "SUBZONE_FILE = AUX_DATA_DIR + 'sg-subzones.csv'\n",
    "\n",
    "COMC = AUX_DATA_DIR + 'sg-commerical-centres.csv'\n",
    "MRT = AUX_DATA_DIR + 'sg-mrt-stations.csv'\n",
    "PSCHOOL = AUX_DATA_DIR + 'sg-primary-schools.csv'\n",
    "SSCHOOL = AUX_DATA_DIR + 'sg-secondary-schools.csv'\n",
    "MALL = AUX_DATA_DIR + 'sg-shopping-malls.csv'\n",
    "\n",
    "mrt_station = pd.read_csv(MRT)\n",
    "comc = pd.read_csv(COMC)\n",
    "pschool = pd.read_csv(PSCHOOL)\n",
    "sschool = pd.read_csv(SSCHOOL)\n",
    "mall = pd.read_csv(MALL)"
   ]
  },
  {
   "cell_type": "markdown",
   "id": "b188a16b",
   "metadata": {},
   "source": [
    "## XGBOOST"
   ]
  },
  {
   "cell_type": "markdown",
   "id": "0d6f8548",
   "metadata": {},
   "source": [
    "## 1 Load preprocessed data"
   ]
  },
  {
   "cell_type": "code",
   "execution_count": 397,
   "id": "3e11fcca",
   "metadata": {},
   "outputs": [],
   "source": [
    "df = pd.read_csv(PROCESSED_TRAIN_FILE)"
   ]
  },
  {
   "cell_type": "code",
   "execution_count": 398,
   "id": "6a241eed",
   "metadata": {},
   "outputs": [],
   "source": [
    "columns_pa = df.filter(like='pa_').columns\n",
    "columns_pt = df.filter(like='pt_').columns"
   ]
  },
  {
   "cell_type": "code",
   "execution_count": 399,
   "id": "f77f3ee7",
   "metadata": {},
   "outputs": [],
   "source": [
    "#features_drop = ['lat', 'lng']\n",
    "#df_train = df.drop(features_drop, axis=1)\n",
    "df_train = df.copy()"
   ]
  },
  {
   "cell_type": "code",
   "execution_count": 400,
   "id": "09f46a7e",
   "metadata": {},
   "outputs": [],
   "source": [
    "df_train.drop(columns_pa, axis = 1, inplace=True)\n",
    "#df_train.drop(columns_pt, axis = 1, inplace=True)\n",
    "\n",
    "X_train_all = df_train.drop('price', axis=1)\n",
    "y_train_all = df_train['price']"
   ]
  },
  {
   "cell_type": "code",
   "execution_count": 401,
   "id": "43fc90fe",
   "metadata": {},
   "outputs": [
    {
     "name": "stdout",
     "output_type": "stream",
     "text": [
      "<class 'pandas.core.frame.DataFrame'>\n",
      "RangeIndex: 20153 entries, 0 to 20152\n",
      "Data columns (total 33 columns):\n",
      " #   Column                          Non-Null Count  Dtype  \n",
      "---  ------                          --------------  -----  \n",
      " 0   tenure                          20153 non-null  float64\n",
      " 1   built_year                      20153 non-null  float64\n",
      " 2   num_beds                        20153 non-null  float64\n",
      " 3   num_baths                       20153 non-null  float64\n",
      " 4   size_sqft                       20153 non-null  float64\n",
      " 5   lat                             20153 non-null  float64\n",
      " 6   lng                             20153 non-null  float64\n",
      " 7   subzone_property_type_encoding  20153 non-null  float64\n",
      " 8   num_cc_5km                      20153 non-null  int64  \n",
      " 9   num_mrt_800m                    20153 non-null  int64  \n",
      " 10  nearest_mrt_km                  20153 non-null  float64\n",
      " 11  num_ps_1km                      20153 non-null  int64  \n",
      " 12  num_ps_1km_to_2km               20153 non-null  int64  \n",
      " 13  num_ss_1km                      20153 non-null  int64  \n",
      " 14  num_ss_1km_to_2km               20153 non-null  int64  \n",
      " 15  num_sm_3km                      20153 non-null  int64  \n",
      " 16  price                           20153 non-null  float64\n",
      " 17  pt_apartment                    20153 non-null  float64\n",
      " 18  pt_bungalow                     20153 non-null  float64\n",
      " 19  pt_cluster_house                20153 non-null  float64\n",
      " 20  pt_condo                        20153 non-null  float64\n",
      " 21  pt_conservation_house           20153 non-null  float64\n",
      " 22  pt_corner_terrace               20153 non-null  float64\n",
      " 23  pt_executive_condo              20153 non-null  float64\n",
      " 24  pt_good_class_bungalow          20153 non-null  float64\n",
      " 25  pt_hdb                          20153 non-null  float64\n",
      " 26  pt_land_only                    20153 non-null  float64\n",
      " 27  pt_landed                       20153 non-null  float64\n",
      " 28  pt_semi-detached_house          20153 non-null  float64\n",
      " 29  pt_shophouse                    20153 non-null  float64\n",
      " 30  pt_terraced_house               20153 non-null  float64\n",
      " 31  pt_townhouse                    20153 non-null  float64\n",
      " 32  pt_walk-up                      20153 non-null  float64\n",
      "dtypes: float64(26), int64(7)\n",
      "memory usage: 5.1 MB\n"
     ]
    }
   ],
   "source": [
    "df_train.info()"
   ]
  },
  {
   "cell_type": "markdown",
   "id": "8ebd5264",
   "metadata": {},
   "source": [
    "## 2 model training"
   ]
  },
  {
   "cell_type": "markdown",
   "id": "0a6c809d",
   "metadata": {},
   "source": [
    "### 2.1 intuition to use XGBoost algorithm"
   ]
  },
  {
   "cell_type": "code",
   "execution_count": 402,
   "id": "d871b742",
   "metadata": {},
   "outputs": [],
   "source": [
    "X_train, X_test = train_test_split(df_train, test_size=0.2, random_state= 10)\n",
    "\n",
    "y_train = X_train['price']\n",
    "X_train.drop('price', axis=1, inplace=True)\n",
    "y_test = X_test['price']\n",
    "X_test.drop('price', axis=1, inplace=True)"
   ]
  },
  {
   "cell_type": "code",
   "execution_count": 403,
   "id": "0eec609b",
   "metadata": {},
   "outputs": [],
   "source": [
    "# create model instance\n",
    "xgb1 = XGBRegressor()\n",
    "# fit model\n",
    "xgb1.fit(X_train, y_train)\n",
    "# make predictions\n",
    "y_hat_train = xgb1.predict(X_train)\n",
    "y_hat_test = xgb1.predict(X_test)\n",
    "\n",
    "# Save model into JSON format.\n",
    "#reg.save_model(\"regressor.json\")"
   ]
  },
  {
   "cell_type": "code",
   "execution_count": 404,
   "id": "8cbf973f",
   "metadata": {},
   "outputs": [
    {
     "name": "stdout",
     "output_type": "stream",
     "text": [
      " RMSE of XGBoost: \n",
      " 399273.80010871385 (Train)     \n",
      " 1273493.324862523 (Test)\n"
     ]
    }
   ],
   "source": [
    "print(\n",
    "    f' RMSE of XGBoost: \\n {mean_squared_error(y_train, y_hat_train, squared=False)} (Train) \\\n",
    "    \\n {mean_squared_error(y_test, y_hat_test, squared=False)} (Test)'\n",
    ")"
   ]
  },
  {
   "cell_type": "markdown",
   "id": "20710aa4",
   "metadata": {},
   "source": [
    "### 2.2 hyper-parameters tuning\n",
    "\n",
    "* issue: the RMSE between training prediction and validation prediction varies apparently, which refers to a Over-fitting Problem.\n",
    "* target: improve RMSE of validation set and try to address overfitting problem (trade-off between bias and variance)\n",
    "    * **colsample_bytree**: Represents the fraction of columns to be randomly sampled for each tree. It might improve overfittin\n",
    "    * **subsample**: Represents the fraction of observations to be sampled for each tree. A lower values prevent overfitting but might lead to under-fitting.\n",
    "    * **lambda (Regulation parameter)** : L2 regularization on the weights (Ridge Regression). It might help to reduce overfitting.\n",
    "    * **feature sampling** : Use planning_area, protery_type, subzone_encoding, auxiliary data or not.\n"
   ]
  },
  {
   "cell_type": "markdown",
   "id": "2e024c10",
   "metadata": {},
   "source": [
    "Considering tuning xgboost model for all hyper parameters and feature subsets is time consuing and impractical, our group firstly utilise a **RandomizedSearchCV** method to speed up and grasp the first view of our model and data. Then with RMSE result, we choose a more specific range for hyperparameter tuning and decide what features to use for the following gridsearchCV section."
   ]
  },
  {
   "cell_type": "code",
   "execution_count": 395,
   "id": "525d2f30",
   "metadata": {},
   "outputs": [
    {
     "name": "stdout",
     "output_type": "stream",
     "text": [
      "Fitting 5 folds for each of 60 candidates, totalling 300 fits\n",
      "Best parameters: {'subsample': 0.7, 'reg_lambda': 0.3, 'n_estimators': 500, 'max_depth': 5, 'learning_rate': 0.1, 'colsample_bytree': 0.6}\n",
      "Lowest RMSE:  1745194.8073565094\n"
     ]
    }
   ],
   "source": [
    "params = { 'max_depth': [3, 5, 10],\n",
    "           'learning_rate': [0.1, 0.3],\n",
    "           'subsample': [0.5, 0.6, 0.7, 0.8, 1],\n",
    "           'colsample_bytree': [0.5, 0.6, 0.7, 0.8, 1],\n",
    "           'n_estimators': [50, 100, 500],\n",
    "          'reg_lambda': [0, 0.1, 0.3]\n",
    "         }\n",
    "\n",
    "xgbr = xgb.XGBRegressor(random_state= 20)\n",
    "kf = KFold(n_splits=5, random_state= 28, shuffle=True)\n",
    "\n",
    "reg = RandomizedSearchCV(estimator=xgbr, \n",
    "                         param_distributions=params,\n",
    "                         cv=kf,\n",
    "                         scoring='neg_mean_squared_error', \n",
    "                         # random_state= 30,\n",
    "                         verbose=1)\n",
    "\n",
    "reg.fit(X_train_all, y_train_all)\n",
    "\n",
    "\n",
    "print('input data size:', X_train_all.shape)\n",
    "print(\"Best parameters:\", reg.best_params_)\n",
    "print(\"Lowest RMSE: \", (-reg.best_score_)**(1/2.0))"
   ]
  },
  {
   "cell_type": "code",
   "execution_count": 411,
   "id": "601402f1",
   "metadata": {},
   "outputs": [
    {
     "name": "stdout",
     "output_type": "stream",
     "text": [
      "Fitting 5 folds for each of 48 candidates, totalling 240 fits\n",
      "Best parameters: {'colsample_bytree': 0.6, 'learning_rate': 0.1, 'max_depth': 5, 'n_estimators': 800, 'reg_lambda': 0.3, 'subsample': 0.8}\n",
      "Lowest RMSE:  1575028.1315797274\n"
     ]
    }
   ],
   "source": [
    "## GridSearchCV to make a exhaustive test for the potential useful combination\n",
    "params = { 'max_depth': [5],\n",
    "           'learning_rate': [0.1, 0.3],\n",
    "           'subsample': [0.8, 1],\n",
    "           'colsample_bytree': [0.6, 1],\n",
    "           'n_estimators': [100, 500],\n",
    "           'reg_lambda': [0, 0.3]\n",
    "         }\n",
    "\n",
    "xgbr = xgb.XGBRegressor(random_state= 20)\n",
    "kf = KFold(n_splits=5, random_state= 20, shuffle=True)\n",
    "\n",
    "reg = GridSearchCV(estimator=xgbr, \n",
    "                   param_grid=params,\n",
    "                   cv=kf,\n",
    "                   scoring='neg_mean_squared_error', \n",
    "                   verbose=1)\n",
    "\n",
    "reg.fit(X_train_all, y_train_all)\n",
    "\n",
    "# joblib.dump(reg, 'xgb_model.pkl')\n",
    "\n",
    "print(\"Best parameters:\", reg.best_params_)\n",
    "print(\"Lowest RMSE: \", (-reg.best_score_)**(1/2.0))"
   ]
  },
  {
   "cell_type": "code",
   "execution_count": 412,
   "id": "bbe8d6d5",
   "metadata": {},
   "outputs": [
    {
     "data": {
      "text/plain": [
       "['xgb_model2.pkl']"
      ]
     },
     "execution_count": 412,
     "metadata": {},
     "output_type": "execute_result"
    }
   ],
   "source": [
    "joblib.dump(reg, 'xgb_model2.pkl')"
   ]
  },
  {
   "cell_type": "code",
   "execution_count": 413,
   "id": "6386a2e0",
   "metadata": {},
   "outputs": [
    {
     "data": {
      "text/plain": [
       "<AxesSubplot:title={'center':'Feature importance'}, xlabel='F score', ylabel='Features'>"
      ]
     },
     "execution_count": 413,
     "metadata": {},
     "output_type": "execute_result"
    },
    {
     "data": {
      "image/png": "[encoded data removed]",
      "text/plain": [
       "<Figure size 432x288 with 1 Axes>"
      ]
     },
     "metadata": {
      "needs_background": "light"
     },
     "output_type": "display_data"
    }
   ],
   "source": [
    "plot_importance(reg.best_estimator_, max_num_features= 10)"
   ]
  },
  {
   "cell_type": "markdown",
   "id": "ab61e8e0",
   "metadata": {},
   "source": [
    "## 3 evaluation\n",
    "* Explore and visualize the performance of different hyperparameters suppressing over-fitting issue on this dataset"
   ]
  },
  {
   "cell_type": "code",
   "execution_count": 417,
   "id": "1606ae80",
   "metadata": {},
   "outputs": [],
   "source": [
    "X_eval = df.drop('price', axis=1)\n",
    "y_eval = df['price']"
   ]
  },
  {
   "cell_type": "code",
   "execution_count": 421,
   "id": "40452720",
   "metadata": {},
   "outputs": [
    {
     "name": "stdout",
     "output_type": "stream",
     "text": [
      "Fitting 5 folds for each of 5 candidates, totalling 25 fits\n",
      "Best parameters: {'learning_rate': 0.1, 'max_depth': 5, 'n_estimators': 500, 'subsample': 0.7999999999999999}\n",
      "Lowest RMSE:  1653701.5500941635\n"
     ]
    }
   ],
   "source": [
    "## subsample ratio\n",
    "values_ss = np.array([0.5, 0.6, 0.7, 0.8, 0.9 ,1.0])\n",
    "\n",
    "params = { 'max_depth': [5],\n",
    "           'learning_rate': [0.1],\n",
    "           'subsample': values_ss,\n",
    "           'n_estimators': [500],\n",
    "         }\n",
    "\n",
    "xgbr = xgb.XGBRegressor(random_state= 20)\n",
    "kf = KFold(n_splits=5, random_state= 20, shuffle=True)\n",
    "\n",
    "reg_subsample = GridSearchCV(estimator=xgbr, \n",
    "                   param_grid=params,\n",
    "                   cv=kf,\n",
    "                   scoring='neg_mean_squared_error', \n",
    "                   verbose=1)\n",
    "\n",
    "reg_subsample.fit(X_eval, y_eval)\n",
    "\n",
    "# joblib.dump(reg_subsample, 'xgb_subsample.pkl')\n",
    "\n",
    "print(\"Best parameters:\", reg_subsample.best_params_)\n",
    "print(\"Lowest RMSE: \", (-reg_subsample.best_score_)**(1/2.0))"
   ]
  },
  {
   "cell_type": "code",
   "execution_count": 500,
   "id": "4f886654",
   "metadata": {},
   "outputs": [
    {
     "name": "stdout",
     "output_type": "stream",
     "text": [
      "Fitting 5 folds for each of 7 candidates, totalling 35 fits\n",
      "Best parameters: {'colsample_bytree': 0.7, 'learning_rate': 0.1, 'max_depth': 5, 'n_estimators': 500}\n",
      "Lowest RMSE:  1605746.5287007655\n"
     ]
    }
   ],
   "source": [
    "## colsample_bytree ratio\n",
    "values_cs = np.array([0.4, 0.5, 0.6, 0.7, 0.8, 0.9 ,1.0])\n",
    "\n",
    "params = { 'max_depth': [5],\n",
    "           'learning_rate': [0.1],\n",
    "           'colsample_bytree': values_cs,\n",
    "           'n_estimators': [500],\n",
    "         }\n",
    "\n",
    "xgbr = xgb.XGBRegressor(random_state= 20)\n",
    "kf = KFold(n_splits=5, random_state= 20, shuffle=True)\n",
    "\n",
    "reg_colsample = GridSearchCV(estimator=xgbr, \n",
    "                   param_grid=params,\n",
    "                   cv=kf,\n",
    "                   scoring='neg_mean_squared_error', \n",
    "                   verbose=1)\n",
    "\n",
    "reg_colsample.fit(X_eval, y_eval)\n",
    "\n",
    "# joblib.dump(reg_colsample, 'xgb_colsample.pkl')\n",
    "\n",
    "print(\"Best parameters:\", reg_colsample.best_params_)\n",
    "print(\"Lowest RMSE: \", (-reg_colsample.best_score_)**(1/2.0))"
   ]
  },
  {
   "cell_type": "code",
   "execution_count": 504,
   "id": "f28b8469",
   "metadata": {},
   "outputs": [
    {
     "name": "stdout",
     "output_type": "stream",
     "text": [
      "Fitting 5 folds for each of 5 candidates, totalling 25 fits\n",
      "Best parameters: {'learning_rate': 0.1, 'max_depth': 5, 'n_estimators': 500, 'reg_lambda': 0.2}\n",
      "Lowest RMSE:  1584239.608035902\n"
     ]
    }
   ],
   "source": [
    "## lambda of 2-norm in loss function\n",
    "values_lambda = np.array([0, 0.1, 0.2, 0.3, 0.4])\n",
    "\n",
    "params = { 'max_depth': [5],\n",
    "           'learning_rate': [0.1],\n",
    "           'reg_lambda': values_lambda,\n",
    "           'n_estimators': [500],\n",
    "         }\n",
    "\n",
    "xgbr = xgb.XGBRegressor(random_state= 20)\n",
    "kf = KFold(n_splits=5, random_state= 20, shuffle=True)\n",
    "\n",
    "reg_lambda = GridSearchCV(estimator=xgbr, \n",
    "                   param_grid=params,\n",
    "                   cv=kf,\n",
    "                   scoring='neg_mean_squared_error', \n",
    "                   verbose=1)\n",
    "\n",
    "reg_lambda.fit(X_eval, y_eval)\n",
    "\n",
    "# joblib.dump(reg_lambda, 'xgb_lambda.pkl')\n",
    "\n",
    "print(\"Best parameters:\", reg_lambda.best_params_)\n",
    "print(\"Lowest RMSE: \", (-reg_lambda.best_score_)**(1/2.0))"
   ]
  },
  {
   "cell_type": "code",
   "execution_count": 501,
   "id": "04cf74e7",
   "metadata": {},
   "outputs": [
    {
     "data": {
      "text/plain": [
       "Text(0.5, 0, 'lambda ratio')"
      ]
     },
     "execution_count": 501,
     "metadata": {},
     "output_type": "execute_result"
    },
    {
     "data": {
      "image/png": "[encoded data removed]",
      "text/plain": [
       "<Figure size 1800x400 with 3 Axes>"
      ]
     },
     "metadata": {},
     "output_type": "display_data"
    }
   ],
   "source": [
    "# plot\n",
    "plt.figure(figsize=(18,4))\n",
    "\n",
    "ax1=plt.subplot(1,3,1)  #新建左上1号子窗口\n",
    "ax1.plot(values_ss ,(np.sqrt(-reg_subsample.cv_results_['mean_test_score'])),'b')\n",
    "ax1.set_xlabel('subsample ratio')\n",
    "ax1.set_ylabel('Validation RMSE')\n",
    "\n",
    "ax1=plt.subplot(1,3,2)  #新建左上1号子窗口\n",
    "ax1.plot(values_cs ,(np.sqrt(-reg_colsample.cv_results_['mean_test_score'])),'r')\n",
    "ax1.set_xlabel('colsample ratio')\n",
    "\n",
    "ax1=plt.subplot(1,3,3)  #新建左上1号子窗口\n",
    "ax1.plot(values_lambda ,(np.sqrt(-reg_lambda.cv_results_['mean_test_score'])),'g')\n",
    "ax1.set_xlabel('lambda ratio')"
   ]
  },
  {
   "cell_type": "markdown",
   "id": "f445f7c9",
   "metadata": {},
   "source": [
    "## 4 prediction"
   ]
  },
  {
   "cell_type": "code",
   "execution_count": 424,
   "id": "7c71c80a",
   "metadata": {},
   "outputs": [],
   "source": [
    "test_set = pd.read_csv(PROCESSED_TEST_FILE)\n",
    "\n",
    "# features_drop = ['lat', 'lng', 'nearest_mrt_km']\n",
    "\n",
    "df_test = test_set.copy()\n",
    "\n",
    "df_test.drop(columns_pa, axis=1, inplace=True)\n",
    "# df_test.drop(columns_pt, axis=1, inplace=True)\n",
    "\n",
    "model = joblib.load('xgb_model2.pkl')\n",
    "\n",
    "output = pd.read_csv('./example-submission.csv')\n",
    "output[\"Predicted\"] = model.predict(df_test)\n",
    "output.to_csv('xgb_submission2.csv', index=False)"
   ]
  },
  {
   "cell_type": "code",
   "execution_count": 502,
   "id": "aaa4931a",
   "metadata": {},
   "outputs": [],
   "source": [
    "## return test prediction with models in the evaluation part\n",
    "test_set = pd.read_csv(PROCESSED_TEST_FILE)\n",
    "df_test2 = test_set\n",
    "\n",
    "output = pd.read_csv('./example-submission.csv')\n",
    "output[\"Predicted\"] = reg_colsample.best_estimator_.predict(df_test2)\n",
    "output.to_csv('xgb_submission2.csv', index=False)"
   ]
  },
  {
   "cell_type": "code",
   "execution_count": null,
   "id": "56eb628b",
   "metadata": {},
   "outputs": [],
   "source": []
  }
 ],
 "metadata": {
  "kernelspec": {
   "display_name": "Python 3 (ipykernel)",
   "language": "python",
   "name": "python3"
  },
  "language_info": {
   "codemirror_mode": {
    "name": "ipython",
    "version": 3
   },
   "file_extension": ".py",
   "mimetype": "text/x-python",
   "name": "python",
   "nbconvert_exporter": "python",
   "pygments_lexer": "ipython3",
   "version": "3.9.12"
  }
 },
 "nbformat": 4,
 "nbformat_minor": 5
}
