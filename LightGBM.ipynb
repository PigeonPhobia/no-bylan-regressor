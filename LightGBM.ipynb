{
 "cells": [
  {
   "cell_type": "markdown",
   "id": "c255b60a",
   "metadata": {},
   "source": [
    "# Light Gradient Boosting Machine (LightGBM)"
   ]
  },
  {
   "cell_type": "markdown",
   "id": "a58d342e",
   "metadata": {},
   "source": [
    "Light Gradient Boosting Machine (LightGBM) is a distributed gradient boosting (Gradient Boosting Decision Tree, GBDT) framework based on decision tree algorithm. In the data environment of large training samples and high-dimensional features, compared with GBDT, LightGBM has faster training speed and efficiency, lower memory usage, better accuracy, supports parallel learning and can process large-scale data."
   ]
  },
  {
   "cell_type": "code",
   "execution_count": 34,
   "id": "6642288f",
   "metadata": {},
   "outputs": [],
   "source": [
    "from lightgbm import LGBMRegressor\n",
    "from lightgbm import plot_importance\n",
    "from sklearn.metrics import mean_squared_error\n",
    "from sklearn.model_selection import GridSearchCV\n",
    "import pandas as pd\n",
    "import joblib\n",
    "from sklearn import preprocessing"
   ]
  },
  {
   "cell_type": "code",
   "execution_count": 35,
   "id": "b7db1fdd",
   "metadata": {},
   "outputs": [
    {
     "name": "stdout",
     "output_type": "stream",
     "text": [
      "The autoreload extension is already loaded. To reload it, use:\n",
      "  %reload_ext autoreload\n"
     ]
    }
   ],
   "source": [
    "# Some more magic so that the notebook will reload external python modules;\n",
    "# see http://stackoverflow.com/questions/1907993/autoreload-of-modules-in-ipython\n",
    "%load_ext autoreload\n",
    "%autoreload 2"
   ]
  },
  {
   "cell_type": "code",
   "execution_count": 36,
   "id": "9b34fefb",
   "metadata": {},
   "outputs": [],
   "source": [
    "DATA_DIR = './data/'\n",
    "IMG_DIR = './img/'\n",
    "PROCESSED_DATA_DIR = './processed_data/'\n",
    "TRAIN_FILE = DATA_DIR + 'train.csv'\n",
    "TEST_FILE = DATA_DIR + 'test.csv'\n",
    "PROCESSED_TRAIN_FILE = PROCESSED_DATA_DIR + 'processed_train.csv'\n",
    "PROCESSED_TEST_FILE = PROCESSED_DATA_DIR + 'processed_test.csv'\n",
    "AUX_DATA_DIR = DATA_DIR + 'auxiliary-data/'\n",
    "SUBZONE_FILE = AUX_DATA_DIR + 'sg-subzones.csv'"
   ]
  },
  {
   "cell_type": "markdown",
   "id": "345eccc2",
   "metadata": {},
   "source": [
    "## 1. Train"
   ]
  },
  {
   "cell_type": "code",
   "execution_count": 37,
   "id": "9b027f21",
   "metadata": {},
   "outputs": [],
   "source": [
    "df = pd.read_csv(PROCESSED_TRAIN_FILE)"
   ]
  },
  {
   "cell_type": "code",
   "execution_count": 38,
   "id": "e224345f",
   "metadata": {},
   "outputs": [],
   "source": [
    "# df = df.drop(columns = ['pa_ang_mo_kio', 'pa_bedok', 'pa_bishan', \n",
    "#                         'pa_boon_lay','pa_bukit_batok','pa_bukit_merah',\n",
    "#                         'pa_bukit_panjang','pa_bukit_timah','pa_central_water_catchment',\n",
    "#                         'pa_changi','pa_changi_bay','pa_choa_chu_kang','pa_clementi',\n",
    "#                         'pa_downtown_core','pa_geylang','pa_hougang','pa_jurong_east',\n",
    "#                         'pa_jurong_west','pa_kallang','pa_lim_chu_kang','pa_mandai',\n",
    "#                         'pa_marina_south','pa_marine_parade','pa_museum',\n",
    "#                         'pa_newton','pa_north-eastern_islands','pa_novena',\n",
    "#                         'pa_orchard','pa_outram','pa_pasir_ris','pa_paya_lebar',\n",
    "#                         'pa_pioneer','pa_punggol','pa_queenstown','pa_river_valley',\n",
    "#                         'pa_rochor','pa_seletar','pa_sembawang','pa_sengkang',\n",
    "#                         'pa_serangoon','pa_simpang','pa_singapore_river',\n",
    "#                         'pa_southern_islands','pa_straits_view','pa_sungei_kadut',\n",
    "#                         'pa_tampines','pa_tanglin','pa_tengah','pa_toa_payoh',\n",
    "#                         'pa_tuas','pa_western_islands','pa_western_water_catchment',\n",
    "#                         'pa_woodlands','pa_yishun'])"
   ]
  },
  {
   "cell_type": "code",
   "execution_count": 39,
   "id": "d3746802",
   "metadata": {},
   "outputs": [],
   "source": [
    "X, y = df.drop(columns = ['price']), df['price']\n",
    "scaler = preprocessing.StandardScaler().fit(X)\n",
    "X_scaled = scaler.transform(X)"
   ]
  },
  {
   "cell_type": "markdown",
   "id": "fe194ec1",
   "metadata": {},
   "source": [
    "### 1.1. Histogram algorithm\n",
    "\n",
    "LightGBM uses a histogram-based algorithm to discretize continuous eigenvalues into K integers, construct a histogram with a width of K, traverse the training data, and count the cumulative statistics of each discrete value in the histogram. When selecting the split points of a feature, it is only necessary to traverse the discrete values of the sorted histogram. \n",
    "\n",
    "The use of the histogram algorithm reduces the computational cost of the algorithm. The pre-sort adopted by XGBoost needs to traverse each eigenvalue and calculate the split gain, while the histogram algorithm only needs to calculate K times, which improves the efficiency of finding split points; reduces the memory of the algorithm Consumption, it is not necessary to store the pre-sorted results, only the discretized values of the features need to be saved. \n",
    "\n",
    "Because the decision tree itself is a weak learner, the use of the histogram to discretize the eigenvalues can have a regularization effect, and the discretized split points can improve the generalization ability of the algorithm."
   ]
  },
  {
   "cell_type": "markdown",
   "id": "c3891658",
   "metadata": {},
   "source": [
    "### 1.2. Leaf-wise algorithm\n",
    "\n",
    "Most decision tree learning algorithms use a level-wise strategy for tree generation. The difference is that LightGBM adopts a more efficient leaf-wise strategy.\n",
    "\n",
    "The strategy finds a leaf node with the largest splitting gain from all the leaf nodes of the current decision tree each time, and then splits it, and so on. Such a mechanism reduces the split calculation of leaf nodes with lower gains and reduces a lot of unnecessary overhead.\n",
    "\n",
    "Compared with the level-wise strategy, leaf-wise can reduce the error and get better accuracy with the same number of splits. The disadvantage of the leaf-wise algorithm is that it may generate deeper decision trees. Therefore, LightGBM adds parameters that limit the maximum depth to leaf-wise, which prevents overfitting while ensuring the efficiency of the algorithm.\n",
    "\n"
   ]
  },
  {
   "cell_type": "code",
   "execution_count": 40,
   "id": "c59a038a",
   "metadata": {},
   "outputs": [],
   "source": [
    "estimator = LGBMRegressor(objective='regression', learning_rate=0.1, metric='rmse', \n",
    "                          min_child_weight=0.001, colsample_bytree=0.9)"
   ]
  },
  {
   "cell_type": "markdown",
   "id": "f64494ff",
   "metadata": {},
   "source": [
    "- boosting: default=gbdt, type=enum, options=gbdt, rf, dart, goss, alias=boost, boosting_type\n",
    "\n",
    "gbdt, traditional gradient boosted decision tree\n",
    "\n",
    "rf, Random Forest\n",
    "\n",
    "dart, Dropouts meet Multiple Additive Regression Trees\n",
    "\n",
    "goss, Gradient-based One-Side Sampling\n",
    "\n",
    "- objective, default=regression, type=enum, options=regression, regression_l1, huber, fair, poisson, quantile, quantile_l2, binary, multiclass, multiclassova, xentropy, xentlambda, lambdarank, alias=objective, app , application\n",
    "\n",
    "regression application\n",
    "\n",
    "regression_l2, L2 loss, alias=regression, mean_squared_error, mse\n",
    "\n",
    "regression_l1, L1 loss, alias=mean_absolute_error, mae\n",
    "\n",
    "huber, huber loss\n",
    "\n",
    "fair, fair loss\n",
    "\n",
    "poisson, Poisson regression\n",
    "\n",
    "quantile, Quantile regression\n",
    "\n",
    "quantile_l2, similar to quantile, but uses L2 loss\n",
    "\n",
    "- learning_rate, default=0.1, type=double, alias=shrinkage_rate\n",
    "\n",
    "In dart, shrinkage rate also affects the normalized weight of dropped trees\n",
    "\n",
    "- metric, default={l2 for regression}, {binary_logloss for binary classification}, {ndcg for lambdarank}, type=multi-enum, options=l1, l2, ndcg, auc, binary_logloss, binary_error …\n",
    "\n",
    "l1, absolute loss, alias=mean_absolute_error, mae\n",
    "\n",
    "l2, square loss, alias=mean_squared_error, mse\n",
    "\n",
    "l2_root, root square loss, alias=root_mean_squared_error, rmse\n",
    "\n",
    "quantile, Quantile regression\n",
    "\n",
    "huber, huber loss\n",
    "\n",
    "fair, fair loss\n",
    "\n",
    "poisson, Poisson regression\n",
    "\n",
    "ndcg, NDCG\n",
    "\n",
    "map, MAP\n",
    "\n",
    "auc, AUC\n",
    "\n",
    "binary_logloss, log loss"
   ]
  },
  {
   "cell_type": "code",
   "execution_count": 41,
   "id": "4f657b4f",
   "metadata": {},
   "outputs": [],
   "source": [
    "param_grid = {\n",
    "    'max_depth':[4, 5, 6],\n",
    "    'num_leaves':[25, 30],\n",
    "    'n_estimators':[110, 120],\n",
    "    'min_child_samples': [5, 10],\n",
    "    'subsample': [0.9, 1.0]\n",
    "}"
   ]
  },
  {
   "cell_type": "markdown",
   "id": "54169f6c",
   "metadata": {},
   "source": [
    "- max_depth, default=-1, type=int\n",
    "\n",
    "Limit the maximum depth of the tree model. This prevents overfitting when #data is small. The tree can still grow leaf-wise.\n",
    "\n",
    "&lt; 0 means no limit.\n",
    "\n",
    "- num_leaves, default=31, type=int, alias=num_leaf\n",
    "\n",
    "number of leaves on a tree\n",
    "\n",
    "- min_data_in_leaf, default=20, type=int, alias=min_data_per_leaf , min_data, min_child_samples\n",
    "\n",
    "The minimum amount of data on a leaf. \n",
    "\n",
    "Can be used to deal with overfitting.\n",
    "\n",
    "- bagging_fraction, default=1.0, type=double, 0.0 &lt; bagging_fraction &lt; 1.0, alias=sub_row, subsample\n",
    "\n",
    "Similar to feature_fraction, but it will randomly select parts of the data without resampling\n",
    "\n",
    "Can be used to speed up training\n",
    "\n",
    "Can be used to deal with overfitting\n",
    "\n",
    "Note: In order to enable bagging, bagging_freq should be set to a non-zero value"
   ]
  },
  {
   "cell_type": "code",
   "execution_count": 42,
   "id": "ab133061",
   "metadata": {},
   "outputs": [
    {
     "name": "stdout",
     "output_type": "stream",
     "text": [
      "Fitting 5 folds for each of 48 candidates, totalling 240 fits\n",
      "[CV 1/5] END max_depth=4, min_child_samples=5, n_estimators=110, num_leaves=25, subsample=0.9;, score=-3102407525506.156 total time=   0.2s\n",
      "[CV 2/5] END max_depth=4, min_child_samples=5, n_estimators=110, num_leaves=25, subsample=0.9;, score=-7814737400176.667 total time=   0.3s\n",
      "[CV 3/5] END max_depth=4, min_child_samples=5, n_estimators=110, num_leaves=25, subsample=0.9;, score=-1876953351860.470 total time=   0.2s\n",
      "[CV 4/5] END max_depth=4, min_child_samples=5, n_estimators=110, num_leaves=25, subsample=0.9;, score=-2143516078016.121 total time=   0.3s\n",
      "[CV 5/5] END max_depth=4, min_child_samples=5, n_estimators=110, num_leaves=25, subsample=0.9;, score=-2346348411050.105 total time=   0.2s\n",
      "[CV 1/5] END max_depth=4, min_child_samples=5, n_estimators=110, num_leaves=25, subsample=1.0;, score=-3102407525506.156 total time=   0.2s\n",
      "[CV 2/5] END max_depth=4, min_child_samples=5, n_estimators=110, num_leaves=25, subsample=1.0;, score=-7814737400176.667 total time=   0.2s\n",
      "[CV 3/5] END max_depth=4, min_child_samples=5, n_estimators=110, num_leaves=25, subsample=1.0;, score=-1876953351860.470 total time=   0.2s\n",
      "[CV 4/5] END max_depth=4, min_child_samples=5, n_estimators=110, num_leaves=25, subsample=1.0;, score=-2143516078016.121 total time=   0.2s\n",
      "[CV 5/5] END max_depth=4, min_child_samples=5, n_estimators=110, num_leaves=25, subsample=1.0;, score=-2346348411050.105 total time=   0.2s\n",
      "[CV 1/5] END max_depth=4, min_child_samples=5, n_estimators=110, num_leaves=30, subsample=0.9;, score=-3102407525506.156 total time=   0.2s\n",
      "[CV 2/5] END max_depth=4, min_child_samples=5, n_estimators=110, num_leaves=30, subsample=0.9;, score=-7814737400176.667 total time=   0.2s\n",
      "[CV 3/5] END max_depth=4, min_child_samples=5, n_estimators=110, num_leaves=30, subsample=0.9;, score=-1876953351860.470 total time=   0.3s\n",
      "[CV 4/5] END max_depth=4, min_child_samples=5, n_estimators=110, num_leaves=30, subsample=0.9;, score=-2143516078016.121 total time=   0.3s\n",
      "[CV 5/5] END max_depth=4, min_child_samples=5, n_estimators=110, num_leaves=30, subsample=0.9;, score=-2346348411050.105 total time=   0.2s\n",
      "[CV 1/5] END max_depth=4, min_child_samples=5, n_estimators=110, num_leaves=30, subsample=1.0;, score=-3102407525506.156 total time=   0.2s\n",
      "[CV 2/5] END max_depth=4, min_child_samples=5, n_estimators=110, num_leaves=30, subsample=1.0;, score=-7814737400176.667 total time=   0.2s\n",
      "[CV 3/5] END max_depth=4, min_child_samples=5, n_estimators=110, num_leaves=30, subsample=1.0;, score=-1876953351860.470 total time=   0.2s\n",
      "[CV 4/5] END max_depth=4, min_child_samples=5, n_estimators=110, num_leaves=30, subsample=1.0;, score=-2143516078016.121 total time=   0.2s\n",
      "[CV 5/5] END max_depth=4, min_child_samples=5, n_estimators=110, num_leaves=30, subsample=1.0;, score=-2346348411050.105 total time=   0.2s\n",
      "[CV 1/5] END max_depth=4, min_child_samples=5, n_estimators=120, num_leaves=25, subsample=0.9;, score=-3083164038356.826 total time=   0.2s\n",
      "[CV 2/5] END max_depth=4, min_child_samples=5, n_estimators=120, num_leaves=25, subsample=0.9;, score=-7765215538528.116 total time=   0.2s\n",
      "[CV 3/5] END max_depth=4, min_child_samples=5, n_estimators=120, num_leaves=25, subsample=0.9;, score=-1859366029052.147 total time=   0.2s\n",
      "[CV 4/5] END max_depth=4, min_child_samples=5, n_estimators=120, num_leaves=25, subsample=0.9;, score=-2147592325498.511 total time=   0.2s\n",
      "[CV 5/5] END max_depth=4, min_child_samples=5, n_estimators=120, num_leaves=25, subsample=0.9;, score=-2342691636714.843 total time=   0.2s\n",
      "[CV 1/5] END max_depth=4, min_child_samples=5, n_estimators=120, num_leaves=25, subsample=1.0;, score=-3083164038356.826 total time=   0.2s\n",
      "[CV 2/5] END max_depth=4, min_child_samples=5, n_estimators=120, num_leaves=25, subsample=1.0;, score=-7765215538528.116 total time=   0.2s\n",
      "[CV 3/5] END max_depth=4, min_child_samples=5, n_estimators=120, num_leaves=25, subsample=1.0;, score=-1859366029052.147 total time=   0.2s\n",
      "[CV 4/5] END max_depth=4, min_child_samples=5, n_estimators=120, num_leaves=25, subsample=1.0;, score=-2147592325498.511 total time=   0.3s\n",
      "[CV 5/5] END max_depth=4, min_child_samples=5, n_estimators=120, num_leaves=25, subsample=1.0;, score=-2342691636714.843 total time=   0.2s\n",
      "[CV 1/5] END max_depth=4, min_child_samples=5, n_estimators=120, num_leaves=30, subsample=0.9;, score=-3083164038356.826 total time=   0.2s\n",
      "[CV 2/5] END max_depth=4, min_child_samples=5, n_estimators=120, num_leaves=30, subsample=0.9;, score=-7765215538528.116 total time=   0.2s\n",
      "[CV 3/5] END max_depth=4, min_child_samples=5, n_estimators=120, num_leaves=30, subsample=0.9;, score=-1859366029052.147 total time=   0.2s\n",
      "[CV 4/5] END max_depth=4, min_child_samples=5, n_estimators=120, num_leaves=30, subsample=0.9;, score=-2147592325498.511 total time=   0.2s\n",
      "[CV 5/5] END max_depth=4, min_child_samples=5, n_estimators=120, num_leaves=30, subsample=0.9;, score=-2342691636714.843 total time=   0.2s\n",
      "[CV 1/5] END max_depth=4, min_child_samples=5, n_estimators=120, num_leaves=30, subsample=1.0;, score=-3083164038356.826 total time=   0.2s\n",
      "[CV 2/5] END max_depth=4, min_child_samples=5, n_estimators=120, num_leaves=30, subsample=1.0;, score=-7765215538528.116 total time=   0.2s\n",
      "[CV 3/5] END max_depth=4, min_child_samples=5, n_estimators=120, num_leaves=30, subsample=1.0;, score=-1859366029052.147 total time=   0.2s\n",
      "[CV 4/5] END max_depth=4, min_child_samples=5, n_estimators=120, num_leaves=30, subsample=1.0;, score=-2147592325498.511 total time=   0.2s\n",
      "[CV 5/5] END max_depth=4, min_child_samples=5, n_estimators=120, num_leaves=30, subsample=1.0;, score=-2342691636714.843 total time=   0.2s\n",
      "[CV 1/5] END max_depth=4, min_child_samples=10, n_estimators=110, num_leaves=25, subsample=0.9;, score=-3035769766745.562 total time=   0.2s\n",
      "[CV 2/5] END max_depth=4, min_child_samples=10, n_estimators=110, num_leaves=25, subsample=0.9;, score=-7318449640950.389 total time=   0.2s\n",
      "[CV 3/5] END max_depth=4, min_child_samples=10, n_estimators=110, num_leaves=25, subsample=0.9;, score=-2363492262528.010 total time=   0.2s\n",
      "[CV 4/5] END max_depth=4, min_child_samples=10, n_estimators=110, num_leaves=25, subsample=0.9;, score=-2250918314614.526 total time=   0.2s\n",
      "[CV 5/5] END max_depth=4, min_child_samples=10, n_estimators=110, num_leaves=25, subsample=0.9;, score=-2572180177529.387 total time=   0.2s\n",
      "[CV 1/5] END max_depth=4, min_child_samples=10, n_estimators=110, num_leaves=25, subsample=1.0;, score=-3035769766745.562 total time=   0.2s\n",
      "[CV 2/5] END max_depth=4, min_child_samples=10, n_estimators=110, num_leaves=25, subsample=1.0;, score=-7318449640950.389 total time=   0.3s\n",
      "[CV 3/5] END max_depth=4, min_child_samples=10, n_estimators=110, num_leaves=25, subsample=1.0;, score=-2363492262528.010 total time=   0.2s\n",
      "[CV 4/5] END max_depth=4, min_child_samples=10, n_estimators=110, num_leaves=25, subsample=1.0;, score=-2250918314614.526 total time=   0.2s\n",
      "[CV 5/5] END max_depth=4, min_child_samples=10, n_estimators=110, num_leaves=25, subsample=1.0;, score=-2572180177529.387 total time=   0.2s\n",
      "[CV 1/5] END max_depth=4, min_child_samples=10, n_estimators=110, num_leaves=30, subsample=0.9;, score=-3035769766745.562 total time=   0.2s\n",
      "[CV 2/5] END max_depth=4, min_child_samples=10, n_estimators=110, num_leaves=30, subsample=0.9;, score=-7318449640950.389 total time=   0.2s\n",
      "[CV 3/5] END max_depth=4, min_child_samples=10, n_estimators=110, num_leaves=30, subsample=0.9;, score=-2363492262528.010 total time=   0.2s\n",
      "[CV 4/5] END max_depth=4, min_child_samples=10, n_estimators=110, num_leaves=30, subsample=0.9;, score=-2250918314614.526 total time=   0.2s\n",
      "[CV 5/5] END max_depth=4, min_child_samples=10, n_estimators=110, num_leaves=30, subsample=0.9;, score=-2572180177529.387 total time=   0.2s\n",
      "[CV 1/5] END max_depth=4, min_child_samples=10, n_estimators=110, num_leaves=30, subsample=1.0;, score=-3035769766745.562 total time=   0.2s\n",
      "[CV 2/5] END max_depth=4, min_child_samples=10, n_estimators=110, num_leaves=30, subsample=1.0;, score=-7318449640950.389 total time=   0.2s\n",
      "[CV 3/5] END max_depth=4, min_child_samples=10, n_estimators=110, num_leaves=30, subsample=1.0;, score=-2363492262528.010 total time=   0.2s\n",
      "[CV 4/5] END max_depth=4, min_child_samples=10, n_estimators=110, num_leaves=30, subsample=1.0;, score=-2250918314614.526 total time=   0.2s\n"
     ]
    },
    {
     "name": "stdout",
     "output_type": "stream",
     "text": [
      "[CV 5/5] END max_depth=4, min_child_samples=10, n_estimators=110, num_leaves=30, subsample=1.0;, score=-2572180177529.387 total time=   0.2s\n",
      "[CV 1/5] END max_depth=4, min_child_samples=10, n_estimators=120, num_leaves=25, subsample=0.9;, score=-2966838730856.302 total time=   0.2s\n",
      "[CV 2/5] END max_depth=4, min_child_samples=10, n_estimators=120, num_leaves=25, subsample=0.9;, score=-7293400596390.129 total time=   0.2s\n",
      "[CV 3/5] END max_depth=4, min_child_samples=10, n_estimators=120, num_leaves=25, subsample=0.9;, score=-2311533336488.236 total time=   0.2s\n",
      "[CV 4/5] END max_depth=4, min_child_samples=10, n_estimators=120, num_leaves=25, subsample=0.9;, score=-2227127962803.027 total time=   0.2s\n",
      "[CV 5/5] END max_depth=4, min_child_samples=10, n_estimators=120, num_leaves=25, subsample=0.9;, score=-2526710624036.543 total time=   0.2s\n",
      "[CV 1/5] END max_depth=4, min_child_samples=10, n_estimators=120, num_leaves=25, subsample=1.0;, score=-2966838730856.302 total time=   0.2s\n",
      "[CV 2/5] END max_depth=4, min_child_samples=10, n_estimators=120, num_leaves=25, subsample=1.0;, score=-7293400596390.129 total time=   0.2s\n",
      "[CV 3/5] END max_depth=4, min_child_samples=10, n_estimators=120, num_leaves=25, subsample=1.0;, score=-2311533336488.236 total time=   0.2s\n",
      "[CV 4/5] END max_depth=4, min_child_samples=10, n_estimators=120, num_leaves=25, subsample=1.0;, score=-2227127962803.027 total time=   0.2s\n",
      "[CV 5/5] END max_depth=4, min_child_samples=10, n_estimators=120, num_leaves=25, subsample=1.0;, score=-2526710624036.543 total time=   0.2s\n",
      "[CV 1/5] END max_depth=4, min_child_samples=10, n_estimators=120, num_leaves=30, subsample=0.9;, score=-2966838730856.302 total time=   0.2s\n",
      "[CV 2/5] END max_depth=4, min_child_samples=10, n_estimators=120, num_leaves=30, subsample=0.9;, score=-7293400596390.129 total time=   0.2s\n",
      "[CV 3/5] END max_depth=4, min_child_samples=10, n_estimators=120, num_leaves=30, subsample=0.9;, score=-2311533336488.236 total time=   0.2s\n",
      "[CV 4/5] END max_depth=4, min_child_samples=10, n_estimators=120, num_leaves=30, subsample=0.9;, score=-2227127962803.027 total time=   0.2s\n",
      "[CV 5/5] END max_depth=4, min_child_samples=10, n_estimators=120, num_leaves=30, subsample=0.9;, score=-2526710624036.543 total time=   0.2s\n",
      "[CV 1/5] END max_depth=4, min_child_samples=10, n_estimators=120, num_leaves=30, subsample=1.0;, score=-2966838730856.302 total time=   0.2s\n",
      "[CV 2/5] END max_depth=4, min_child_samples=10, n_estimators=120, num_leaves=30, subsample=1.0;, score=-7293400596390.129 total time=   0.2s\n",
      "[CV 3/5] END max_depth=4, min_child_samples=10, n_estimators=120, num_leaves=30, subsample=1.0;, score=-2311533336488.236 total time=   0.2s\n",
      "[CV 4/5] END max_depth=4, min_child_samples=10, n_estimators=120, num_leaves=30, subsample=1.0;, score=-2227127962803.027 total time=   0.2s\n",
      "[CV 5/5] END max_depth=4, min_child_samples=10, n_estimators=120, num_leaves=30, subsample=1.0;, score=-2526710624036.543 total time=   0.2s\n",
      "[CV 1/5] END max_depth=5, min_child_samples=5, n_estimators=110, num_leaves=25, subsample=0.9;, score=-2741691790306.038 total time=   0.3s\n",
      "[CV 2/5] END max_depth=5, min_child_samples=5, n_estimators=110, num_leaves=25, subsample=0.9;, score=-7590837312592.294 total time=   0.3s\n",
      "[CV 3/5] END max_depth=5, min_child_samples=5, n_estimators=110, num_leaves=25, subsample=0.9;, score=-1676769864342.887 total time=   0.3s\n",
      "[CV 4/5] END max_depth=5, min_child_samples=5, n_estimators=110, num_leaves=25, subsample=0.9;, score=-2013778586081.854 total time=   0.3s\n",
      "[CV 5/5] END max_depth=5, min_child_samples=5, n_estimators=110, num_leaves=25, subsample=0.9;, score=-2205421062951.711 total time=   0.2s\n",
      "[CV 1/5] END max_depth=5, min_child_samples=5, n_estimators=110, num_leaves=25, subsample=1.0;, score=-2741691790306.038 total time=   0.2s\n",
      "[CV 2/5] END max_depth=5, min_child_samples=5, n_estimators=110, num_leaves=25, subsample=1.0;, score=-7590837312592.294 total time=   0.4s\n",
      "[CV 3/5] END max_depth=5, min_child_samples=5, n_estimators=110, num_leaves=25, subsample=1.0;, score=-1676769864342.887 total time=   0.2s\n",
      "[CV 4/5] END max_depth=5, min_child_samples=5, n_estimators=110, num_leaves=25, subsample=1.0;, score=-2013778586081.854 total time=   0.3s\n",
      "[CV 5/5] END max_depth=5, min_child_samples=5, n_estimators=110, num_leaves=25, subsample=1.0;, score=-2205421062951.711 total time=   0.3s\n",
      "[CV 1/5] END max_depth=5, min_child_samples=5, n_estimators=110, num_leaves=30, subsample=0.9;, score=-2854255371775.025 total time=   0.6s\n",
      "[CV 2/5] END max_depth=5, min_child_samples=5, n_estimators=110, num_leaves=30, subsample=0.9;, score=-7534141046084.134 total time=   0.4s\n",
      "[CV 3/5] END max_depth=5, min_child_samples=5, n_estimators=110, num_leaves=30, subsample=0.9;, score=-1578986612860.147 total time=   0.5s\n",
      "[CV 4/5] END max_depth=5, min_child_samples=5, n_estimators=110, num_leaves=30, subsample=0.9;, score=-1854890086557.587 total time=   0.4s\n",
      "[CV 5/5] END max_depth=5, min_child_samples=5, n_estimators=110, num_leaves=30, subsample=0.9;, score=-2519083497072.554 total time=   0.5s\n",
      "[CV 1/5] END max_depth=5, min_child_samples=5, n_estimators=110, num_leaves=30, subsample=1.0;, score=-2854255371775.025 total time=   0.4s\n",
      "[CV 2/5] END max_depth=5, min_child_samples=5, n_estimators=110, num_leaves=30, subsample=1.0;, score=-7534141046084.134 total time=   0.5s\n",
      "[CV 3/5] END max_depth=5, min_child_samples=5, n_estimators=110, num_leaves=30, subsample=1.0;, score=-1578986612860.147 total time=   0.3s\n",
      "[CV 4/5] END max_depth=5, min_child_samples=5, n_estimators=110, num_leaves=30, subsample=1.0;, score=-1854890086557.587 total time=   0.3s\n",
      "[CV 5/5] END max_depth=5, min_child_samples=5, n_estimators=110, num_leaves=30, subsample=1.0;, score=-2519083497072.554 total time=   0.3s\n",
      "[CV 1/5] END max_depth=5, min_child_samples=5, n_estimators=120, num_leaves=25, subsample=0.9;, score=-2719666246338.323 total time=   0.3s\n",
      "[CV 2/5] END max_depth=5, min_child_samples=5, n_estimators=120, num_leaves=25, subsample=0.9;, score=-7585688258459.932 total time=   0.3s\n",
      "[CV 3/5] END max_depth=5, min_child_samples=5, n_estimators=120, num_leaves=25, subsample=0.9;, score=-1653631628301.672 total time=   0.4s\n",
      "[CV 4/5] END max_depth=5, min_child_samples=5, n_estimators=120, num_leaves=25, subsample=0.9;, score=-2013033974018.215 total time=   0.3s\n",
      "[CV 5/5] END max_depth=5, min_child_samples=5, n_estimators=120, num_leaves=25, subsample=0.9;, score=-2178506186326.350 total time=   0.3s\n",
      "[CV 1/5] END max_depth=5, min_child_samples=5, n_estimators=120, num_leaves=25, subsample=1.0;, score=-2719666246338.323 total time=   0.3s\n",
      "[CV 2/5] END max_depth=5, min_child_samples=5, n_estimators=120, num_leaves=25, subsample=1.0;, score=-7585688258459.932 total time=   0.3s\n",
      "[CV 3/5] END max_depth=5, min_child_samples=5, n_estimators=120, num_leaves=25, subsample=1.0;, score=-1653631628301.672 total time=   0.3s\n",
      "[CV 4/5] END max_depth=5, min_child_samples=5, n_estimators=120, num_leaves=25, subsample=1.0;, score=-2013033974018.215 total time=   0.3s\n",
      "[CV 5/5] END max_depth=5, min_child_samples=5, n_estimators=120, num_leaves=25, subsample=1.0;, score=-2178506186326.350 total time=   0.3s\n",
      "[CV 1/5] END max_depth=5, min_child_samples=5, n_estimators=120, num_leaves=30, subsample=0.9;, score=-2808618319383.334 total time=   0.3s\n",
      "[CV 2/5] END max_depth=5, min_child_samples=5, n_estimators=120, num_leaves=30, subsample=0.9;, score=-7561144592381.079 total time=   0.3s\n",
      "[CV 3/5] END max_depth=5, min_child_samples=5, n_estimators=120, num_leaves=30, subsample=0.9;, score=-1560962337974.623 total time=   0.3s\n",
      "[CV 4/5] END max_depth=5, min_child_samples=5, n_estimators=120, num_leaves=30, subsample=0.9;, score=-1825254246491.779 total time=   0.3s\n",
      "[CV 5/5] END max_depth=5, min_child_samples=5, n_estimators=120, num_leaves=30, subsample=0.9;, score=-2503028395873.782 total time=   0.4s\n",
      "[CV 1/5] END max_depth=5, min_child_samples=5, n_estimators=120, num_leaves=30, subsample=1.0;, score=-2808618319383.334 total time=   0.3s\n",
      "[CV 2/5] END max_depth=5, min_child_samples=5, n_estimators=120, num_leaves=30, subsample=1.0;, score=-7561144592381.079 total time=   0.3s\n",
      "[CV 3/5] END max_depth=5, min_child_samples=5, n_estimators=120, num_leaves=30, subsample=1.0;, score=-1560962337974.623 total time=   0.2s\n"
     ]
    },
    {
     "name": "stdout",
     "output_type": "stream",
     "text": [
      "[CV 4/5] END max_depth=5, min_child_samples=5, n_estimators=120, num_leaves=30, subsample=1.0;, score=-1825254246491.779 total time=   0.3s\n",
      "[CV 5/5] END max_depth=5, min_child_samples=5, n_estimators=120, num_leaves=30, subsample=1.0;, score=-2503028395873.782 total time=   0.3s\n",
      "[CV 1/5] END max_depth=5, min_child_samples=10, n_estimators=110, num_leaves=25, subsample=0.9;, score=-2686972485671.548 total time=   0.2s\n",
      "[CV 2/5] END max_depth=5, min_child_samples=10, n_estimators=110, num_leaves=25, subsample=0.9;, score=-6466717104492.852 total time=   0.2s\n",
      "[CV 3/5] END max_depth=5, min_child_samples=10, n_estimators=110, num_leaves=25, subsample=0.9;, score=-2021533390284.194 total time=   0.2s\n",
      "[CV 4/5] END max_depth=5, min_child_samples=10, n_estimators=110, num_leaves=25, subsample=0.9;, score=-2120783853313.719 total time=   0.2s\n",
      "[CV 5/5] END max_depth=5, min_child_samples=10, n_estimators=110, num_leaves=25, subsample=0.9;, score=-2731114791804.317 total time=   0.2s\n",
      "[CV 1/5] END max_depth=5, min_child_samples=10, n_estimators=110, num_leaves=25, subsample=1.0;, score=-2686972485671.548 total time=   0.2s\n",
      "[CV 2/5] END max_depth=5, min_child_samples=10, n_estimators=110, num_leaves=25, subsample=1.0;, score=-6466717104492.852 total time=   0.2s\n",
      "[CV 3/5] END max_depth=5, min_child_samples=10, n_estimators=110, num_leaves=25, subsample=1.0;, score=-2021533390284.194 total time=   0.2s\n",
      "[CV 4/5] END max_depth=5, min_child_samples=10, n_estimators=110, num_leaves=25, subsample=1.0;, score=-2120783853313.719 total time=   0.2s\n",
      "[CV 5/5] END max_depth=5, min_child_samples=10, n_estimators=110, num_leaves=25, subsample=1.0;, score=-2731114791804.317 total time=   0.2s\n",
      "[CV 1/5] END max_depth=5, min_child_samples=10, n_estimators=110, num_leaves=30, subsample=0.9;, score=-2671719742666.451 total time=   0.3s\n",
      "[CV 2/5] END max_depth=5, min_child_samples=10, n_estimators=110, num_leaves=30, subsample=0.9;, score=-6567589971088.169 total time=   0.2s\n",
      "[CV 3/5] END max_depth=5, min_child_samples=10, n_estimators=110, num_leaves=30, subsample=0.9;, score=-2080552671350.197 total time=   0.2s\n",
      "[CV 4/5] END max_depth=5, min_child_samples=10, n_estimators=110, num_leaves=30, subsample=0.9;, score=-2226508921487.962 total time=   0.2s\n",
      "[CV 5/5] END max_depth=5, min_child_samples=10, n_estimators=110, num_leaves=30, subsample=0.9;, score=-2904616026502.580 total time=   0.2s\n",
      "[CV 1/5] END max_depth=5, min_child_samples=10, n_estimators=110, num_leaves=30, subsample=1.0;, score=-2671719742666.451 total time=   0.3s\n",
      "[CV 2/5] END max_depth=5, min_child_samples=10, n_estimators=110, num_leaves=30, subsample=1.0;, score=-6567589971088.169 total time=   0.2s\n",
      "[CV 3/5] END max_depth=5, min_child_samples=10, n_estimators=110, num_leaves=30, subsample=1.0;, score=-2080552671350.197 total time=   0.2s\n",
      "[CV 4/5] END max_depth=5, min_child_samples=10, n_estimators=110, num_leaves=30, subsample=1.0;, score=-2226508921487.962 total time=   0.2s\n",
      "[CV 5/5] END max_depth=5, min_child_samples=10, n_estimators=110, num_leaves=30, subsample=1.0;, score=-2904616026502.580 total time=   0.2s\n",
      "[CV 1/5] END max_depth=5, min_child_samples=10, n_estimators=120, num_leaves=25, subsample=0.9;, score=-2690566335143.778 total time=   0.2s\n",
      "[CV 2/5] END max_depth=5, min_child_samples=10, n_estimators=120, num_leaves=25, subsample=0.9;, score=-6446837374238.319 total time=   0.3s\n",
      "[CV 3/5] END max_depth=5, min_child_samples=10, n_estimators=120, num_leaves=25, subsample=0.9;, score=-2000665556977.583 total time=   0.3s\n",
      "[CV 4/5] END max_depth=5, min_child_samples=10, n_estimators=120, num_leaves=25, subsample=0.9;, score=-2123116965053.788 total time=   0.2s\n",
      "[CV 5/5] END max_depth=5, min_child_samples=10, n_estimators=120, num_leaves=25, subsample=0.9;, score=-2693260890810.131 total time=   0.2s\n",
      "[CV 1/5] END max_depth=5, min_child_samples=10, n_estimators=120, num_leaves=25, subsample=1.0;, score=-2690566335143.778 total time=   0.3s\n",
      "[CV 2/5] END max_depth=5, min_child_samples=10, n_estimators=120, num_leaves=25, subsample=1.0;, score=-6446837374238.319 total time=   0.2s\n",
      "[CV 3/5] END max_depth=5, min_child_samples=10, n_estimators=120, num_leaves=25, subsample=1.0;, score=-2000665556977.583 total time=   0.2s\n",
      "[CV 4/5] END max_depth=5, min_child_samples=10, n_estimators=120, num_leaves=25, subsample=1.0;, score=-2123116965053.788 total time=   0.2s\n",
      "[CV 5/5] END max_depth=5, min_child_samples=10, n_estimators=120, num_leaves=25, subsample=1.0;, score=-2693260890810.131 total time=   0.2s\n",
      "[CV 1/5] END max_depth=5, min_child_samples=10, n_estimators=120, num_leaves=30, subsample=0.9;, score=-2657027437909.560 total time=   0.2s\n",
      "[CV 2/5] END max_depth=5, min_child_samples=10, n_estimators=120, num_leaves=30, subsample=0.9;, score=-6445395111447.634 total time=   0.2s\n",
      "[CV 3/5] END max_depth=5, min_child_samples=10, n_estimators=120, num_leaves=30, subsample=0.9;, score=-2072084391060.585 total time=   0.2s\n",
      "[CV 4/5] END max_depth=5, min_child_samples=10, n_estimators=120, num_leaves=30, subsample=0.9;, score=-2240940169342.442 total time=   0.2s\n",
      "[CV 5/5] END max_depth=5, min_child_samples=10, n_estimators=120, num_leaves=30, subsample=0.9;, score=-2862556368078.295 total time=   0.2s\n",
      "[CV 1/5] END max_depth=5, min_child_samples=10, n_estimators=120, num_leaves=30, subsample=1.0;, score=-2657027437909.560 total time=   0.3s\n",
      "[CV 2/5] END max_depth=5, min_child_samples=10, n_estimators=120, num_leaves=30, subsample=1.0;, score=-6445395111447.634 total time=   0.3s\n",
      "[CV 3/5] END max_depth=5, min_child_samples=10, n_estimators=120, num_leaves=30, subsample=1.0;, score=-2072084391060.585 total time=   0.2s\n",
      "[CV 4/5] END max_depth=5, min_child_samples=10, n_estimators=120, num_leaves=30, subsample=1.0;, score=-2240940169342.442 total time=   0.2s\n",
      "[CV 5/5] END max_depth=5, min_child_samples=10, n_estimators=120, num_leaves=30, subsample=1.0;, score=-2862556368078.295 total time=   0.3s\n",
      "[CV 1/5] END max_depth=6, min_child_samples=5, n_estimators=110, num_leaves=25, subsample=0.9;, score=-2501653483800.866 total time=   0.3s\n",
      "[CV 2/5] END max_depth=6, min_child_samples=5, n_estimators=110, num_leaves=25, subsample=0.9;, score=-7604210112713.138 total time=   0.3s\n",
      "[CV 3/5] END max_depth=6, min_child_samples=5, n_estimators=110, num_leaves=25, subsample=0.9;, score=-1503506593686.382 total time=   0.3s\n",
      "[CV 4/5] END max_depth=6, min_child_samples=5, n_estimators=110, num_leaves=25, subsample=0.9;, score=-2039909344016.091 total time=   0.3s\n",
      "[CV 5/5] END max_depth=6, min_child_samples=5, n_estimators=110, num_leaves=25, subsample=0.9;, score=-2166886743025.451 total time=   0.3s\n",
      "[CV 1/5] END max_depth=6, min_child_samples=5, n_estimators=110, num_leaves=25, subsample=1.0;, score=-2501653483800.866 total time=   0.3s\n",
      "[CV 2/5] END max_depth=6, min_child_samples=5, n_estimators=110, num_leaves=25, subsample=1.0;, score=-7604210112713.138 total time=   0.3s\n",
      "[CV 3/5] END max_depth=6, min_child_samples=5, n_estimators=110, num_leaves=25, subsample=1.0;, score=-1503506593686.382 total time=   0.3s\n",
      "[CV 4/5] END max_depth=6, min_child_samples=5, n_estimators=110, num_leaves=25, subsample=1.0;, score=-2039909344016.091 total time=   0.3s\n",
      "[CV 5/5] END max_depth=6, min_child_samples=5, n_estimators=110, num_leaves=25, subsample=1.0;, score=-2166886743025.451 total time=   0.3s\n",
      "[CV 1/5] END max_depth=6, min_child_samples=5, n_estimators=110, num_leaves=30, subsample=0.9;, score=-2623100656634.302 total time=   0.3s\n",
      "[CV 2/5] END max_depth=6, min_child_samples=5, n_estimators=110, num_leaves=30, subsample=0.9;, score=-7390147047504.009 total time=   0.4s\n",
      "[CV 3/5] END max_depth=6, min_child_samples=5, n_estimators=110, num_leaves=30, subsample=0.9;, score=-1636177263320.304 total time=   0.3s\n",
      "[CV 4/5] END max_depth=6, min_child_samples=5, n_estimators=110, num_leaves=30, subsample=0.9;, score=-2106557845740.303 total time=   0.3s\n",
      "[CV 5/5] END max_depth=6, min_child_samples=5, n_estimators=110, num_leaves=30, subsample=0.9;, score=-2230815792049.533 total time=   0.4s\n",
      "[CV 1/5] END max_depth=6, min_child_samples=5, n_estimators=110, num_leaves=30, subsample=1.0;, score=-2623100656634.302 total time=   0.4s\n",
      "[CV 2/5] END max_depth=6, min_child_samples=5, n_estimators=110, num_leaves=30, subsample=1.0;, score=-7390147047504.009 total time=   0.3s\n"
     ]
    },
    {
     "name": "stdout",
     "output_type": "stream",
     "text": [
      "[CV 3/5] END max_depth=6, min_child_samples=5, n_estimators=110, num_leaves=30, subsample=1.0;, score=-1636177263320.304 total time=   0.3s\n",
      "[CV 4/5] END max_depth=6, min_child_samples=5, n_estimators=110, num_leaves=30, subsample=1.0;, score=-2106557845740.303 total time=   0.4s\n",
      "[CV 5/5] END max_depth=6, min_child_samples=5, n_estimators=110, num_leaves=30, subsample=1.0;, score=-2230815792049.533 total time=   0.3s\n",
      "[CV 1/5] END max_depth=6, min_child_samples=5, n_estimators=120, num_leaves=25, subsample=0.9;, score=-2472444094109.018 total time=   0.3s\n",
      "[CV 2/5] END max_depth=6, min_child_samples=5, n_estimators=120, num_leaves=25, subsample=0.9;, score=-7610967343092.176 total time=   0.4s\n",
      "[CV 3/5] END max_depth=6, min_child_samples=5, n_estimators=120, num_leaves=25, subsample=0.9;, score=-1473902577311.195 total time=   0.5s\n",
      "[CV 4/5] END max_depth=6, min_child_samples=5, n_estimators=120, num_leaves=25, subsample=0.9;, score=-2032749875628.707 total time=   0.5s\n",
      "[CV 5/5] END max_depth=6, min_child_samples=5, n_estimators=120, num_leaves=25, subsample=0.9;, score=-2172765697588.721 total time=   0.4s\n",
      "[CV 1/5] END max_depth=6, min_child_samples=5, n_estimators=120, num_leaves=25, subsample=1.0;, score=-2472444094109.018 total time=   0.3s\n",
      "[CV 2/5] END max_depth=6, min_child_samples=5, n_estimators=120, num_leaves=25, subsample=1.0;, score=-7610967343092.176 total time=   0.4s\n",
      "[CV 3/5] END max_depth=6, min_child_samples=5, n_estimators=120, num_leaves=25, subsample=1.0;, score=-1473902577311.195 total time=   0.3s\n",
      "[CV 4/5] END max_depth=6, min_child_samples=5, n_estimators=120, num_leaves=25, subsample=1.0;, score=-2032749875628.707 total time=   0.4s\n",
      "[CV 5/5] END max_depth=6, min_child_samples=5, n_estimators=120, num_leaves=25, subsample=1.0;, score=-2172765697588.721 total time=   0.4s\n",
      "[CV 1/5] END max_depth=6, min_child_samples=5, n_estimators=120, num_leaves=30, subsample=0.9;, score=-2602236008693.410 total time=   0.5s\n",
      "[CV 2/5] END max_depth=6, min_child_samples=5, n_estimators=120, num_leaves=30, subsample=0.9;, score=-7343912583723.757 total time=   0.5s\n",
      "[CV 3/5] END max_depth=6, min_child_samples=5, n_estimators=120, num_leaves=30, subsample=0.9;, score=-1613126390446.649 total time=   0.4s\n",
      "[CV 4/5] END max_depth=6, min_child_samples=5, n_estimators=120, num_leaves=30, subsample=0.9;, score=-2130620754142.570 total time=   0.4s\n",
      "[CV 5/5] END max_depth=6, min_child_samples=5, n_estimators=120, num_leaves=30, subsample=0.9;, score=-2205095379114.966 total time=   0.6s\n",
      "[CV 1/5] END max_depth=6, min_child_samples=5, n_estimators=120, num_leaves=30, subsample=1.0;, score=-2602236008693.410 total time=   0.5s\n",
      "[CV 2/5] END max_depth=6, min_child_samples=5, n_estimators=120, num_leaves=30, subsample=1.0;, score=-7343912583723.757 total time=   0.5s\n",
      "[CV 3/5] END max_depth=6, min_child_samples=5, n_estimators=120, num_leaves=30, subsample=1.0;, score=-1613126390446.649 total time=   0.5s\n",
      "[CV 4/5] END max_depth=6, min_child_samples=5, n_estimators=120, num_leaves=30, subsample=1.0;, score=-2130620754142.570 total time=   0.4s\n",
      "[CV 5/5] END max_depth=6, min_child_samples=5, n_estimators=120, num_leaves=30, subsample=1.0;, score=-2205095379114.966 total time=   0.4s\n",
      "[CV 1/5] END max_depth=6, min_child_samples=10, n_estimators=110, num_leaves=25, subsample=0.9;, score=-2737136150819.430 total time=   0.3s\n",
      "[CV 2/5] END max_depth=6, min_child_samples=10, n_estimators=110, num_leaves=25, subsample=0.9;, score=-6408200388763.626 total time=   0.3s\n",
      "[CV 3/5] END max_depth=6, min_child_samples=10, n_estimators=110, num_leaves=25, subsample=0.9;, score=-1877705536863.574 total time=   0.3s\n",
      "[CV 4/5] END max_depth=6, min_child_samples=10, n_estimators=110, num_leaves=25, subsample=0.9;, score=-1962288246752.249 total time=   0.3s\n",
      "[CV 5/5] END max_depth=6, min_child_samples=10, n_estimators=110, num_leaves=25, subsample=0.9;, score=-2939769735529.182 total time=   0.5s\n",
      "[CV 1/5] END max_depth=6, min_child_samples=10, n_estimators=110, num_leaves=25, subsample=1.0;, score=-2737136150819.430 total time=   0.4s\n",
      "[CV 2/5] END max_depth=6, min_child_samples=10, n_estimators=110, num_leaves=25, subsample=1.0;, score=-6408200388763.626 total time=   0.4s\n",
      "[CV 3/5] END max_depth=6, min_child_samples=10, n_estimators=110, num_leaves=25, subsample=1.0;, score=-1877705536863.574 total time=   0.3s\n",
      "[CV 4/5] END max_depth=6, min_child_samples=10, n_estimators=110, num_leaves=25, subsample=1.0;, score=-1962288246752.249 total time=   0.3s\n",
      "[CV 5/5] END max_depth=6, min_child_samples=10, n_estimators=110, num_leaves=25, subsample=1.0;, score=-2939769735529.182 total time=   0.3s\n",
      "[CV 1/5] END max_depth=6, min_child_samples=10, n_estimators=110, num_leaves=30, subsample=0.9;, score=-2633997456532.876 total time=   0.4s\n",
      "[CV 2/5] END max_depth=6, min_child_samples=10, n_estimators=110, num_leaves=30, subsample=0.9;, score=-6581956946976.801 total time=   0.5s\n",
      "[CV 3/5] END max_depth=6, min_child_samples=10, n_estimators=110, num_leaves=30, subsample=0.9;, score=-1921813572770.491 total time=   0.4s\n",
      "[CV 4/5] END max_depth=6, min_child_samples=10, n_estimators=110, num_leaves=30, subsample=0.9;, score=-2054454286483.815 total time=   0.4s\n",
      "[CV 5/5] END max_depth=6, min_child_samples=10, n_estimators=110, num_leaves=30, subsample=0.9;, score=-2861870027536.574 total time=   0.5s\n",
      "[CV 1/5] END max_depth=6, min_child_samples=10, n_estimators=110, num_leaves=30, subsample=1.0;, score=-2633997456532.876 total time=   0.3s\n",
      "[CV 2/5] END max_depth=6, min_child_samples=10, n_estimators=110, num_leaves=30, subsample=1.0;, score=-6581956946976.801 total time=   0.4s\n",
      "[CV 3/5] END max_depth=6, min_child_samples=10, n_estimators=110, num_leaves=30, subsample=1.0;, score=-1921813572770.491 total time=   0.5s\n",
      "[CV 4/5] END max_depth=6, min_child_samples=10, n_estimators=110, num_leaves=30, subsample=1.0;, score=-2054454286483.815 total time=   0.3s\n",
      "[CV 5/5] END max_depth=6, min_child_samples=10, n_estimators=110, num_leaves=30, subsample=1.0;, score=-2861870027536.574 total time=   0.5s\n",
      "[CV 1/5] END max_depth=6, min_child_samples=10, n_estimators=120, num_leaves=25, subsample=0.9;, score=-2710701848829.867 total time=   0.4s\n",
      "[CV 2/5] END max_depth=6, min_child_samples=10, n_estimators=120, num_leaves=25, subsample=0.9;, score=-6370925394159.924 total time=   0.4s\n",
      "[CV 3/5] END max_depth=6, min_child_samples=10, n_estimators=120, num_leaves=25, subsample=0.9;, score=-1878108966660.819 total time=   0.4s\n",
      "[CV 4/5] END max_depth=6, min_child_samples=10, n_estimators=120, num_leaves=25, subsample=0.9;, score=-1935425371066.824 total time=   0.3s\n",
      "[CV 5/5] END max_depth=6, min_child_samples=10, n_estimators=120, num_leaves=25, subsample=0.9;, score=-2908437674463.826 total time=   0.3s\n",
      "[CV 1/5] END max_depth=6, min_child_samples=10, n_estimators=120, num_leaves=25, subsample=1.0;, score=-2710701848829.867 total time=   0.3s\n",
      "[CV 2/5] END max_depth=6, min_child_samples=10, n_estimators=120, num_leaves=25, subsample=1.0;, score=-6370925394159.924 total time=   0.5s\n",
      "[CV 3/5] END max_depth=6, min_child_samples=10, n_estimators=120, num_leaves=25, subsample=1.0;, score=-1878108966660.819 total time=   0.3s\n",
      "[CV 4/5] END max_depth=6, min_child_samples=10, n_estimators=120, num_leaves=25, subsample=1.0;, score=-1935425371066.824 total time=   0.3s\n",
      "[CV 5/5] END max_depth=6, min_child_samples=10, n_estimators=120, num_leaves=25, subsample=1.0;, score=-2908437674463.826 total time=   0.3s\n",
      "[CV 1/5] END max_depth=6, min_child_samples=10, n_estimators=120, num_leaves=30, subsample=0.9;, score=-2634306267340.924 total time=   0.4s\n",
      "[CV 2/5] END max_depth=6, min_child_samples=10, n_estimators=120, num_leaves=30, subsample=0.9;, score=-6512951718169.465 total time=   0.3s\n",
      "[CV 3/5] END max_depth=6, min_child_samples=10, n_estimators=120, num_leaves=30, subsample=0.9;, score=-1865183070077.187 total time=   0.4s\n",
      "[CV 4/5] END max_depth=6, min_child_samples=10, n_estimators=120, num_leaves=30, subsample=0.9;, score=-2035800928059.603 total time=   0.5s\n",
      "[CV 5/5] END max_depth=6, min_child_samples=10, n_estimators=120, num_leaves=30, subsample=0.9;, score=-2831573753428.544 total time=   0.5s\n",
      "[CV 1/5] END max_depth=6, min_child_samples=10, n_estimators=120, num_leaves=30, subsample=1.0;, score=-2634306267340.924 total time=   0.3s\n"
     ]
    },
    {
     "name": "stdout",
     "output_type": "stream",
     "text": [
      "[CV 2/5] END max_depth=6, min_child_samples=10, n_estimators=120, num_leaves=30, subsample=1.0;, score=-6512951718169.465 total time=   0.3s\n",
      "[CV 3/5] END max_depth=6, min_child_samples=10, n_estimators=120, num_leaves=30, subsample=1.0;, score=-1865183070077.187 total time=   0.3s\n",
      "[CV 4/5] END max_depth=6, min_child_samples=10, n_estimators=120, num_leaves=30, subsample=1.0;, score=-2035800928059.603 total time=   0.4s\n",
      "[CV 5/5] END max_depth=6, min_child_samples=10, n_estimators=120, num_leaves=30, subsample=1.0;, score=-2831573753428.544 total time=   0.3s\n",
      "Best parameters found by grid search are: {'max_depth': 6, 'min_child_samples': 5, 'n_estimators': 120, 'num_leaves': 25, 'subsample': 0.9}\n"
     ]
    }
   ],
   "source": [
    "gbm = GridSearchCV(estimator, param_grid, verbose=3, cv=5, scoring='neg_mean_squared_error')\n",
    "gbm.fit(X_scaled, y)\n",
    "\n",
    "joblib.dump(gbm, 'gbm_model.pkl')\n",
    "print('Best parameters found by grid search are:', gbm.best_params_)"
   ]
  },
  {
   "cell_type": "markdown",
   "id": "251f62a6",
   "metadata": {},
   "source": [
    "- estimator\n",
    "\n",
    "Choose the classifier to use, and pass in parameters other than the ones that need to be determined optimal. Each classifier requires a scoring parameter, or score method.\n",
    "\n",
    "- param_grid\n",
    "\n",
    "The value of the parameter to be optimized, the value is a dictionary or a list\n",
    "\n",
    "- verbose=0, scoring=None\n",
    "\n",
    "verbose: log verbosity, int: verbosity, 0: do not output the training process, 1: occasionally output, > 1: output for each sub-model."
   ]
  },
  {
   "cell_type": "code",
   "execution_count": 43,
   "id": "4c4ffa81",
   "metadata": {},
   "outputs": [
    {
     "name": "stdout",
     "output_type": "stream",
     "text": [
      "The rmse of prediction is: 775276.8032167498\n"
     ]
    }
   ],
   "source": [
    "y_pred = gbm.predict(X_scaled)\n",
    "\n",
    "print('The rmse of prediction is:', mean_squared_error(y, y_pred) ** 0.5)"
   ]
  },
  {
   "cell_type": "markdown",
   "id": "1ae4eb7d",
   "metadata": {},
   "source": [
    "## 2. Test"
   ]
  },
  {
   "cell_type": "code",
   "execution_count": 44,
   "id": "f25286be",
   "metadata": {},
   "outputs": [],
   "source": [
    "df = pd.read_csv(PROCESSED_TEST_FILE)"
   ]
  },
  {
   "cell_type": "code",
   "execution_count": 45,
   "id": "a26c3441",
   "metadata": {},
   "outputs": [],
   "source": [
    "# df = df.drop(columns = ['pa_ang_mo_kio', 'pa_bedok', 'pa_bishan', \n",
    "#                         'pa_boon_lay','pa_bukit_batok','pa_bukit_merah',\n",
    "#                         'pa_bukit_panjang','pa_bukit_timah','pa_central_water_catchment',\n",
    "#                         'pa_changi','pa_changi_bay','pa_choa_chu_kang','pa_clementi',\n",
    "#                         'pa_downtown_core','pa_geylang','pa_hougang','pa_jurong_east',\n",
    "#                         'pa_jurong_west','pa_kallang','pa_lim_chu_kang','pa_mandai',\n",
    "#                         'pa_marina_south','pa_marine_parade','pa_museum',\n",
    "#                         'pa_newton','pa_north-eastern_islands','pa_novena',\n",
    "#                         'pa_orchard','pa_outram','pa_pasir_ris','pa_paya_lebar',\n",
    "#                         'pa_pioneer','pa_punggol','pa_queenstown','pa_river_valley',\n",
    "#                         'pa_rochor','pa_seletar','pa_sembawang','pa_sengkang',\n",
    "#                         'pa_serangoon','pa_simpang','pa_singapore_river',\n",
    "#                         'pa_southern_islands','pa_straits_view','pa_sungei_kadut',\n",
    "#                         'pa_tampines','pa_tanglin','pa_tengah','pa_toa_payoh',\n",
    "#                         'pa_tuas','pa_western_islands','pa_western_water_catchment',\n",
    "#                         'pa_woodlands','pa_yishun'])"
   ]
  },
  {
   "cell_type": "code",
   "execution_count": 46,
   "id": "df74ccc3",
   "metadata": {},
   "outputs": [],
   "source": [
    "gbm = joblib.load('gbm_model.pkl')"
   ]
  },
  {
   "cell_type": "code",
   "execution_count": 47,
   "id": "f5fc192a",
   "metadata": {},
   "outputs": [],
   "source": [
    "output = pd.read_csv('./example-submission.csv')\n",
    "output[\"Predicted\"] = gbm.predict(df)\n",
    "output.to_csv('gbm_submission.csv', index=False)"
   ]
  },
  {
   "cell_type": "markdown",
   "id": "b1d2159f",
   "metadata": {},
   "source": [
    "## 3. Analysis"
   ]
  },
  {
   "cell_type": "code",
   "execution_count": 51,
   "id": "e283391a",
   "metadata": {},
   "outputs": [
    {
     "data": {
      "text/plain": [
       "<AxesSubplot:xlabel='Feature importance', ylabel='Features'>"
      ]
     },
     "execution_count": 51,
     "metadata": {},
     "output_type": "execute_result"
    },
    {
     "data": {
      "image/png": "[encoded data removed]",
      "text/plain": [
       "<Figure size 432x288 with 1 Axes>"
      ]
     },
     "metadata": {
      "needs_background": "light"
     },
     "output_type": "display_data"
    }
   ],
   "source": [
    "gbm = joblib.load('gbm_model.pkl')\n",
    "plot_importance(gbm.best_estimator_, title=None, height=0.3, max_num_features = 10)"
   ]
  },
  {
   "cell_type": "markdown",
   "id": "80742a56",
   "metadata": {},
   "source": [
    "I list the top ten most important features.\n",
    "\n",
    "The most important feature is size_sqft, followed by subzone_property_type_encoding, which is reasonable in common sense.\n",
    "\n",
    "The third one is nearest_mrt_km, which is the distance between the property and MRT.\n",
    "\n",
    "The following four features, num_baths, num_beds, lng, lat, the importance is almost same.\n",
    "\n",
    "Then, the feature is built_year, num_sm_3km, num_ps_1km_to_2km"
   ]
  }
 ],
 "metadata": {
  "kernelspec": {
   "display_name": "Python 3 (ipykernel)",
   "language": "python",
   "name": "python3"
  },
  "language_info": {
   "codemirror_mode": {
    "name": "ipython",
    "version": 3
   },
   "file_extension": ".py",
   "mimetype": "text/x-python",
   "name": "python",
   "nbconvert_exporter": "python",
   "pygments_lexer": "ipython3",
   "version": "3.9.12"
  }
 },
 "nbformat": 4,
 "nbformat_minor": 5
}
