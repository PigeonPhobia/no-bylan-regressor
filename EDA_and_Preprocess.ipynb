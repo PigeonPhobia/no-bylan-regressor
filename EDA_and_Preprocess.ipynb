{
 "cells": [
  {
   "cell_type": "code",
   "execution_count": 1,
   "id": "d2c0db11-8e76-4e4c-866e-0f4dde2616e3",
   "metadata": {},
   "outputs": [],
   "source": [
    "import os\n",
    "from pathlib import Path\n",
    "\n",
    "import numpy as np\n",
    "import pandas as pd\n",
    "\n",
    "import matplotlib.pyplot as plt\n",
    "\n",
    "from utils import preprocess"
   ]
  },
  {
   "cell_type": "code",
   "execution_count": 2,
   "id": "eb668178-bb67-4913-9015-8e3a9abb4d5f",
   "metadata": {},
   "outputs": [],
   "source": [
    "# Some more magic so that the notebook will reload external python modules;\n",
    "# see http://stackoverflow.com/questions/1907993/autoreload-of-modules-in-ipython\n",
    "%load_ext autoreload\n",
    "%autoreload 2"
   ]
  },
  {
   "cell_type": "code",
   "execution_count": 3,
   "id": "d6b9deb5-2f4a-4895-ba93-6ea7251f0ff3",
   "metadata": {},
   "outputs": [],
   "source": [
    "DATA_DIR = './data/'\n",
    "IMG_DIR = './img/'\n",
    "PROCESSED_DATA_DIR = './processed_data/'\n",
    "\n",
    "TRAIN_FILE = DATA_DIR + 'train.csv'\n",
    "TEST_FILE = DATA_DIR + 'test.csv'\n",
    "\n",
    "PROCESSED_TRAIN_FILE = PROCESSED_DATA_DIR + 'processed_train.csv'\n",
    "PROCESSED_TEST_FILE = PROCESSED_DATA_DIR + 'processed_test.csv'\n",
    "PROCESSED_RECOMMENDATION_TRAIN_FILE = PROCESSED_DATA_DIR + 'processed_recommendation_train.csv'\n",
    "PROCESSED_PROPERTY_NUMBER = PROCESSED_DATA_DIR + 'processed_property_number.csv'\n",
    "\n",
    "AUX_DATA_DIR = DATA_DIR + 'auxiliary-data/'\n",
    "SUBZONE_FILE = AUX_DATA_DIR + 'sg-subzones.csv'\n",
    "COMMERCIAL_CENTER_FILE = AUX_DATA_DIR + 'sg-commerical-centres.csv'\n",
    "MRT_FILE = AUX_DATA_DIR + 'sg-mrt-stations.csv'\n",
    "PRIMARY_SCHOOL_FILE = AUX_DATA_DIR + 'sg-primary-schools.csv'\n",
    "SECONDARY_SCHOOL_FILE = AUX_DATA_DIR + 'sg-secondary-schools.csv'\n",
    "SHOPPING_MALL_FILE = AUX_DATA_DIR + 'sg-shopping-malls.csv'\n",
    "\n",
    "COMMERCIAL_CENTER_DIS_FILE = PROCESSED_DATA_DIR + 'sg-commerical-centres.npy'\n",
    "MRT_DIS_FILE = PROCESSED_DATA_DIR + 'sg-mrt-stations.npy'\n",
    "PRIMARY_SCHOOL_DIS_FILE = PROCESSED_DATA_DIR + 'sg-primary-schools.npy'\n",
    "SECONDARY_SCHOOL_DIS_FILE = PROCESSED_DATA_DIR + 'sg-secondary-schools.npy'\n",
    "SHOPPING_MALL_DIS_FILE = PROCESSED_DATA_DIR + 'sg-shopping-malls.npy'"
   ]
  },
  {
   "cell_type": "markdown",
   "id": "70eb4d08-c2dd-4edc-9b51-49aace7e8f5d",
   "metadata": {},
   "source": [
    "# EDA"
   ]
  },
  {
   "cell_type": "markdown",
   "id": "6c71acfb-9baa-412d-b577-ea7ee74e26a3",
   "metadata": {},
   "source": [
    "### Overview"
   ]
  },
  {
   "cell_type": "code",
   "execution_count": 4,
   "id": "4b6a71ec-6da7-431a-841a-b3242ca94984",
   "metadata": {},
   "outputs": [
    {
     "data": {
      "text/html": [
       "<div>\n",
       "<style scoped>\n",
       "    .dataframe tbody tr th:only-of-type {\n",
       "        vertical-align: middle;\n",
       "    }\n",
       "\n",
       "    .dataframe tbody tr th {\n",
       "        vertical-align: top;\n",
       "    }\n",
       "\n",
       "    .dataframe thead th {\n",
       "        text-align: right;\n",
       "    }\n",
       "</style>\n",
       "<table border=\"1\" class=\"dataframe\">\n",
       "  <thead>\n",
       "    <tr style=\"text-align: right;\">\n",
       "      <th></th>\n",
       "      <th>listing_id</th>\n",
       "      <th>title</th>\n",
       "      <th>address</th>\n",
       "      <th>property_name</th>\n",
       "      <th>property_type</th>\n",
       "      <th>tenure</th>\n",
       "      <th>built_year</th>\n",
       "      <th>num_beds</th>\n",
       "      <th>num_baths</th>\n",
       "      <th>size_sqft</th>\n",
       "      <th>...</th>\n",
       "      <th>furnishing</th>\n",
       "      <th>available_unit_types</th>\n",
       "      <th>total_num_units</th>\n",
       "      <th>property_details_url</th>\n",
       "      <th>lat</th>\n",
       "      <th>lng</th>\n",
       "      <th>elevation</th>\n",
       "      <th>subzone</th>\n",
       "      <th>planning_area</th>\n",
       "      <th>price</th>\n",
       "    </tr>\n",
       "  </thead>\n",
       "  <tbody>\n",
       "    <tr>\n",
       "      <th>0</th>\n",
       "      <td>122881</td>\n",
       "      <td>hdb flat for sale in 866 yishun street 81</td>\n",
       "      <td>sembawang / yishun (d27)</td>\n",
       "      <td>866 yishun street 81</td>\n",
       "      <td>hdb 4 rooms</td>\n",
       "      <td>NaN</td>\n",
       "      <td>1988.0</td>\n",
       "      <td>3.0</td>\n",
       "      <td>2.0</td>\n",
       "      <td>1115</td>\n",
       "      <td>...</td>\n",
       "      <td>unspecified</td>\n",
       "      <td>NaN</td>\n",
       "      <td>116.0</td>\n",
       "      <td>https://www.99.co/singapore/hdb/866-yishun-str...</td>\n",
       "      <td>1.414399</td>\n",
       "      <td>103.837196</td>\n",
       "      <td>0</td>\n",
       "      <td>yishun south</td>\n",
       "      <td>yishun</td>\n",
       "      <td>514500.0</td>\n",
       "    </tr>\n",
       "    <tr>\n",
       "      <th>1</th>\n",
       "      <td>259374</td>\n",
       "      <td>hdb flat for sale in 506b serangoon north aven...</td>\n",
       "      <td>hougang / punggol / sengkang (d19)</td>\n",
       "      <td>hdb-serangoon estate</td>\n",
       "      <td>hdb</td>\n",
       "      <td>99-year leasehold</td>\n",
       "      <td>1992.0</td>\n",
       "      <td>4.0</td>\n",
       "      <td>2.0</td>\n",
       "      <td>1575</td>\n",
       "      <td>...</td>\n",
       "      <td>unspecified</td>\n",
       "      <td>1, 2, 3, 4, 5, 6 br</td>\n",
       "      <td>NaN</td>\n",
       "      <td>https://www.99.co/singapore/hdb/hdbserangoon-e...</td>\n",
       "      <td>1.372597</td>\n",
       "      <td>103.875625</td>\n",
       "      <td>0</td>\n",
       "      <td>serangoon north</td>\n",
       "      <td>serangoon</td>\n",
       "      <td>995400.0</td>\n",
       "    </tr>\n",
       "    <tr>\n",
       "      <th>2</th>\n",
       "      <td>665422</td>\n",
       "      <td>4 bed condo for sale in meyerhouse</td>\n",
       "      <td>128 meyer road</td>\n",
       "      <td>meyerhouse</td>\n",
       "      <td>condo</td>\n",
       "      <td>freehold</td>\n",
       "      <td>2022.0</td>\n",
       "      <td>4.0</td>\n",
       "      <td>6.0</td>\n",
       "      <td>3070</td>\n",
       "      <td>...</td>\n",
       "      <td>partial</td>\n",
       "      <td>studio, 3, 4, 5, 6 br</td>\n",
       "      <td>56.0</td>\n",
       "      <td>https://www.99.co/singapore/condos-apartments/...</td>\n",
       "      <td>1.298773</td>\n",
       "      <td>103.895798</td>\n",
       "      <td>0</td>\n",
       "      <td>mountbatten</td>\n",
       "      <td>marine parade</td>\n",
       "      <td>8485000.0</td>\n",
       "    </tr>\n",
       "    <tr>\n",
       "      <th>3</th>\n",
       "      <td>857699</td>\n",
       "      <td>3 bed condo for sale in leedon green</td>\n",
       "      <td>26 leedon heights</td>\n",
       "      <td>leedon green</td>\n",
       "      <td>Condo</td>\n",
       "      <td>freehold</td>\n",
       "      <td>2023.0</td>\n",
       "      <td>3.0</td>\n",
       "      <td>2.0</td>\n",
       "      <td>958</td>\n",
       "      <td>...</td>\n",
       "      <td>partial</td>\n",
       "      <td>studio, 1, 2, 3, 4 br</td>\n",
       "      <td>638.0</td>\n",
       "      <td>https://www.99.co/singapore/condos-apartments/...</td>\n",
       "      <td>1.312364</td>\n",
       "      <td>103.803271</td>\n",
       "      <td>0</td>\n",
       "      <td>farrer court</td>\n",
       "      <td>bukit timah</td>\n",
       "      <td>2626000.0</td>\n",
       "    </tr>\n",
       "    <tr>\n",
       "      <th>4</th>\n",
       "      <td>216061</td>\n",
       "      <td>2 bed condo for sale in one bernam</td>\n",
       "      <td>1 bernam street</td>\n",
       "      <td>one bernam</td>\n",
       "      <td>condo</td>\n",
       "      <td>99-year leasehold</td>\n",
       "      <td>2026.0</td>\n",
       "      <td>2.0</td>\n",
       "      <td>1.0</td>\n",
       "      <td>732</td>\n",
       "      <td>...</td>\n",
       "      <td>unspecified</td>\n",
       "      <td>studio, 1, 2, 3, 4, 5 br</td>\n",
       "      <td>351.0</td>\n",
       "      <td>https://www.99.co/singapore/condos-apartments/...</td>\n",
       "      <td>1.273959</td>\n",
       "      <td>103.843635</td>\n",
       "      <td>0</td>\n",
       "      <td>anson</td>\n",
       "      <td>downtown core</td>\n",
       "      <td>1764000.0</td>\n",
       "    </tr>\n",
       "  </tbody>\n",
       "</table>\n",
       "<p>5 rows × 21 columns</p>\n",
       "</div>"
      ],
      "text/plain": [
       "   listing_id                                              title  \\\n",
       "0      122881          hdb flat for sale in 866 yishun street 81   \n",
       "1      259374  hdb flat for sale in 506b serangoon north aven...   \n",
       "2      665422                 4 bed condo for sale in meyerhouse   \n",
       "3      857699               3 bed condo for sale in leedon green   \n",
       "4      216061                 2 bed condo for sale in one bernam   \n",
       "\n",
       "                              address         property_name property_type  \\\n",
       "0            sembawang / yishun (d27)  866 yishun street 81   hdb 4 rooms   \n",
       "1  hougang / punggol / sengkang (d19)  hdb-serangoon estate           hdb   \n",
       "2                      128 meyer road            meyerhouse         condo   \n",
       "3                   26 leedon heights          leedon green         Condo   \n",
       "4                     1 bernam street            one bernam         condo   \n",
       "\n",
       "              tenure  built_year  num_beds  num_baths  size_sqft  ...  \\\n",
       "0                NaN      1988.0       3.0        2.0       1115  ...   \n",
       "1  99-year leasehold      1992.0       4.0        2.0       1575  ...   \n",
       "2           freehold      2022.0       4.0        6.0       3070  ...   \n",
       "3           freehold      2023.0       3.0        2.0        958  ...   \n",
       "4  99-year leasehold      2026.0       2.0        1.0        732  ...   \n",
       "\n",
       "    furnishing      available_unit_types total_num_units  \\\n",
       "0  unspecified                       NaN           116.0   \n",
       "1  unspecified       1, 2, 3, 4, 5, 6 br             NaN   \n",
       "2      partial     studio, 3, 4, 5, 6 br            56.0   \n",
       "3      partial     studio, 1, 2, 3, 4 br           638.0   \n",
       "4  unspecified  studio, 1, 2, 3, 4, 5 br           351.0   \n",
       "\n",
       "                                property_details_url       lat         lng  \\\n",
       "0  https://www.99.co/singapore/hdb/866-yishun-str...  1.414399  103.837196   \n",
       "1  https://www.99.co/singapore/hdb/hdbserangoon-e...  1.372597  103.875625   \n",
       "2  https://www.99.co/singapore/condos-apartments/...  1.298773  103.895798   \n",
       "3  https://www.99.co/singapore/condos-apartments/...  1.312364  103.803271   \n",
       "4  https://www.99.co/singapore/condos-apartments/...  1.273959  103.843635   \n",
       "\n",
       "   elevation          subzone  planning_area      price  \n",
       "0          0     yishun south         yishun   514500.0  \n",
       "1          0  serangoon north      serangoon   995400.0  \n",
       "2          0      mountbatten  marine parade  8485000.0  \n",
       "3          0     farrer court    bukit timah  2626000.0  \n",
       "4          0            anson  downtown core  1764000.0  \n",
       "\n",
       "[5 rows x 21 columns]"
      ]
     },
     "execution_count": 4,
     "metadata": {},
     "output_type": "execute_result"
    }
   ],
   "source": [
    "df_train_original = pd.read_csv(TRAIN_FILE)\n",
    "df_train_original.head()"
   ]
  },
  {
   "cell_type": "markdown",
   "id": "ff8fe014-4649-4b7c-a7f7-12bf58cd7f9a",
   "metadata": {},
   "source": [
    "### Feature selection"
   ]
  },
  {
   "cell_type": "markdown",
   "id": "d7733075-289e-443a-9894-ad0ee56a3f33",
   "metadata": {},
   "source": [
    "After taking an overview of the dataset, we decide to only utilize certain columns as our features. Below are the columns we wish to **drop** and a short explanation on why we choose to do so:\n",
    "- listing_id: This is an artificial indentifier.\n",
    "- title: Information is overloaded. The same set of information can be retrieved from other columns and it will be more organized.\n",
    "- address: 1. Data is inconsistent: some are road with block numbers, some are districts. 2. Too many values, hard to encode.\n",
    "- property_name: Too many values, hard to encode.\n",
    "- floor_level: highly homogeneous, most values are NA.\n",
    "- elevation: extremely homogeneous, all values are 0.\n",
    "- available_unit_types: information overloaded, hard to encode.\n",
    "- total_num_units: We believe it has very little contribution to the resale price.\n",
    "- furnishing: highly homogeneous, most values are unspecified.\n",
    "- property_details_url: It does not reveal anything about the property.\n",
    "\n",
    "Those columns will be dropped in later preprocessing step."
   ]
  },
  {
   "cell_type": "markdown",
   "id": "7e316705-6c53-4bbd-abc0-15416d1cb3f7",
   "metadata": {},
   "source": [
    "### property_type"
   ]
  },
  {
   "cell_type": "markdown",
   "id": "2066cd2b-4e08-4236-8b60-0992ec7b3f53",
   "metadata": {},
   "source": [
    "1. Values need to be normalized.\n",
    "2. For HDBs, we want to avoid the information overload. So we will remove how many rooms from the type and only keep the value of HDB."
   ]
  },
  {
   "cell_type": "code",
   "execution_count": 5,
   "id": "d2e408f0-feef-44be-ac10-8826c668e311",
   "metadata": {},
   "outputs": [
    {
     "data": {
      "text/plain": [
       "array(['hdb 4 rooms', 'hdb', 'condo', 'Condo', 'bungalow', 'Hdb',\n",
       "       'terraced house', 'Hdb Executive', 'apartment',\n",
       "       'Semi-Detached House', 'Apartment', 'Hdb 4 Rooms',\n",
       "       'semi-detached house', 'hdb 3 rooms', 'executive condo',\n",
       "       'corner terrace', 'hdb executive', 'Hdb 3 Rooms', 'Hdb 5 Rooms',\n",
       "       'hdb 5 rooms', 'landed', 'hdb 2 rooms', 'Executive Condo',\n",
       "       'Bungalow', 'Corner Terrace', 'Terraced House', 'cluster house',\n",
       "       'Cluster House', 'Land Only', 'townhouse', 'Hdb 2 Rooms',\n",
       "       'conservation house', 'land only', 'walk-up', 'Townhouse',\n",
       "       'Conservation House', 'good class bungalow', 'Landed', 'shophouse'],\n",
       "      dtype=object)"
      ]
     },
     "execution_count": 5,
     "metadata": {},
     "output_type": "execute_result"
    }
   ],
   "source": [
    "df_train_original['property_type'].unique()"
   ]
  },
  {
   "cell_type": "code",
   "execution_count": 6,
   "id": "6f35e151-8140-41aa-b899-d6a1e9889d2a",
   "metadata": {},
   "outputs": [
    {
     "data": {
      "text/plain": [
       "array(['hdb', 'condo', 'bungalow', 'terraced house', 'apartment',\n",
       "       'semi-detached house', 'executive condo', 'corner terrace',\n",
       "       'landed', 'cluster house', 'land only', 'townhouse',\n",
       "       'conservation house', 'walk-up', 'good class bungalow',\n",
       "       'shophouse'], dtype=object)"
      ]
     },
     "execution_count": 6,
     "metadata": {},
     "output_type": "execute_result"
    }
   ],
   "source": [
    "preprocess.process_property_type(df_train_original)\n",
    "df_train_original['property_type'].unique()"
   ]
  },
  {
   "cell_type": "markdown",
   "id": "b2a93996-3a0c-4ac5-bb90-a2e89b933582",
   "metadata": {},
   "source": [
    "### tenure"
   ]
  },
  {
   "cell_type": "markdown",
   "id": "920d8727-7b06-4406-bffd-cdd2a453c3d4",
   "metadata": {},
   "source": [
    "According to Singapore Government, there are only three types of valid tenure: 99-year, 999-year and freehold. So we will map the values to those three types based on the most similar lease length. For NA values, we will discuss how to fill them in pre-processing steps."
   ]
  },
  {
   "cell_type": "code",
   "execution_count": 7,
   "id": "0f4f5c1f-b639-42a7-a6ac-8ba728fa5c02",
   "metadata": {},
   "outputs": [
    {
     "data": {
      "text/plain": [
       "array([nan, '99-year leasehold', 'freehold', '999-year leasehold',\n",
       "       '110-year leasehold', '946-year leasehold', '103-year leasehold',\n",
       "       '956-year leasehold', '929-year leasehold', '102-year leasehold',\n",
       "       '100-year leasehold', '947-year leasehold'], dtype=object)"
      ]
     },
     "execution_count": 7,
     "metadata": {},
     "output_type": "execute_result"
    }
   ],
   "source": [
    "df_train_original['tenure'].unique()"
   ]
  },
  {
   "cell_type": "markdown",
   "id": "92a20123-6214-4948-96d9-f4d28ec20c27",
   "metadata": {},
   "source": [
    "### built_year"
   ]
  },
  {
   "cell_type": "markdown",
   "id": "6686377c-19ad-4c6a-8fdc-22cd63737b8a",
   "metadata": {},
   "source": [
    "For built years, there aren't many things to care about. The only thing we need to pay attention to is how to fill the NA values and it will be discussed in pre-processing."
   ]
  },
  {
   "cell_type": "code",
   "execution_count": 8,
   "id": "8522c795-c115-4907-b7f6-7afc7c5c427e",
   "metadata": {},
   "outputs": [
    {
     "data": {
      "text/plain": [
       "array([1963., 1967., 1968., 1969., 1970., 1971., 1972., 1973., 1974.,\n",
       "       1975., 1976., 1977., 1978., 1979., 1980., 1981., 1982., 1983.,\n",
       "       1984., 1985., 1986., 1987., 1988., 1989., 1990., 1991., 1992.,\n",
       "       1993., 1994., 1995., 1996., 1997., 1998., 1999., 2000., 2001.,\n",
       "       2002., 2003., 2004., 2005., 2006., 2007., 2008., 2009., 2010.,\n",
       "       2011., 2012., 2013., 2014., 2015., 2016., 2017., 2018., 2019.,\n",
       "       2020., 2021., 2022., 2023., 2024., 2025., 2026., 2027., 2028.,\n",
       "         nan])"
      ]
     },
     "execution_count": 8,
     "metadata": {},
     "output_type": "execute_result"
    }
   ],
   "source": [
    "df_train_original['built_year'].sort_values().unique()"
   ]
  },
  {
   "cell_type": "markdown",
   "id": "50de0185-7a21-4de1-9669-93785176dfdd",
   "metadata": {},
   "source": [
    "### num_beds & num_baths"
   ]
  },
  {
   "cell_type": "markdown",
   "id": "732533e3-a986-41b8-954e-8e398c13073b",
   "metadata": {},
   "source": [
    "We can see majority of the combinations of bedroom number and bathroom number is fine. Later in preprocessing we will only take care of the two outliers, (1 bedroom + 10 bathrooms) and (10 bedrooms + 1 bathroom). How to fill NA values will be discussed in preprocessing steps."
   ]
  },
  {
   "cell_type": "code",
   "execution_count": 9,
   "id": "ee3edc4a-0be6-4328-9c2b-af6113ddd119",
   "metadata": {},
   "outputs": [
    {
     "data": {
      "image/png": "[encoded data removed]",
      "text/plain": [
       "<Figure size 432x288 with 1 Axes>"
      ]
     },
     "metadata": {
      "needs_background": "light"
     },
     "output_type": "display_data"
    }
   ],
   "source": [
    "beds_baths_mask = (~df_train_original['num_beds'].isna()) & (~df_train_original['num_baths'].isna())\n",
    "df_train_for_rooms = df_train_original[beds_baths_mask]\n",
    "num_beds = df_train_for_rooms['num_beds'].to_list()\n",
    "num_baths = df_train_for_rooms['num_baths'].to_list()\n",
    "plt.scatter(num_beds, num_baths)\n",
    "plt.xticks(np.arange(0, 11, 1))\n",
    "plt.yticks(np.arange(0, 11, 1))\n",
    "plt.grid()\n",
    "plt.xlabel('num_beds')\n",
    "plt.ylabel('num_baths')\n",
    "plt.show()"
   ]
  },
  {
   "cell_type": "markdown",
   "id": "1c7d5955-3357-4029-889d-c7120dbdffe0",
   "metadata": {},
   "source": [
    "### Latitude & Longitude"
   ]
  },
  {
   "cell_type": "markdown",
   "id": "b28b360c-f27f-4915-9a6c-2311ed5770ae",
   "metadata": {},
   "source": [
    "The most intuitive way to visualize latitudes and longitudes is plotting them like a map! Apart from just showing the location distribution of our whole dataset, we also want to know the density. So we use Kernel Density Estimation to calculate the probability density for each location and use it as the color coding. The brighter the point, the denser the properties in that area!\n",
    "\n",
    "Since we want to save your time for calculating the kernel density, we save the images beforehand. If you want to plot them, just un-comment the two functions below.\n",
    "\n",
    "From the original plot on the left, we can immediatly tell some locations are wrong. In fact the most dense point (the yellow point) should be all correct locations in Singapore. Other locations are wrong due to data collection issues. After looking into those data, we find they are all from four condos, so we decide to do a manual lookup from Google Maps to correct them. After fixing them, we can see the updated plot on the right, and it indeed shows the perfect match to Singapore territory."
   ]
  },
  {
   "cell_type": "code",
   "execution_count": 10,
   "id": "686bb376-d4c5-42f0-8e87-8a92fdae8489",
   "metadata": {},
   "outputs": [],
   "source": [
    "lat_array = df_train_original['lat'].to_numpy()\n",
    "lng_array = df_train_original['lng'].to_numpy()\n",
    "# preprocess.save_geo_scatter_plot(lat_array, lng_array, IMG_DIR + 'geo_coordinates_density_plot_pre.png')\n",
    "\n",
    "preprocess.fix_abnormal_geo_location(df_train_original)\n",
    "new_lat_array = df_train_original['lat'].to_numpy()\n",
    "new_lng_array = df_train_original['lng'].to_numpy()\n",
    "# preprocess.save_geo_scatter_plot(new_lat_array, new_lng_array, IMG_DIR + 'geo_coordinates_density_plot_post.png')"
   ]
  },
  {
   "cell_type": "markdown",
   "id": "8cb97304-1327-4528-9860-dd8d2d9abcd5",
   "metadata": {},
   "source": [
    "<img src=\"img/geo_coordinates_density_plot_pre.png\" width=\"45%\"> <img src=\"img/geo_coordinates_density_plot_post.png\" width=\"45%\">"
   ]
  },
  {
   "cell_type": "markdown",
   "id": "5392b5e6-a163-48b5-8879-2aa245d85160",
   "metadata": {},
   "source": [
    "### subzone & planning_area"
   ]
  },
  {
   "cell_type": "markdown",
   "id": "97d589f2-8cdd-4dbb-a7a0-6f19d2f7206f",
   "metadata": {},
   "source": [
    "They have a hierachical structure as planning_area -> subzone. The only thing we need to solve is the NA values. Since we have complete and correct data for latitudes and longitudes now, we can use these two features to construct a KNN classifier to find the missing subzone values. This is geographically practical as the property should be within the same subzone area in its vicnity. After getting all subzones, we can map the planning_area according to subzone as they have the hierachical structure. The code will be implemented in preprocessing steps."
   ]
  },
  {
   "cell_type": "code",
   "execution_count": 11,
   "id": "07a2c99d-0d71-4de3-8b43-93994edda665",
   "metadata": {},
   "outputs": [
    {
     "name": "stdout",
     "output_type": "stream",
     "text": [
      "NA values in subzone: Yes\n",
      "NA values in planning_area: Yes\n"
     ]
    }
   ],
   "source": [
    "print('NA values in subzone:', 'Yes' if df_train_original['subzone'].isna().any() else 'No')\n",
    "print('NA values in planning_area:', 'Yes' if df_train_original['planning_area'].isna().any() else 'No')"
   ]
  },
  {
   "cell_type": "markdown",
   "id": "6ec620e6-a6d3-4c90-acda-de7f41ee54eb",
   "metadata": {},
   "source": [
    "### size_sqft & price"
   ]
  },
  {
   "cell_type": "markdown",
   "id": "6279ff7b-621f-46c6-b375-17112f69d3ed",
   "metadata": {},
   "source": [
    "These two columns should be most important in the resale price prediction task. The price is the label, and the size_sqft should be considerably the lasgest contributing factor to the label. The understanding and processing of these two columns are extremely challenging because there is a very wide variation. Some prices may be normal for a bungalow, but it would be an outlier for a hdb. Similarly, some sizes in sqft might be normal to a landed house, but it would be again an outlier for a hdb. Thus, the optimal way to analyze the data is to divide them by property types."
   ]
  },
  {
   "cell_type": "code",
   "execution_count": 12,
   "id": "d847a17a-eb65-4dad-bada-a13558b24bfe",
   "metadata": {},
   "outputs": [
    {
     "data": {
      "text/plain": [
       "condo                  9648\n",
       "hdb                    6332\n",
       "semi-detached house    1018\n",
       "executive condo        1010\n",
       "bungalow                747\n",
       "apartment               540\n",
       "terraced house          446\n",
       "corner terrace          255\n",
       "cluster house           184\n",
       "conservation house       21\n",
       "landed                   20\n",
       "walk-up                  16\n",
       "townhouse                 9\n",
       "good class bungalow       5\n",
       "land only                 2\n",
       "shophouse                 1\n",
       "Name: property_type, dtype: int64"
      ]
     },
     "execution_count": 12,
     "metadata": {},
     "output_type": "execute_result"
    }
   ],
   "source": [
    "df_train_original['property_type'].value_counts()"
   ]
  },
  {
   "cell_type": "markdown",
   "id": "971e06b0-270d-491d-8d72-d328ec4bd728",
   "metadata": {},
   "source": [
    "To avoid big property with low price or small property with high price, we are specifically interest in the price per sqft. It should be a more accurate measure. What we are doing here is to interatively plot the price per sqft in histogram for each type and identify the outliers. How we handle those outliers will be discussed in preprocessing."
   ]
  },
  {
   "cell_type": "code",
   "execution_count": 13,
   "id": "ff3f529b-f94d-4ffb-b8d1-ebc19e6d322d",
   "metadata": {},
   "outputs": [],
   "source": [
    "# remove 0 price rows\n",
    "preprocess.remove_price_zero_records(df_train_original)\n",
    "# size_sqft\n",
    "preprocess.fill_zero_sqft(df_train_original)\n",
    "preprocess.fix_abnormal_sqft(df_train_original)\n",
    "preprocess.convert_sqm_to_sqft(df_train_original)\n",
    "# price\n",
    "preprocess.fix_super_high_price(df_train_original)\n",
    "# add price_per_sqft for plotting\n",
    "df_train_original['price_per_sqft'] = df_train_original['price'] / df_train_original['size_sqft']"
   ]
  },
  {
   "cell_type": "markdown",
   "id": "c470dc8b-a3cf-4ebd-a90c-27fdfa4e9ec6",
   "metadata": {},
   "source": [
    "After fixing all the outliers, we will plot the histogram to check whether it is a bell-curve like shape for each property type. But we can only do it for those property types with adequate number of candidates. So we choose nine types to plot below. There are so few candidates in other types (shown above) so we skip the plotting.\n",
    "\n",
    "P.S. There is an exception in the plot for bungalow, but after we look into the data and research online, we find the data samples are actually credible. Maybe some bungalows just have this kind of sky high price per sqft :)"
   ]
  },
  {
   "cell_type": "code",
   "execution_count": 14,
   "id": "6e3ce0d9-76b9-43e0-bc5b-d512f98f075d",
   "metadata": {},
   "outputs": [
    {
     "data": {
      "image/png": "[encoded data removed]",
      "text/plain": [
       "<Figure size 1800x1200 with 9 Axes>"
      ]
     },
     "metadata": {
      "needs_background": "light"
     },
     "output_type": "display_data"
    }
   ],
   "source": [
    "property_type_matrix = np.array([['condo', 'hdb', 'semi-detached house'], \n",
    "                                 ['executive condo', 'bungalow', 'apartment'], \n",
    "                                 ['terraced house', 'corner terrace', 'cluster house']])\n",
    "fig, axs = plt.subplots(property_type_matrix.shape[0], property_type_matrix.shape[1], layout=\"constrained\", dpi=300)\n",
    "fig.suptitle('Price per sqft for different property type')\n",
    "it = np.nditer(property_type_matrix, flags=['multi_index'])\n",
    "for property_type in it:\n",
    "    multi_index = it.multi_index\n",
    "    data_array = df_train_original[df_train_original['property_type'] == property_type]['price_per_sqft'].to_numpy()\n",
    "    axs[multi_index[0], multi_index[1]].hist(data_array, bins=50)\n",
    "    axs[multi_index[0], multi_index[1]].set_title(str(property_type))"
   ]
  },
  {
   "cell_type": "markdown",
   "id": "3087c81c-86ad-4928-9817-c08f60ad662a",
   "metadata": {},
   "source": [
    "# Preprocess"
   ]
  },
  {
   "cell_type": "markdown",
   "id": "941d4202-494e-45aa-889c-dc7ac092e337",
   "metadata": {},
   "source": [
    "Following data will be used in later encoding steps."
   ]
  },
  {
   "cell_type": "code",
   "execution_count": 15,
   "id": "79c34b6b-16b5-41bc-bc25-9888f4a79c14",
   "metadata": {},
   "outputs": [],
   "source": [
    "YEAR_BINS = pd.IntervalIndex.from_tuples([(0, 1980), (1980, 1990), (1990, 2000), (2000, 2010), (2010, 2020), (2020, 3000)])\n",
    "YEAR_LABELS = dict(zip(YEAR_BINS, ['y0','y1','y2','y3','y4','y5']))\n",
    "YEAR_DICT = { 'y0': 0., 'y1': 1., 'y2': 2., 'y3': 3., 'y4': 4., 'y5': 5. }"
   ]
  },
  {
   "cell_type": "code",
   "execution_count": 16,
   "id": "70d27cd1-2464-4ec0-84c7-5ce0cad1f09f",
   "metadata": {},
   "outputs": [],
   "source": [
    "df_subzone = pd.read_csv(SUBZONE_FILE)\n",
    "PLANNING_AREA_LIST = df_subzone['planning_area'].unique()"
   ]
  },
  {
   "cell_type": "markdown",
   "id": "2364bc16-70a9-4d6f-ac94-49403427071e",
   "metadata": {},
   "source": [
    "Load the train/test data."
   ]
  },
  {
   "cell_type": "code",
   "execution_count": 17,
   "id": "ad5c31d7-1624-454d-8410-e397d4251a70",
   "metadata": {},
   "outputs": [],
   "source": [
    "df_train = pd.read_csv(TRAIN_FILE)\n",
    "df_test = pd.read_csv(TEST_FILE)"
   ]
  },
  {
   "cell_type": "markdown",
   "id": "671a150e-3780-4191-8430-4f064ad74d20",
   "metadata": {},
   "source": [
    "### Preprocess df_train"
   ]
  },
  {
   "cell_type": "markdown",
   "id": "cfbc3098-5d9a-4270-a4c2-933e49216eb1",
   "metadata": {},
   "source": [
    "We will preprocess the size_sqft, price, num_beds separately for train and test.\n",
    "For train data, following preprocessing is done:\n",
    "- num_beds: 1. For some studios, fill the number with 0, this is contextually correct as studio type means there is no separate bedrooms; 2. For some super big studios, it is actually the kind of project that allow the owner to configure the number of bedrooms themselves, so we just fill the number same as the bathrooms; 3. For special properties, we manually look up online and fill them.\n",
    "- size_sqft: 1. For NA value, we found there is only one entry, so we manually lookup and fill; 2. For some areas, they are so small as if they are in sqm, so we convert them back to sqft; 3. We refer to EDA last step and iteratively fix abnormal size_sqft values based on the histogram.\n",
    "- price: 1. All data entries with zero price are removed. 2. We refer to EDA last step and iteratively fix abnormal price values based on the histogram."
   ]
  },
  {
   "cell_type": "code",
   "execution_count": 18,
   "id": "05f12f14-592e-402f-b1a0-581903bb7dfb",
   "metadata": {},
   "outputs": [],
   "source": [
    "# size_sqft\n",
    "preprocess.fill_zero_sqft(df_train)\n",
    "preprocess.fix_abnormal_sqft(df_train)\n",
    "preprocess.convert_sqm_to_sqft(df_train)\n",
    "# num_beds\n",
    "preprocess.fill_na_num_beds(df_train)\n",
    "# fix odd num_baths\n",
    "preprocess.fix_abnormal_beds_baths_number(df_train)\n",
    "# remove 0 price rows\n",
    "preprocess.remove_price_zero_records(df_train)\n",
    "# price\n",
    "preprocess.fix_super_high_price(df_train)"
   ]
  },
  {
   "cell_type": "markdown",
   "id": "2abf478c-5099-4cea-899a-23a44d197aa5",
   "metadata": {},
   "source": [
    "### Preprocess df_test"
   ]
  },
  {
   "cell_type": "markdown",
   "id": "5b0841dc-e2a5-4522-9693-a8dae45473a8",
   "metadata": {},
   "source": [
    "- num_beds: Follow the same procedure as training data.\n",
    "- size_sqft: 1. For some areas, they are so small as if they are in sqm, so we convert them back to sqft; 2. For finding abnormal values, the process is similar to the histogram process as training data. But we don't have the price for test data. Thus the histogram is plotting the area size only."
   ]
  },
  {
   "cell_type": "code",
   "execution_count": 19,
   "id": "d3555d3a-eb20-4ad2-9035-f40bcae5e4e5",
   "metadata": {},
   "outputs": [],
   "source": [
    "# size_sqft\n",
    "preprocess.convert_sqm_to_sqft_for_test(df_test)\n",
    "preprocess.fix_abnormal_sqft_for_test(df_test)\n",
    "# num_beds\n",
    "preprocess.fill_na_num_beds_for_test(df_test)"
   ]
  },
  {
   "cell_type": "markdown",
   "id": "803638e8-1f37-4cda-af44-1ef435809cb2",
   "metadata": {},
   "source": [
    "### Combine & Preprocess"
   ]
  },
  {
   "cell_type": "code",
   "execution_count": 20,
   "id": "b6bbcadc-1287-4e3e-a54f-e1a5c59cb639",
   "metadata": {},
   "outputs": [],
   "source": [
    "# assign an invalid price to test data, combine train/test data together for preprocess\n",
    "df_test['price'] = -1.\n",
    "train_test_delimiter = len(df_train)\n",
    "df_all = pd.concat((df_train, df_test))"
   ]
  },
  {
   "cell_type": "markdown",
   "id": "e5b25fa2-2ce5-4d3d-a6a9-b4c6f32dbfa5",
   "metadata": {},
   "source": [
    "Following are preprocessing steps other columns:\n",
    "- num_baths: To fill NA values, we group by num_beds and select the most common value in the num_beds group to assign for missing num_bath value.\n",
    "- property_type: Same as described in EDA.\n",
    "- tenure: 1. Same as described in EDA; 2. To fill NA values, we group by property_type and then assign the missing tenure value randomly. The probability is proportional to the size of a tenure in a particular property_type group.\n",
    "- built_year: To fill NA values, 1. We first try to look for same property_name, same project should have a consistent built_year; 2. We want to do the same handling as tenure if same property_name does not present. But there are simple too many years... Thus we discretize the year to 10-year interval and do the same filling method as tenure; 3. After that, we find a special property_type conservation house. They are all historical buildings and so we just assign the oldest discretized year interval.\n",
    "- lat & lng: Same as described in EDA.\n",
    "- subzone: Same as described in EDA.\n",
    "- planning_area: Same as described in EDA."
   ]
  },
  {
   "cell_type": "code",
   "execution_count": 21,
   "id": "91a88617-4c8e-46a9-9510-f7e6a51c87f0",
   "metadata": {},
   "outputs": [
    {
     "name": "stderr",
     "output_type": "stream",
     "text": [
      "C:\\Users\\Owner\\anaconda3\\lib\\site-packages\\sklearn\\neighbors\\_classification.py:228: FutureWarning: Unlike other reduction functions (e.g. `skew`, `kurtosis`), the default behavior of `mode` typically preserves the axis it acts along. In SciPy 1.11.0, this behavior will change: the default value of `keepdims` will become False, the `axis` over which the statistic is taken will be eliminated, and the value None will no longer be accepted. Set `keepdims` to True or False to avoid this warning.\n",
      "  mode, _ = stats.mode(_y[neigh_ind, k], axis=1)\n"
     ]
    }
   ],
   "source": [
    "# fixed random for preprocessing\n",
    "np.random.seed(5228)\n",
    "\n",
    "# num_baths, for both train/test\n",
    "preprocess.map_value_by_most_common(df_all, 'num_baths', 'num_beds')\n",
    "# property_type\n",
    "preprocess.process_property_type(df_all)\n",
    "# tenure\n",
    "preprocess.universalize_tenure(df_all)\n",
    "# tenure fill na\n",
    "preprocess.fillna_by_grouping(df_all, 'tenure', 'property_type')\n",
    "# built year\n",
    "preprocess.fillna_by_property_name(df_all, 'built_year')\n",
    "preprocess.discretize_built_year(df_all, YEAR_BINS, YEAR_LABELS)\n",
    "# built year fill na\n",
    "preprocess.fillna_by_grouping(df_all, 'built_year', 'property_type')\n",
    "preprocess.fill_conservation_house_built_year(df_all, 'y0')\n",
    "# lat & lng\n",
    "preprocess.fix_abnormal_geo_location(df_all)\n",
    "# subzone\n",
    "preprocess.map_subzone_by_geo_location_knn(df_all)\n",
    "# planning_area\n",
    "preprocess.map_value_by_most_common(df_all, 'planning_area', 'subzone')"
   ]
  },
  {
   "cell_type": "markdown",
   "id": "621e94e4-a33f-4bf2-a6cd-77d773df3f33",
   "metadata": {},
   "source": [
    "### Process Auxiliary Data"
   ]
  },
  {
   "cell_type": "markdown",
   "id": "fe44889e-d3de-4eb3-8e34-d4d6feb8484e",
   "metadata": {},
   "source": [
    "We decide to utilize the auxiliary data by calculating the distance between the property and those commercial centers, schools, etc."
   ]
  },
  {
   "cell_type": "code",
   "execution_count": 22,
   "id": "7b14790e-63be-46ec-ad6b-983147dc9375",
   "metadata": {},
   "outputs": [],
   "source": [
    "# property location data frame\n",
    "data_groupby = df_all.groupby(['property_name'])\n",
    "df_property_name_location = data_groupby.agg(lat=('lat', 'mean'), lng=('lng', 'mean'))"
   ]
  },
  {
   "cell_type": "markdown",
   "id": "0cfdedd0-4857-4a1a-93e7-420223737dac",
   "metadata": {},
   "source": [
    "Save property number of the open task 3."
   ]
  },
  {
   "cell_type": "code",
   "execution_count": 23,
   "id": "9b6044b1-fc3d-40ba-97be-1bc5be972a1c",
   "metadata": {},
   "outputs": [],
   "source": [
    "Path(PROCESSED_DATA_DIR).mkdir(parents=True, exist_ok=True)\n",
    "# data_groupby.size().to_csv(PROCESSED_PROPERTY_NUMBER)"
   ]
  },
  {
   "cell_type": "code",
   "execution_count": 24,
   "id": "7833292a-231f-4071-90df-92587999441e",
   "metadata": {},
   "outputs": [],
   "source": [
    "df_commercial_center = pd.read_csv(COMMERCIAL_CENTER_FILE)\n",
    "df_mrt = pd.read_csv(MRT_FILE)\n",
    "df_primary_school = pd.read_csv(PRIMARY_SCHOOL_FILE)\n",
    "df_secondary_school = pd.read_csv(SECONDARY_SCHOOL_FILE)\n",
    "df_shopping_mall = pd.read_csv(SHOPPING_MALL_FILE)"
   ]
  },
  {
   "cell_type": "markdown",
   "id": "2e53b107-8035-479d-aef0-1a734edea1df",
   "metadata": {},
   "source": [
    "Feel free to un-comment below code to re-calculate the distance, or you can just use the calculated ones stored in the file."
   ]
  },
  {
   "cell_type": "code",
   "execution_count": 25,
   "id": "b52146f7-ae2a-4dee-8c55-178e81dd467b",
   "metadata": {},
   "outputs": [],
   "source": [
    "# # commercial center\n",
    "# distance_commercial_center = preprocess.calculate_distance_km(df_property_name_location, df_commercial_center)\n",
    "# np.save(COMMERCIAL_CENTER_DIS_FILE, distance_commercial_center)\n",
    "# # mrt\n",
    "# distance_mrt = preprocess.calculate_distance_km(df_property_name_location, df_mrt)\n",
    "# np.save(MRT_DIS_FILE, distance_mrt)\n",
    "# # primary school\n",
    "# distance_primary_school = preprocess.calculate_distance_km(df_property_name_location, df_primary_school)\n",
    "# np.save(PRIMARY_SCHOOL_DIS_FILE, distance_primary_school)\n",
    "# # secondary school\n",
    "# distance_secondary_school = preprocess.calculate_distance_km(df_property_name_location, df_secondary_school)\n",
    "# np.save(SECONDARY_SCHOOL_DIS_FILE, distance_secondary_school)\n",
    "# # shopping mall\n",
    "# distance_shopping_mall = preprocess.calculate_distance_km(df_property_name_location, df_shopping_mall)\n",
    "# np.save(SHOPPING_MALL_DIS_FILE, distance_shopping_mall)"
   ]
  },
  {
   "cell_type": "code",
   "execution_count": 26,
   "id": "670a3573-66d2-407d-8770-b3431efc0a8e",
   "metadata": {},
   "outputs": [],
   "source": [
    "distance_commercial_center = np.load(COMMERCIAL_CENTER_DIS_FILE)\n",
    "distance_mrt = np.load(MRT_DIS_FILE)\n",
    "distance_primary_school = np.load(PRIMARY_SCHOOL_DIS_FILE)\n",
    "distance_secondary_school = np.load(SECONDARY_SCHOOL_DIS_FILE)\n",
    "distance_shopping_mall = np.load(SHOPPING_MALL_DIS_FILE)"
   ]
  },
  {
   "cell_type": "markdown",
   "id": "e50002fb-f5a0-4535-9d81-609acb89ab5e",
   "metadata": {},
   "source": [
    "For different kinds of targets (schools/mrt/shopping mall), we use the number of those targets within a certain range as a new feature for the property. Additionaly, we add the distance to nearest MRT station also."
   ]
  },
  {
   "cell_type": "code",
   "execution_count": 27,
   "id": "9ca2fdec-341d-4d8f-aff0-9e0e5b2b0bf3",
   "metadata": {},
   "outputs": [],
   "source": [
    "# comercial center\n",
    "preprocess.populate_num_targets_within_range(df_all, df_property_name_location, distance_commercial_center, 0, 5, 'num_cc_5km')\n",
    "# mrt\n",
    "preprocess.populate_num_targets_within_range(df_all, df_property_name_location, distance_mrt, 0, 0.8, 'num_mrt_800m')\n",
    "preprocess.populate_distance_to_nearest_target(df_all, df_property_name_location, distance_mrt, 'nearest_mrt_km')\n",
    "# primary school\n",
    "preprocess.populate_num_targets_within_range(df_all, df_property_name_location, distance_primary_school, 0, 1, 'num_ps_1km')\n",
    "preprocess.populate_num_targets_within_range(df_all, df_property_name_location, distance_primary_school, 1, 2, 'num_ps_1km_to_2km')\n",
    "# secondary school\n",
    "preprocess.populate_num_targets_within_range(df_all, df_property_name_location, distance_secondary_school, 0, 1, 'num_ss_1km')\n",
    "preprocess.populate_num_targets_within_range(df_all, df_property_name_location, distance_secondary_school, 1, 2, 'num_ss_1km_to_2km')\n",
    "# shopping mall\n",
    "preprocess.populate_num_targets_within_range(df_all, df_property_name_location, distance_shopping_mall, 0, 3, 'num_sm_3km')\n",
    "# rearrange_columns\n",
    "df_all = preprocess.move_price_to_last_column(df_all)"
   ]
  },
  {
   "cell_type": "markdown",
   "id": "bbf8aef2-55b8-41d6-a00f-3ef2b49444e8",
   "metadata": {},
   "source": [
    "### Drop unused columns"
   ]
  },
  {
   "cell_type": "code",
   "execution_count": 28,
   "id": "4641003d-939f-4dd9-8b30-2bf5be50a9f3",
   "metadata": {},
   "outputs": [
    {
     "name": "stderr",
     "output_type": "stream",
     "text": [
      "C:\\Users\\Owner\\AppData\\Local\\Temp\\ipykernel_20580\\4157903538.py:13: SettingWithCopyWarning: \n",
      "A value is trying to be set on a copy of a slice from a DataFrame\n",
      "\n",
      "See the caveats in the documentation: https://pandas.pydata.org/pandas-docs/stable/user_guide/indexing.html#returning-a-view-versus-a-copy\n",
      "  df_all.drop(columns=dropped_columns, inplace=True)\n"
     ]
    }
   ],
   "source": [
    "dropped_columns = [\n",
    "    \"title\", \n",
    "    \"address\",\n",
    "    \"property_name\",\n",
    "    \"floor_level\", \n",
    "    \"elevation\", \n",
    "    \"available_unit_types\", \n",
    "    \"total_num_units\", \n",
    "    \"furnishing\", \n",
    "    \"available_unit_types\", \n",
    "    \"property_details_url\",\n",
    "]\n",
    "df_all.drop(columns=dropped_columns, inplace=True)"
   ]
  },
  {
   "cell_type": "markdown",
   "id": "5988f720-784b-48f9-8e68-db962ff5a69f",
   "metadata": {},
   "source": [
    "### Encode Categorical Features"
   ]
  },
  {
   "cell_type": "markdown",
   "id": "1e950bd3-34a6-4f8b-a34a-b9df9a0c2718",
   "metadata": {},
   "source": [
    "built_year and tenure are ordinal encoded. planning_area and property_type are one-hot encoded."
   ]
  },
  {
   "cell_type": "code",
   "execution_count": 29,
   "id": "bea53667-674f-4762-89e0-418f6288d579",
   "metadata": {},
   "outputs": [
    {
     "name": "stderr",
     "output_type": "stream",
     "text": [
      "C:\\Users\\Owner\\Desktop\\CS5228\\project\\no-bylan-regressor\\utils\\preprocess.py:299: SettingWithCopyWarning: \n",
      "A value is trying to be set on a copy of a slice from a DataFrame.\n",
      "Try using .loc[row_indexer,col_indexer] = value instead\n",
      "\n",
      "See the caveats in the documentation: https://pandas.pydata.org/pandas-docs/stable/user_guide/indexing.html#returning-a-view-versus-a-copy\n",
      "  df['built_year'] = df['built_year'].map(map_dict)\n",
      "C:\\Users\\Owner\\Desktop\\CS5228\\project\\no-bylan-regressor\\utils\\preprocess.py:308: SettingWithCopyWarning: \n",
      "A value is trying to be set on a copy of a slice from a DataFrame.\n",
      "Try using .loc[row_indexer,col_indexer] = value instead\n",
      "\n",
      "See the caveats in the documentation: https://pandas.pydata.org/pandas-docs/stable/user_guide/indexing.html#returning-a-view-versus-a-copy\n",
      "  df['tenure'] = df['tenure'].map(tenure_dict)\n"
     ]
    }
   ],
   "source": [
    "# built_year\n",
    "preprocess.encode_built_year(df_all, YEAR_DICT)\n",
    "# tenure\n",
    "preprocess.encode_tenure(df_all)\n",
    "# planning_area\n",
    "df_all = preprocess.encode_planning_area(df_all, PLANNING_AREA_LIST)\n",
    "# property_type\n",
    "df_all = preprocess.encode_property_type(df_all)"
   ]
  },
  {
   "cell_type": "code",
   "execution_count": 30,
   "id": "00c8cc02-d2a3-40ae-992b-920bfae58bda",
   "metadata": {},
   "outputs": [],
   "source": [
    "# split train/test\n",
    "df_train = df_all[:train_test_delimiter].copy()\n",
    "df_test = df_all[train_test_delimiter:].copy()\n",
    "df_test.drop(columns=['price'], inplace=True)"
   ]
  },
  {
   "cell_type": "markdown",
   "id": "9b243e55-35d1-485e-95fa-037b899363f7",
   "metadata": {},
   "source": [
    "We further target encode the combination of subzone and property_type. Price per sqft is used as our traget when encoding. And test data are encoded by using the price per sqft from train data."
   ]
  },
  {
   "cell_type": "code",
   "execution_count": 31,
   "id": "13e6c6d7-c7a4-4f0c-ac4d-0c29266c785d",
   "metadata": {},
   "outputs": [],
   "source": [
    "# generate encoding dict for test\n",
    "subzone_encoding_dict = preprocess.generate_subzone_encoding_map(df_train)\n",
    "property_type_encoding_dict = preprocess.generate_property_type_encoding_map(df_train)\n",
    "# subzone, property_type\n",
    "# train\n",
    "subzone_property_type_encoding_dict = preprocess.target_encode_property_type_subzone(df_train)\n",
    "# test\n",
    "preprocess.target_encode_property_type_subzone_for_test(df_test, subzone_property_type_encoding_dict, subzone_encoding_dict, property_type_encoding_dict)"
   ]
  },
  {
   "cell_type": "code",
   "execution_count": 32,
   "id": "575579df-15b4-460b-b945-99c6301208dc",
   "metadata": {},
   "outputs": [],
   "source": [
    "# rearrange columns to put one hot encoding at last place\n",
    "df_train = preprocess.rearrange_columns(df_train)\n",
    "df_test = preprocess.rearrange_columns(df_test)"
   ]
  },
  {
   "cell_type": "markdown",
   "id": "5d64cf23-b712-49b6-b52f-63f401206aa4",
   "metadata": {},
   "source": [
    "Un-comment below saving csv line of code to replace the processed data for recommendation engine."
   ]
  },
  {
   "cell_type": "code",
   "execution_count": 33,
   "id": "40c202d7-7dbf-4f6a-8b62-a5dfe0260adc",
   "metadata": {},
   "outputs": [],
   "source": [
    "# for recommender system\n",
    "df_train_recommendation = df_train.copy()\n",
    "Path(PROCESSED_DATA_DIR).mkdir(parents=True, exist_ok=True)\n",
    "# df_train_recommendation.to_csv(PROCESSED_RECOMMENDATION_TRAIN_FILE, index=False)\n",
    "\n",
    "# drop listing id after preparing recommdation related data\n",
    "df_train.drop(columns=['listing_id'], inplace=True)\n",
    "df_test.drop(columns=['listing_id'], inplace=True)"
   ]
  },
  {
   "cell_type": "markdown",
   "id": "9d1bfd0c-af6d-4eb5-a44f-4809d09a36d4",
   "metadata": {},
   "source": [
    "Below is a final peak of our processed data."
   ]
  },
  {
   "cell_type": "code",
   "execution_count": 34,
   "id": "f9e18605-6f46-43b2-a7bb-5faeaccf7c82",
   "metadata": {},
   "outputs": [
    {
     "data": {
      "text/html": [
       "<div>\n",
       "<style scoped>\n",
       "    .dataframe tbody tr th:only-of-type {\n",
       "        vertical-align: middle;\n",
       "    }\n",
       "\n",
       "    .dataframe tbody tr th {\n",
       "        vertical-align: top;\n",
       "    }\n",
       "\n",
       "    .dataframe thead th {\n",
       "        text-align: right;\n",
       "    }\n",
       "</style>\n",
       "<table border=\"1\" class=\"dataframe\">\n",
       "  <thead>\n",
       "    <tr style=\"text-align: right;\">\n",
       "      <th></th>\n",
       "      <th>tenure</th>\n",
       "      <th>built_year</th>\n",
       "      <th>num_beds</th>\n",
       "      <th>num_baths</th>\n",
       "      <th>size_sqft</th>\n",
       "      <th>lat</th>\n",
       "      <th>lng</th>\n",
       "      <th>subzone_property_type_encoding</th>\n",
       "      <th>num_cc_5km</th>\n",
       "      <th>num_mrt_800m</th>\n",
       "      <th>...</th>\n",
       "      <th>pt_executive_condo</th>\n",
       "      <th>pt_good_class_bungalow</th>\n",
       "      <th>pt_hdb</th>\n",
       "      <th>pt_land_only</th>\n",
       "      <th>pt_landed</th>\n",
       "      <th>pt_semi-detached_house</th>\n",
       "      <th>pt_shophouse</th>\n",
       "      <th>pt_terraced_house</th>\n",
       "      <th>pt_townhouse</th>\n",
       "      <th>pt_walk-up</th>\n",
       "    </tr>\n",
       "  </thead>\n",
       "  <tbody>\n",
       "    <tr>\n",
       "      <th>0</th>\n",
       "      <td>0.0</td>\n",
       "      <td>1.0</td>\n",
       "      <td>3.0</td>\n",
       "      <td>2.0</td>\n",
       "      <td>1115.0</td>\n",
       "      <td>1.414399</td>\n",
       "      <td>103.837196</td>\n",
       "      <td>568.125814</td>\n",
       "      <td>3</td>\n",
       "      <td>1</td>\n",
       "      <td>...</td>\n",
       "      <td>0.0</td>\n",
       "      <td>0.0</td>\n",
       "      <td>1.0</td>\n",
       "      <td>0.0</td>\n",
       "      <td>0.0</td>\n",
       "      <td>0.0</td>\n",
       "      <td>0.0</td>\n",
       "      <td>0.0</td>\n",
       "      <td>0.0</td>\n",
       "      <td>0.0</td>\n",
       "    </tr>\n",
       "    <tr>\n",
       "      <th>1</th>\n",
       "      <td>0.0</td>\n",
       "      <td>2.0</td>\n",
       "      <td>4.0</td>\n",
       "      <td>2.0</td>\n",
       "      <td>1575.0</td>\n",
       "      <td>1.372597</td>\n",
       "      <td>103.875625</td>\n",
       "      <td>609.170390</td>\n",
       "      <td>8</td>\n",
       "      <td>2</td>\n",
       "      <td>...</td>\n",
       "      <td>0.0</td>\n",
       "      <td>0.0</td>\n",
       "      <td>1.0</td>\n",
       "      <td>0.0</td>\n",
       "      <td>0.0</td>\n",
       "      <td>0.0</td>\n",
       "      <td>0.0</td>\n",
       "      <td>0.0</td>\n",
       "      <td>0.0</td>\n",
       "      <td>0.0</td>\n",
       "    </tr>\n",
       "    <tr>\n",
       "      <th>2</th>\n",
       "      <td>2.0</td>\n",
       "      <td>5.0</td>\n",
       "      <td>4.0</td>\n",
       "      <td>6.0</td>\n",
       "      <td>3070.0</td>\n",
       "      <td>1.298773</td>\n",
       "      <td>103.895798</td>\n",
       "      <td>2664.659388</td>\n",
       "      <td>2</td>\n",
       "      <td>0</td>\n",
       "      <td>...</td>\n",
       "      <td>0.0</td>\n",
       "      <td>0.0</td>\n",
       "      <td>0.0</td>\n",
       "      <td>0.0</td>\n",
       "      <td>0.0</td>\n",
       "      <td>0.0</td>\n",
       "      <td>0.0</td>\n",
       "      <td>0.0</td>\n",
       "      <td>0.0</td>\n",
       "      <td>0.0</td>\n",
       "    </tr>\n",
       "    <tr>\n",
       "      <th>3</th>\n",
       "      <td>2.0</td>\n",
       "      <td>5.0</td>\n",
       "      <td>3.0</td>\n",
       "      <td>2.0</td>\n",
       "      <td>958.0</td>\n",
       "      <td>1.312364</td>\n",
       "      <td>103.803271</td>\n",
       "      <td>2907.132520</td>\n",
       "      <td>8</td>\n",
       "      <td>2</td>\n",
       "      <td>...</td>\n",
       "      <td>0.0</td>\n",
       "      <td>0.0</td>\n",
       "      <td>0.0</td>\n",
       "      <td>0.0</td>\n",
       "      <td>0.0</td>\n",
       "      <td>0.0</td>\n",
       "      <td>0.0</td>\n",
       "      <td>0.0</td>\n",
       "      <td>0.0</td>\n",
       "      <td>0.0</td>\n",
       "    </tr>\n",
       "    <tr>\n",
       "      <th>4</th>\n",
       "      <td>0.0</td>\n",
       "      <td>5.0</td>\n",
       "      <td>2.0</td>\n",
       "      <td>1.0</td>\n",
       "      <td>732.0</td>\n",
       "      <td>1.273959</td>\n",
       "      <td>103.843635</td>\n",
       "      <td>3085.236556</td>\n",
       "      <td>3</td>\n",
       "      <td>1</td>\n",
       "      <td>...</td>\n",
       "      <td>0.0</td>\n",
       "      <td>0.0</td>\n",
       "      <td>0.0</td>\n",
       "      <td>0.0</td>\n",
       "      <td>0.0</td>\n",
       "      <td>0.0</td>\n",
       "      <td>0.0</td>\n",
       "      <td>0.0</td>\n",
       "      <td>0.0</td>\n",
       "      <td>0.0</td>\n",
       "    </tr>\n",
       "  </tbody>\n",
       "</table>\n",
       "<p>5 rows × 87 columns</p>\n",
       "</div>"
      ],
      "text/plain": [
       "   tenure built_year  num_beds  num_baths  size_sqft       lat         lng  \\\n",
       "0     0.0        1.0       3.0        2.0     1115.0  1.414399  103.837196   \n",
       "1     0.0        2.0       4.0        2.0     1575.0  1.372597  103.875625   \n",
       "2     2.0        5.0       4.0        6.0     3070.0  1.298773  103.895798   \n",
       "3     2.0        5.0       3.0        2.0      958.0  1.312364  103.803271   \n",
       "4     0.0        5.0       2.0        1.0      732.0  1.273959  103.843635   \n",
       "\n",
       "   subzone_property_type_encoding  num_cc_5km  num_mrt_800m  ...  \\\n",
       "0                      568.125814           3             1  ...   \n",
       "1                      609.170390           8             2  ...   \n",
       "2                     2664.659388           2             0  ...   \n",
       "3                     2907.132520           8             2  ...   \n",
       "4                     3085.236556           3             1  ...   \n",
       "\n",
       "   pt_executive_condo  pt_good_class_bungalow  pt_hdb  pt_land_only  \\\n",
       "0                 0.0                     0.0     1.0           0.0   \n",
       "1                 0.0                     0.0     1.0           0.0   \n",
       "2                 0.0                     0.0     0.0           0.0   \n",
       "3                 0.0                     0.0     0.0           0.0   \n",
       "4                 0.0                     0.0     0.0           0.0   \n",
       "\n",
       "   pt_landed  pt_semi-detached_house  pt_shophouse  pt_terraced_house  \\\n",
       "0        0.0                     0.0           0.0                0.0   \n",
       "1        0.0                     0.0           0.0                0.0   \n",
       "2        0.0                     0.0           0.0                0.0   \n",
       "3        0.0                     0.0           0.0                0.0   \n",
       "4        0.0                     0.0           0.0                0.0   \n",
       "\n",
       "   pt_townhouse  pt_walk-up  \n",
       "0           0.0         0.0  \n",
       "1           0.0         0.0  \n",
       "2           0.0         0.0  \n",
       "3           0.0         0.0  \n",
       "4           0.0         0.0  \n",
       "\n",
       "[5 rows x 87 columns]"
      ]
     },
     "execution_count": 34,
     "metadata": {},
     "output_type": "execute_result"
    }
   ],
   "source": [
    "df_train.head()"
   ]
  },
  {
   "cell_type": "code",
   "execution_count": 35,
   "id": "4ca05e60-ec70-498b-9904-5f93d531d047",
   "metadata": {},
   "outputs": [
    {
     "data": {
      "text/html": [
       "<div>\n",
       "<style scoped>\n",
       "    .dataframe tbody tr th:only-of-type {\n",
       "        vertical-align: middle;\n",
       "    }\n",
       "\n",
       "    .dataframe tbody tr th {\n",
       "        vertical-align: top;\n",
       "    }\n",
       "\n",
       "    .dataframe thead th {\n",
       "        text-align: right;\n",
       "    }\n",
       "</style>\n",
       "<table border=\"1\" class=\"dataframe\">\n",
       "  <thead>\n",
       "    <tr style=\"text-align: right;\">\n",
       "      <th></th>\n",
       "      <th>tenure</th>\n",
       "      <th>built_year</th>\n",
       "      <th>num_beds</th>\n",
       "      <th>num_baths</th>\n",
       "      <th>size_sqft</th>\n",
       "      <th>lat</th>\n",
       "      <th>lng</th>\n",
       "      <th>subzone_property_type_encoding</th>\n",
       "      <th>num_cc_5km</th>\n",
       "      <th>num_mrt_800m</th>\n",
       "      <th>...</th>\n",
       "      <th>pt_executive_condo</th>\n",
       "      <th>pt_good_class_bungalow</th>\n",
       "      <th>pt_hdb</th>\n",
       "      <th>pt_land_only</th>\n",
       "      <th>pt_landed</th>\n",
       "      <th>pt_semi-detached_house</th>\n",
       "      <th>pt_shophouse</th>\n",
       "      <th>pt_terraced_house</th>\n",
       "      <th>pt_townhouse</th>\n",
       "      <th>pt_walk-up</th>\n",
       "    </tr>\n",
       "  </thead>\n",
       "  <tbody>\n",
       "    <tr>\n",
       "      <th>20153</th>\n",
       "      <td>2.0</td>\n",
       "      <td>5.0</td>\n",
       "      <td>1.0</td>\n",
       "      <td>1.0</td>\n",
       "      <td>463.0</td>\n",
       "      <td>1.344334</td>\n",
       "      <td>103.878690</td>\n",
       "      <td>2211.844028</td>\n",
       "      <td>7</td>\n",
       "      <td>1</td>\n",
       "      <td>...</td>\n",
       "      <td>0.0</td>\n",
       "      <td>0.0</td>\n",
       "      <td>0.0</td>\n",
       "      <td>0.0</td>\n",
       "      <td>0.0</td>\n",
       "      <td>0.0</td>\n",
       "      <td>0.0</td>\n",
       "      <td>0.0</td>\n",
       "      <td>0.0</td>\n",
       "      <td>0.0</td>\n",
       "    </tr>\n",
       "    <tr>\n",
       "      <th>20154</th>\n",
       "      <td>0.0</td>\n",
       "      <td>4.0</td>\n",
       "      <td>3.0</td>\n",
       "      <td>3.0</td>\n",
       "      <td>1033.0</td>\n",
       "      <td>1.380281</td>\n",
       "      <td>103.943878</td>\n",
       "      <td>1325.692993</td>\n",
       "      <td>6</td>\n",
       "      <td>0</td>\n",
       "      <td>...</td>\n",
       "      <td>0.0</td>\n",
       "      <td>0.0</td>\n",
       "      <td>0.0</td>\n",
       "      <td>0.0</td>\n",
       "      <td>0.0</td>\n",
       "      <td>0.0</td>\n",
       "      <td>0.0</td>\n",
       "      <td>0.0</td>\n",
       "      <td>0.0</td>\n",
       "      <td>0.0</td>\n",
       "    </tr>\n",
       "    <tr>\n",
       "      <th>20155</th>\n",
       "      <td>0.0</td>\n",
       "      <td>3.0</td>\n",
       "      <td>1.0</td>\n",
       "      <td>1.0</td>\n",
       "      <td>570.0</td>\n",
       "      <td>1.294668</td>\n",
       "      <td>103.850074</td>\n",
       "      <td>1879.354291</td>\n",
       "      <td>4</td>\n",
       "      <td>9</td>\n",
       "      <td>...</td>\n",
       "      <td>0.0</td>\n",
       "      <td>0.0</td>\n",
       "      <td>0.0</td>\n",
       "      <td>0.0</td>\n",
       "      <td>0.0</td>\n",
       "      <td>0.0</td>\n",
       "      <td>0.0</td>\n",
       "      <td>0.0</td>\n",
       "      <td>0.0</td>\n",
       "      <td>0.0</td>\n",
       "    </tr>\n",
       "    <tr>\n",
       "      <th>20156</th>\n",
       "      <td>0.0</td>\n",
       "      <td>4.0</td>\n",
       "      <td>3.0</td>\n",
       "      <td>2.0</td>\n",
       "      <td>1216.0</td>\n",
       "      <td>1.373120</td>\n",
       "      <td>103.746094</td>\n",
       "      <td>546.361513</td>\n",
       "      <td>2</td>\n",
       "      <td>0</td>\n",
       "      <td>...</td>\n",
       "      <td>0.0</td>\n",
       "      <td>0.0</td>\n",
       "      <td>1.0</td>\n",
       "      <td>0.0</td>\n",
       "      <td>0.0</td>\n",
       "      <td>0.0</td>\n",
       "      <td>0.0</td>\n",
       "      <td>0.0</td>\n",
       "      <td>0.0</td>\n",
       "      <td>0.0</td>\n",
       "    </tr>\n",
       "    <tr>\n",
       "      <th>20157</th>\n",
       "      <td>0.0</td>\n",
       "      <td>0.0</td>\n",
       "      <td>3.0</td>\n",
       "      <td>2.0</td>\n",
       "      <td>936.0</td>\n",
       "      <td>1.341468</td>\n",
       "      <td>103.849047</td>\n",
       "      <td>660.515132</td>\n",
       "      <td>4</td>\n",
       "      <td>1</td>\n",
       "      <td>...</td>\n",
       "      <td>0.0</td>\n",
       "      <td>0.0</td>\n",
       "      <td>1.0</td>\n",
       "      <td>0.0</td>\n",
       "      <td>0.0</td>\n",
       "      <td>0.0</td>\n",
       "      <td>0.0</td>\n",
       "      <td>0.0</td>\n",
       "      <td>0.0</td>\n",
       "      <td>0.0</td>\n",
       "    </tr>\n",
       "  </tbody>\n",
       "</table>\n",
       "<p>5 rows × 86 columns</p>\n",
       "</div>"
      ],
      "text/plain": [
       "       tenure built_year  num_beds  num_baths  size_sqft       lat  \\\n",
       "20153     2.0        5.0       1.0        1.0      463.0  1.344334   \n",
       "20154     0.0        4.0       3.0        3.0     1033.0  1.380281   \n",
       "20155     0.0        3.0       1.0        1.0      570.0  1.294668   \n",
       "20156     0.0        4.0       3.0        2.0     1216.0  1.373120   \n",
       "20157     0.0        0.0       3.0        2.0      936.0  1.341468   \n",
       "\n",
       "              lng  subzone_property_type_encoding  num_cc_5km  num_mrt_800m  \\\n",
       "20153  103.878690                     2211.844028           7             1   \n",
       "20154  103.943878                     1325.692993           6             0   \n",
       "20155  103.850074                     1879.354291           4             9   \n",
       "20156  103.746094                      546.361513           2             0   \n",
       "20157  103.849047                      660.515132           4             1   \n",
       "\n",
       "       ...  pt_executive_condo  pt_good_class_bungalow  pt_hdb  pt_land_only  \\\n",
       "20153  ...                 0.0                     0.0     0.0           0.0   \n",
       "20154  ...                 0.0                     0.0     0.0           0.0   \n",
       "20155  ...                 0.0                     0.0     0.0           0.0   \n",
       "20156  ...                 0.0                     0.0     1.0           0.0   \n",
       "20157  ...                 0.0                     0.0     1.0           0.0   \n",
       "\n",
       "       pt_landed  pt_semi-detached_house  pt_shophouse  pt_terraced_house  \\\n",
       "20153        0.0                     0.0           0.0                0.0   \n",
       "20154        0.0                     0.0           0.0                0.0   \n",
       "20155        0.0                     0.0           0.0                0.0   \n",
       "20156        0.0                     0.0           0.0                0.0   \n",
       "20157        0.0                     0.0           0.0                0.0   \n",
       "\n",
       "       pt_townhouse  pt_walk-up  \n",
       "20153           0.0         0.0  \n",
       "20154           0.0         0.0  \n",
       "20155           0.0         0.0  \n",
       "20156           0.0         0.0  \n",
       "20157           0.0         0.0  \n",
       "\n",
       "[5 rows x 86 columns]"
      ]
     },
     "execution_count": 35,
     "metadata": {},
     "output_type": "execute_result"
    }
   ],
   "source": [
    "df_test.head()"
   ]
  },
  {
   "cell_type": "code",
   "execution_count": 36,
   "id": "458f11cd-cf11-4fd9-a7de-9b9e97c23613",
   "metadata": {},
   "outputs": [
    {
     "name": "stdout",
     "output_type": "stream",
     "text": [
      "Records with NA value in train data: 0\n",
      "Records with NA value in test data: 0\n"
     ]
    }
   ],
   "source": [
    "print('Records with NA value in train data:', len(df_train[df_train.isna().any(axis=1)]))\n",
    "print('Records with NA value in test data:', len(df_test[df_test.isna().any(axis=1)]))"
   ]
  },
  {
   "cell_type": "markdown",
   "id": "467e61a8-f630-4cd6-a199-287be39d0c92",
   "metadata": {},
   "source": [
    "Un-comment below saving csv line of code to replace the processed data for resale price predictor."
   ]
  },
  {
   "cell_type": "code",
   "execution_count": 37,
   "id": "c410f9eb-f955-4a16-86d6-794cf9d254db",
   "metadata": {},
   "outputs": [],
   "source": [
    "Path(PROCESSED_DATA_DIR).mkdir(parents=True, exist_ok=True)\n",
    "# df_train.to_csv(PROCESSED_TRAIN_FILE, index=False)\n",
    "# df_test.to_csv(PROCESSED_TEST_FILE, index=False)"
   ]
  }
 ],
 "metadata": {
  "kernelspec": {
   "display_name": "Python 3 (ipykernel)",
   "language": "python",
   "name": "python3"
  },
  "language_info": {
   "codemirror_mode": {
    "name": "ipython",
    "version": 3
   },
   "file_extension": ".py",
   "mimetype": "text/x-python",
   "name": "python",
   "nbconvert_exporter": "python",
   "pygments_lexer": "ipython3",
   "version": "3.9.12"
  }
 },
 "nbformat": 4,
 "nbformat_minor": 5
}
