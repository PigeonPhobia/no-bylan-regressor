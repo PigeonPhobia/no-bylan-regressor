{
 "cells": [
  {
   "cell_type": "markdown",
   "id": "3d195f49",
   "metadata": {},
   "source": [
    "* this part is about data cleaning for task 1 "
   ]
  },
  {
   "cell_type": "markdown",
   "id": "83ed255d",
   "metadata": {},
   "source": [
    "* listing_id - unique identifier of the property listing\n",
    "    * drop\n",
    "* title - title of the property listing (e.g., \"2 bed condo for sale in 35 gilstead\")\n",
    "    * drop\n",
    "* address - address of the property (e.g., \"124 punggol walk\", \"11 sengkang east avenue\")\n",
    "    * drop\n",
    "* property_name - name of the property (e.g., \"redhill rise\", \"klimt cairnhill\")\n",
    "    * provide information, but drop at the end; average price\n",
    "* property_type - type of the property (e.g., \"condo\", \"hdb 2 rooms\", \"landed\")\n",
    "    * aggregation, hdb 2/3/4 rooms -> hdb\n",
    "* Z'tenure' - tenure of the property (e.g., \"freehold\", \"99-year leasehold\")\n",
    "    * 1.aggregation, 99/999/freehold, /2.or convert to numeric, left tenure years; assign tenure values of each property type to na value; tenure may affect price, for example, decreases largely last 40 years\n",
    "* Z'built_year' - year when the property was was built (e.g., 2014, 2021)\n",
    "    * to numeric;make built_year interval data and replenish na values with same processing of tenure\n",
    "* O'num_beds' - number of bedrooms (e.g., 1, 2, 3)\n",
    "    * na -> 0\n",
    "* O'num_baths' - number of bathrooms (e.g., 1, 2, 3)\n",
    "    * na: assign values according to property_name and sqft; or according to num_beds\n",
    "* S'size_sqft' - floor area in square feet (e.g., 807, 657, 1628)\n",
    "    * box plot visualization for outlier points processing, large -> /1000, small -> *100 or 0 for deletion; sqft price for data assigning according to grouping by attribute\n",
    "* floor_level - information about the floor level of the property (e.g., \"high\", \"low\")\n",
    "    * drop\n",
    "* furnishing - information whether the property is furnished (e.g., \"fully\", \"partial\")\n",
    "    * drop(70% unspecified) or one-hot as category type\n",
    "* available_unit_types - list of all types of units available in the property complex (e.g., \"studio, 3, 4, 5 br\")\n",
    "    * maybe drop\n",
    "* total_num_units - total number of units in the property complex (e.g., 115, 200)\n",
    "    * maybe drop\n",
    "* property_details_url - URL linking to more information about the property complex\n",
    "    * maybe drop or provide information\n",
    "* J'lat' - latitude of property (e.g., 1.328805)\n",
    "* J'lng' - longitude of property (e.g., 103.74502)\n",
    "    * lat & lng for aulixiary data calculation; assign value to extreme lat & lng according to property_name\n",
    "* elevation - elevation of the property in meters (e.g., 10)\n",
    "    * drop\n",
    "* J'subszone' - subzone of block containing the flat in meter (e.g., \"blangah rise\", \"marymount\")\n",
    "    * keep one, or planning area; knn to assign subzone to na\n",
    "* planning_area - planning area of block containing the flat (e.g., \"woodlands\", \"bukit merah\")\n",
    "    * keep one, or subzone\n",
    "* S'price' - sales price in SGD\n",
    "    * outliers processing\n",
    "    \n",
    "    \n",
    "model:\n",
    "kernel ridge,\n",
    "xgboost,\n",
    "random forest(regression/ classification)\n",
    "\n",
    "\n",
    "借助99.co所有成交价格上下限，做decision tree分类问题\n",
    "\n",
    "新加坡地产管理：经纬度可以返回具体的planning area"
   ]
  },
  {
   "cell_type": "code",
   "execution_count": 1,
   "id": "2859f62a",
   "metadata": {},
   "outputs": [],
   "source": [
    "import numpy as np\n",
    "import pandas as pd\n",
    "import seaborn as sns\n",
    "import matplotlib.pyplot as plt\n",
    "\n",
    "from datetime import datetime"
   ]
  },
  {
   "cell_type": "code",
   "execution_count": 2,
   "id": "8aa2d768",
   "metadata": {
    "scrolled": true
   },
   "outputs": [],
   "source": [
    "data_train = pd.read_csv('./data/train.csv')"
   ]
  },
  {
   "cell_type": "markdown",
   "id": "27f6e6c6",
   "metadata": {},
   "source": []
  },
  {
   "cell_type": "code",
   "execution_count": null,
   "id": "eab588bd",
   "metadata": {},
   "outputs": [],
   "source": []
  },
  {
   "cell_type": "code",
   "execution_count": null,
   "id": "c0c0dc9c",
   "metadata": {},
   "outputs": [],
   "source": []
  },
  {
   "cell_type": "code",
   "execution_count": null,
   "id": "018cf868",
   "metadata": {},
   "outputs": [],
   "source": []
  }
 ],
 "metadata": {
  "kernelspec": {
   "display_name": "Python 3 (ipykernel)",
   "language": "python",
   "name": "python3"
  },
  "language_info": {
   "codemirror_mode": {
    "name": "ipython",
    "version": 3
   },
   "file_extension": ".py",
   "mimetype": "text/x-python",
   "name": "python",
   "nbconvert_exporter": "python",
   "pygments_lexer": "ipython3",
   "version": "3.9.12"
  }
 },
 "nbformat": 4,
 "nbformat_minor": 5
}
