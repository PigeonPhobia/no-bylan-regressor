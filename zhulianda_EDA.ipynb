{
 "cells": [
  {
   "cell_type": "markdown",
   "id": "487d0e41",
   "metadata": {},
   "source": [
    "# Train Data EDA"
   ]
  },
  {
   "cell_type": "markdown",
   "id": "7db521ca",
   "metadata": {},
   "source": [
    "## Basic Data Cleaning"
   ]
  },
  {
   "cell_type": "code",
   "execution_count": null,
   "id": "be4361fa",
   "metadata": {},
   "outputs": [],
   "source": [
    "import pandas as pd\n",
    "import numpy as np"
   ]
  },
  {
   "cell_type": "code",
   "execution_count": null,
   "id": "6901df3d",
   "metadata": {},
   "outputs": [],
   "source": [
    "df = pd.read_csv('data/train.csv', index_col = False)\n",
    "df.head()"
   ]
  },
  {
   "cell_type": "code",
   "execution_count": null,
   "id": "824c8723",
   "metadata": {
    "scrolled": true
   },
   "outputs": [],
   "source": [
    "df.info()"
   ]
  },
  {
   "cell_type": "code",
   "execution_count": null,
   "id": "d177b3ab",
   "metadata": {},
   "outputs": [],
   "source": [
    "columns_to_remove = list()\n",
    "columns_to_remove.extend(['listing_id', 'title', 'address', 'property_name', 'floor_level', \n",
    "                          'total_num_units', 'property_details_url', 'elevation','available_unit_types',\n",
    "                         'subzone','planning_area'])\n",
    "\n",
    "# df = df.drop(columns=columns_to_remove)"
   ]
  },
  {
   "cell_type": "code",
   "execution_count": null,
   "id": "50b239a8",
   "metadata": {},
   "outputs": [],
   "source": [
    "# Handle 'property_type' column\n",
    "df['property_type'] = df['property_type'].astype(str)\n",
    "property_types = []\n",
    "for i in df['property_type']:\n",
    "    if 'hdb ' in i:\n",
    "        property_types.append('hdb')\n",
    "    else:\n",
    "        if i.istitle():\n",
    "            property_types.append(i.lower())\n",
    "        else:\n",
    "            property_types.append(i)\n",
    "\n",
    "df['property_type'] = pd.Series(property_types)"
   ]
  },
  {
   "cell_type": "code",
   "execution_count": null,
   "id": "7f18d305",
   "metadata": {},
   "outputs": [],
   "source": [
    "# Handle 'tenure' and 'built_year' column\n",
    "df['tenure'] = df['tenure'].astype(str)\n",
    "df['built_year'] = df['built_year'].astype(str)\n",
    "\n",
    "leasehold_time = []\n",
    "tenure_type = []\n",
    "\n",
    "for i in range(len(df['tenure'])):\n",
    "    \n",
    "    if df['tenure'][i] != 'nan':\n",
    "        if 'leasehold' in df['tenure'][i]:\n",
    "            \n",
    "            if len(df['built_year'][i]) != 0:\n",
    "                temp = df['tenure'][i].split('-')[0]\n",
    "                hold_time = int(temp) + float(df['built_year'][i]) - 2022\n",
    "                leasehold_time.append(hold_time)\n",
    "            else:\n",
    "                leasehold_time.append('nan')\n",
    "\n",
    "            tenure_type.append('leasehold')\n",
    "            \n",
    "        else:\n",
    "            leasehold_time.append('infinite')\n",
    "            tenure_type.append('freehold')\n",
    "            \n",
    "    else:\n",
    "        if df['property_type'][i] == 'hdb':\n",
    "            if len(df['built_year'][i]) != 0:\n",
    "                hold_time = 99 + float(df['built_year'][i]) - 2022\n",
    "                leasehold_time.append(hold_time)\n",
    "\n",
    "                tenure_type.append('leasehold')\n",
    "                \n",
    "        else:\n",
    "            leasehold_time.append('nan')\n",
    "            tenure_type.append('nan')\n",
    "        \n",
    "df['tenure_type'] = pd.Series(tenure_type)\n",
    "df['leaselast_time'] = pd.Series(leasehold_time)"
   ]
  },
  {
   "cell_type": "code",
   "execution_count": null,
   "id": "9c485a3e",
   "metadata": {},
   "outputs": [],
   "source": [
    "columns_to_remove.extend(['price', 'size_sqft'])\n",
    "df = df.drop(columns=columns_to_remove)"
   ]
  },
  {
   "cell_type": "code",
   "execution_count": null,
   "id": "4589aae8",
   "metadata": {
    "scrolled": true
   },
   "outputs": [],
   "source": [
    "df.info()"
   ]
  },
  {
   "cell_type": "code",
   "execution_count": null,
   "id": "1dbfeab9",
   "metadata": {},
   "outputs": [],
   "source": [
    "df.head()"
   ]
  },
  {
   "cell_type": "code",
   "execution_count": null,
   "metadata": {},
   "outputs": [],
   "source": [
    "print(df['leaselast_time'].value_counts())\n",
    "print(\"leaselast_time \", len(df[df['leaselast_time'] == 'nan']))"
   ]
  },
  {
   "cell_type": "code",
   "execution_count": null,
   "metadata": {},
   "outputs": [],
   "source": [
    "print(df['tenure_type'].value_counts())"
   ]
  }
 ],
 "metadata": {
  "kernelspec": {
   "display_name": "Python 3.9.6 64-bit",
   "language": "python",
   "name": "python3"
  },
  "language_info": {
   "codemirror_mode": {
    "name": "ipython",
    "version": 3
   },
   "file_extension": ".py",
   "mimetype": "text/x-python",
   "name": "python",
   "nbconvert_exporter": "python",
   "pygments_lexer": "ipython3",
   "version": "3.9.6"
  },
  "orig_nbformat": 4,
  "vscode": {
   "interpreter": {
    "hash": "31f2aee4e71d21fbe5cf8b01ff0e069b9275f58929596ceb00d14d90e3e16cd6"
   }
  }
 },
 "nbformat": 4,
 "nbformat_minor": 2
}
