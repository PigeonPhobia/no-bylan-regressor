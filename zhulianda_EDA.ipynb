{
 "cells": [
  {
   "cell_type": "markdown",
   "id": "487d0e41",
   "metadata": {},
   "source": [
    "# Build Year & Tenure"
   ]
  },
  {
   "cell_type": "markdown",
   "id": "7db521ca",
   "metadata": {},
   "source": [
    "## Pre-Operation"
   ]
  },
  {
   "cell_type": "code",
   "execution_count": 1,
   "id": "be4361fa",
   "metadata": {},
   "outputs": [],
   "source": [
    "import os\n",
    "import numpy as np\n",
    "import pandas as pd\n",
    "\n",
    "from matplotlib import pyplot as plt\n",
    "\n",
    "from utils import preprocess"
   ]
  },
  {
   "cell_type": "code",
   "execution_count": 2,
   "id": "599144f6",
   "metadata": {},
   "outputs": [],
   "source": [
    "%load_ext autoreload\n",
    "%autoreload 2"
   ]
  },
  {
   "cell_type": "code",
   "execution_count": 3,
   "id": "a446c3ea",
   "metadata": {},
   "outputs": [],
   "source": [
    "DATA_DIR = 'data/'\n",
    "IMG_DIR = 'img/'\n",
    "TRAIN_FILE = DATA_DIR + 'train.csv'\n",
    "TEST_FILE = DATA_DIR + 'train.csv'\n",
    "AUX_DATA_DIR = DATA_DIR + 'auxiliary-data/'"
   ]
  },
  {
   "cell_type": "code",
   "execution_count": 4,
   "id": "6901df3d",
   "metadata": {
    "scrolled": true
   },
   "outputs": [
    {
     "data": {
      "text/html": [
       "<div>\n",
       "<style scoped>\n",
       "    .dataframe tbody tr th:only-of-type {\n",
       "        vertical-align: middle;\n",
       "    }\n",
       "\n",
       "    .dataframe tbody tr th {\n",
       "        vertical-align: top;\n",
       "    }\n",
       "\n",
       "    .dataframe thead th {\n",
       "        text-align: right;\n",
       "    }\n",
       "</style>\n",
       "<table border=\"1\" class=\"dataframe\">\n",
       "  <thead>\n",
       "    <tr style=\"text-align: right;\">\n",
       "      <th></th>\n",
       "      <th>listing_id</th>\n",
       "      <th>title</th>\n",
       "      <th>address</th>\n",
       "      <th>property_name</th>\n",
       "      <th>property_type</th>\n",
       "      <th>tenure</th>\n",
       "      <th>built_year</th>\n",
       "      <th>num_beds</th>\n",
       "      <th>num_baths</th>\n",
       "      <th>size_sqft</th>\n",
       "      <th>...</th>\n",
       "      <th>furnishing</th>\n",
       "      <th>available_unit_types</th>\n",
       "      <th>total_num_units</th>\n",
       "      <th>property_details_url</th>\n",
       "      <th>lat</th>\n",
       "      <th>lng</th>\n",
       "      <th>elevation</th>\n",
       "      <th>subzone</th>\n",
       "      <th>planning_area</th>\n",
       "      <th>price</th>\n",
       "    </tr>\n",
       "  </thead>\n",
       "  <tbody>\n",
       "    <tr>\n",
       "      <th>0</th>\n",
       "      <td>122881</td>\n",
       "      <td>hdb flat for sale in 866 yishun street 81</td>\n",
       "      <td>sembawang / yishun (d27)</td>\n",
       "      <td>866 yishun street 81</td>\n",
       "      <td>hdb 4 rooms</td>\n",
       "      <td>NaN</td>\n",
       "      <td>1988.0</td>\n",
       "      <td>3.0</td>\n",
       "      <td>2.0</td>\n",
       "      <td>1115</td>\n",
       "      <td>...</td>\n",
       "      <td>unspecified</td>\n",
       "      <td>NaN</td>\n",
       "      <td>116.0</td>\n",
       "      <td>https://www.99.co/singapore/hdb/866-yishun-str...</td>\n",
       "      <td>1.414399</td>\n",
       "      <td>103.837196</td>\n",
       "      <td>0</td>\n",
       "      <td>yishun south</td>\n",
       "      <td>yishun</td>\n",
       "      <td>514500.0</td>\n",
       "    </tr>\n",
       "    <tr>\n",
       "      <th>1</th>\n",
       "      <td>259374</td>\n",
       "      <td>hdb flat for sale in 506b serangoon north aven...</td>\n",
       "      <td>hougang / punggol / sengkang (d19)</td>\n",
       "      <td>hdb-serangoon estate</td>\n",
       "      <td>hdb</td>\n",
       "      <td>99-year leasehold</td>\n",
       "      <td>1992.0</td>\n",
       "      <td>4.0</td>\n",
       "      <td>2.0</td>\n",
       "      <td>1575</td>\n",
       "      <td>...</td>\n",
       "      <td>unspecified</td>\n",
       "      <td>1, 2, 3, 4, 5, 6 br</td>\n",
       "      <td>NaN</td>\n",
       "      <td>https://www.99.co/singapore/hdb/hdbserangoon-e...</td>\n",
       "      <td>1.372597</td>\n",
       "      <td>103.875625</td>\n",
       "      <td>0</td>\n",
       "      <td>serangoon north</td>\n",
       "      <td>serangoon</td>\n",
       "      <td>995400.0</td>\n",
       "    </tr>\n",
       "    <tr>\n",
       "      <th>2</th>\n",
       "      <td>665422</td>\n",
       "      <td>4 bed condo for sale in meyerhouse</td>\n",
       "      <td>128 meyer road</td>\n",
       "      <td>meyerhouse</td>\n",
       "      <td>condo</td>\n",
       "      <td>freehold</td>\n",
       "      <td>2022.0</td>\n",
       "      <td>4.0</td>\n",
       "      <td>6.0</td>\n",
       "      <td>3070</td>\n",
       "      <td>...</td>\n",
       "      <td>partial</td>\n",
       "      <td>studio, 3, 4, 5, 6 br</td>\n",
       "      <td>56.0</td>\n",
       "      <td>https://www.99.co/singapore/condos-apartments/...</td>\n",
       "      <td>1.298773</td>\n",
       "      <td>103.895798</td>\n",
       "      <td>0</td>\n",
       "      <td>mountbatten</td>\n",
       "      <td>marine parade</td>\n",
       "      <td>8485000.0</td>\n",
       "    </tr>\n",
       "    <tr>\n",
       "      <th>3</th>\n",
       "      <td>857699</td>\n",
       "      <td>3 bed condo for sale in leedon green</td>\n",
       "      <td>26 leedon heights</td>\n",
       "      <td>leedon green</td>\n",
       "      <td>Condo</td>\n",
       "      <td>freehold</td>\n",
       "      <td>2023.0</td>\n",
       "      <td>3.0</td>\n",
       "      <td>2.0</td>\n",
       "      <td>958</td>\n",
       "      <td>...</td>\n",
       "      <td>partial</td>\n",
       "      <td>studio, 1, 2, 3, 4 br</td>\n",
       "      <td>638.0</td>\n",
       "      <td>https://www.99.co/singapore/condos-apartments/...</td>\n",
       "      <td>1.312364</td>\n",
       "      <td>103.803271</td>\n",
       "      <td>0</td>\n",
       "      <td>farrer court</td>\n",
       "      <td>bukit timah</td>\n",
       "      <td>2626000.0</td>\n",
       "    </tr>\n",
       "    <tr>\n",
       "      <th>4</th>\n",
       "      <td>216061</td>\n",
       "      <td>2 bed condo for sale in one bernam</td>\n",
       "      <td>1 bernam street</td>\n",
       "      <td>one bernam</td>\n",
       "      <td>condo</td>\n",
       "      <td>99-year leasehold</td>\n",
       "      <td>2026.0</td>\n",
       "      <td>2.0</td>\n",
       "      <td>1.0</td>\n",
       "      <td>732</td>\n",
       "      <td>...</td>\n",
       "      <td>unspecified</td>\n",
       "      <td>studio, 1, 2, 3, 4, 5 br</td>\n",
       "      <td>351.0</td>\n",
       "      <td>https://www.99.co/singapore/condos-apartments/...</td>\n",
       "      <td>1.273959</td>\n",
       "      <td>103.843635</td>\n",
       "      <td>0</td>\n",
       "      <td>anson</td>\n",
       "      <td>downtown core</td>\n",
       "      <td>1764000.0</td>\n",
       "    </tr>\n",
       "  </tbody>\n",
       "</table>\n",
       "<p>5 rows × 21 columns</p>\n",
       "</div>"
      ],
      "text/plain": [
       "   listing_id                                              title  \\\n",
       "0      122881          hdb flat for sale in 866 yishun street 81   \n",
       "1      259374  hdb flat for sale in 506b serangoon north aven...   \n",
       "2      665422                 4 bed condo for sale in meyerhouse   \n",
       "3      857699               3 bed condo for sale in leedon green   \n",
       "4      216061                 2 bed condo for sale in one bernam   \n",
       "\n",
       "                              address         property_name property_type  \\\n",
       "0            sembawang / yishun (d27)  866 yishun street 81   hdb 4 rooms   \n",
       "1  hougang / punggol / sengkang (d19)  hdb-serangoon estate           hdb   \n",
       "2                      128 meyer road            meyerhouse         condo   \n",
       "3                   26 leedon heights          leedon green         Condo   \n",
       "4                     1 bernam street            one bernam         condo   \n",
       "\n",
       "              tenure  built_year  num_beds  num_baths  size_sqft  ...  \\\n",
       "0                NaN      1988.0       3.0        2.0       1115  ...   \n",
       "1  99-year leasehold      1992.0       4.0        2.0       1575  ...   \n",
       "2           freehold      2022.0       4.0        6.0       3070  ...   \n",
       "3           freehold      2023.0       3.0        2.0        958  ...   \n",
       "4  99-year leasehold      2026.0       2.0        1.0        732  ...   \n",
       "\n",
       "    furnishing      available_unit_types total_num_units  \\\n",
       "0  unspecified                       NaN           116.0   \n",
       "1  unspecified       1, 2, 3, 4, 5, 6 br             NaN   \n",
       "2      partial     studio, 3, 4, 5, 6 br            56.0   \n",
       "3      partial     studio, 1, 2, 3, 4 br           638.0   \n",
       "4  unspecified  studio, 1, 2, 3, 4, 5 br           351.0   \n",
       "\n",
       "                                property_details_url       lat         lng  \\\n",
       "0  https://www.99.co/singapore/hdb/866-yishun-str...  1.414399  103.837196   \n",
       "1  https://www.99.co/singapore/hdb/hdbserangoon-e...  1.372597  103.875625   \n",
       "2  https://www.99.co/singapore/condos-apartments/...  1.298773  103.895798   \n",
       "3  https://www.99.co/singapore/condos-apartments/...  1.312364  103.803271   \n",
       "4  https://www.99.co/singapore/condos-apartments/...  1.273959  103.843635   \n",
       "\n",
       "   elevation          subzone  planning_area      price  \n",
       "0          0     yishun south         yishun   514500.0  \n",
       "1          0  serangoon north      serangoon   995400.0  \n",
       "2          0      mountbatten  marine parade  8485000.0  \n",
       "3          0     farrer court    bukit timah  2626000.0  \n",
       "4          0            anson  downtown core  1764000.0  \n",
       "\n",
       "[5 rows x 21 columns]"
      ]
     },
     "execution_count": 4,
     "metadata": {},
     "output_type": "execute_result"
    }
   ],
   "source": [
    "df = pd.read_csv(TRAIN_FILE, index_col = False)\n",
    "df.head()"
   ]
  },
  {
   "cell_type": "markdown",
   "id": "ecfb7ff4",
   "metadata": {},
   "source": [
    "## Data clean"
   ]
  },
  {
   "cell_type": "markdown",
   "id": "a07fe299",
   "metadata": {},
   "source": [
    "In previous assumption, I hope to calculate the holding time of the property from the present, that is, built year + tenure - 2022.\n",
    "\n",
    "However, since I fill the nan value by fillna method, the assignment of the nan value is random, the secondart calculation result will have a huge error, so I give up this thought."
   ]
  },
  {
   "cell_type": "code",
   "execution_count": 5,
   "id": "72bcf081",
   "metadata": {
    "scrolled": true
   },
   "outputs": [
    {
     "data": {
      "text/html": [
       "<div>\n",
       "<style scoped>\n",
       "    .dataframe tbody tr th:only-of-type {\n",
       "        vertical-align: middle;\n",
       "    }\n",
       "\n",
       "    .dataframe tbody tr th {\n",
       "        vertical-align: top;\n",
       "    }\n",
       "\n",
       "    .dataframe thead th {\n",
       "        text-align: right;\n",
       "    }\n",
       "</style>\n",
       "<table border=\"1\" class=\"dataframe\">\n",
       "  <thead>\n",
       "    <tr style=\"text-align: right;\">\n",
       "      <th></th>\n",
       "      <th>property_name</th>\n",
       "      <th>property_type</th>\n",
       "      <th>tenure</th>\n",
       "      <th>built_year</th>\n",
       "      <th>num_beds</th>\n",
       "      <th>num_baths</th>\n",
       "      <th>size_sqft</th>\n",
       "      <th>furnishing</th>\n",
       "      <th>lat</th>\n",
       "      <th>lng</th>\n",
       "      <th>price</th>\n",
       "    </tr>\n",
       "  </thead>\n",
       "  <tbody>\n",
       "    <tr>\n",
       "      <th>0</th>\n",
       "      <td>866 yishun street 81</td>\n",
       "      <td>hdb 4 rooms</td>\n",
       "      <td>NaN</td>\n",
       "      <td>1988.0</td>\n",
       "      <td>3.0</td>\n",
       "      <td>2.0</td>\n",
       "      <td>1115</td>\n",
       "      <td>unspecified</td>\n",
       "      <td>1.414399</td>\n",
       "      <td>103.837196</td>\n",
       "      <td>514500.0</td>\n",
       "    </tr>\n",
       "    <tr>\n",
       "      <th>1</th>\n",
       "      <td>hdb-serangoon estate</td>\n",
       "      <td>hdb</td>\n",
       "      <td>99-year leasehold</td>\n",
       "      <td>1992.0</td>\n",
       "      <td>4.0</td>\n",
       "      <td>2.0</td>\n",
       "      <td>1575</td>\n",
       "      <td>unspecified</td>\n",
       "      <td>1.372597</td>\n",
       "      <td>103.875625</td>\n",
       "      <td>995400.0</td>\n",
       "    </tr>\n",
       "    <tr>\n",
       "      <th>2</th>\n",
       "      <td>meyerhouse</td>\n",
       "      <td>condo</td>\n",
       "      <td>freehold</td>\n",
       "      <td>2022.0</td>\n",
       "      <td>4.0</td>\n",
       "      <td>6.0</td>\n",
       "      <td>3070</td>\n",
       "      <td>partial</td>\n",
       "      <td>1.298773</td>\n",
       "      <td>103.895798</td>\n",
       "      <td>8485000.0</td>\n",
       "    </tr>\n",
       "    <tr>\n",
       "      <th>3</th>\n",
       "      <td>leedon green</td>\n",
       "      <td>Condo</td>\n",
       "      <td>freehold</td>\n",
       "      <td>2023.0</td>\n",
       "      <td>3.0</td>\n",
       "      <td>2.0</td>\n",
       "      <td>958</td>\n",
       "      <td>partial</td>\n",
       "      <td>1.312364</td>\n",
       "      <td>103.803271</td>\n",
       "      <td>2626000.0</td>\n",
       "    </tr>\n",
       "    <tr>\n",
       "      <th>4</th>\n",
       "      <td>one bernam</td>\n",
       "      <td>condo</td>\n",
       "      <td>99-year leasehold</td>\n",
       "      <td>2026.0</td>\n",
       "      <td>2.0</td>\n",
       "      <td>1.0</td>\n",
       "      <td>732</td>\n",
       "      <td>unspecified</td>\n",
       "      <td>1.273959</td>\n",
       "      <td>103.843635</td>\n",
       "      <td>1764000.0</td>\n",
       "    </tr>\n",
       "  </tbody>\n",
       "</table>\n",
       "</div>"
      ],
      "text/plain": [
       "          property_name property_type             tenure  built_year  \\\n",
       "0  866 yishun street 81   hdb 4 rooms                NaN      1988.0   \n",
       "1  hdb-serangoon estate           hdb  99-year leasehold      1992.0   \n",
       "2            meyerhouse         condo           freehold      2022.0   \n",
       "3          leedon green         Condo           freehold      2023.0   \n",
       "4            one bernam         condo  99-year leasehold      2026.0   \n",
       "\n",
       "   num_beds  num_baths  size_sqft   furnishing       lat         lng  \\\n",
       "0       3.0        2.0       1115  unspecified  1.414399  103.837196   \n",
       "1       4.0        2.0       1575  unspecified  1.372597  103.875625   \n",
       "2       4.0        6.0       3070      partial  1.298773  103.895798   \n",
       "3       3.0        2.0        958      partial  1.312364  103.803271   \n",
       "4       2.0        1.0        732  unspecified  1.273959  103.843635   \n",
       "\n",
       "       price  \n",
       "0   514500.0  \n",
       "1   995400.0  \n",
       "2  8485000.0  \n",
       "3  2626000.0  \n",
       "4  1764000.0  "
      ]
     },
     "execution_count": 5,
     "metadata": {},
     "output_type": "execute_result"
    }
   ],
   "source": [
    "df_no_nan = df.copy()\n",
    "\n",
    "# drop some columns directly\n",
    "droplist = ['listing_id', 'title', 'address', 'floor_level', \n",
    "            'total_num_units', 'property_details_url', 'elevation','available_unit_types',\n",
    "            'subzone','planning_area']\n",
    "\n",
    "df_no_nan.drop(columns=droplist, inplace=True)\n",
    "df_no_nan.head()"
   ]
  },
  {
   "cell_type": "code",
   "execution_count": 6,
   "id": "4efab47e",
   "metadata": {},
   "outputs": [
    {
     "name": "stdout",
     "output_type": "stream",
     "text": [
      "2023.0    2154\n",
      "2025.0    1534\n",
      "2024.0    1476\n",
      "2022.0    1168\n",
      "2017.0    1164\n",
      "          ... \n",
      "1991.0      37\n",
      "1971.0      32\n",
      "2028.0      31\n",
      "1963.0       8\n",
      "1968.0       6\n",
      "Name: built_year, Length: 63, dtype: int64\n"
     ]
    }
   ],
   "source": [
    "print(df_no_nan['built_year'].value_counts())"
   ]
  },
  {
   "cell_type": "code",
   "execution_count": 7,
   "id": "b726bd85",
   "metadata": {},
   "outputs": [],
   "source": [
    "# Handle 'property_type' column (for test)\n",
    "df_no_nan['property_type'] = df_no_nan['property_type'].astype(str)\n",
    "property_types = []\n",
    "for i in df_no_nan['property_type']:\n",
    "    if 'hdb ' in i:\n",
    "        property_types.append('hdb')\n",
    "    else:\n",
    "        if i.istitle():\n",
    "            property_types.append(i.lower())\n",
    "        else:\n",
    "            property_types.append(i)\n",
    "\n",
    "df_no_nan['property_type'] = pd.Series(property_types)"
   ]
  },
  {
   "cell_type": "code",
   "execution_count": 8,
   "id": "74277f54",
   "metadata": {},
   "outputs": [],
   "source": [
    "preprocess.normalize_tenure(df_no_nan)"
   ]
  },
  {
   "cell_type": "code",
   "execution_count": 9,
   "id": "082379a9",
   "metadata": {
    "scrolled": true
   },
   "outputs": [
    {
     "name": "stdout",
     "output_type": "stream",
     "text": [
      "99          12705\n",
      "freehold     6442\n",
      "999           440\n",
      "103           189\n",
      "110            25\n",
      "956            12\n",
      "946            10\n",
      "929             2\n",
      "102             2\n",
      "100             1\n",
      "947             1\n",
      "Name: tenure, dtype: int64\n",
      "na number of tenure column is 425\n"
     ]
    }
   ],
   "source": [
    "print(df_no_nan['tenure'].value_counts())\n",
    "print(\"na number of tenure column is\", df_no_nan['tenure'].isna().sum())"
   ]
  },
  {
   "cell_type": "code",
   "execution_count": 10,
   "id": "ce2093cc",
   "metadata": {
    "scrolled": true
   },
   "outputs": [
    {
     "name": "stdout",
     "output_type": "stream",
     "text": [
      "property_name\n",
      "1 lorong lew lian           2\n",
      "103c edgefield plains       1\n",
      "106 lengkong tiga           1\n",
      "110d punggol field          2\n",
      "129 bedok north street 2    1\n",
      "                           ..\n",
      "spring residences           2\n",
      "spring waters villas        1\n",
      "sunny terrace               1\n",
      "the green collection        2\n",
      "woodview villas             2\n",
      "Length: 167, dtype: int64\n"
     ]
    }
   ],
   "source": [
    "tenure_na = df_no_nan[df_no_nan['tenure'].isna()].groupby('property_name')\n",
    "print(tenure_na.size())"
   ]
  },
  {
   "cell_type": "code",
   "execution_count": 11,
   "id": "708ecce3",
   "metadata": {},
   "outputs": [
    {
     "name": "stdout",
     "output_type": "stream",
     "text": [
      "99          12976\n",
      "freehold     6584\n",
      "999           447\n",
      "103           194\n",
      "110            25\n",
      "956            12\n",
      "946            10\n",
      "929             2\n",
      "102             2\n",
      "100             1\n",
      "947             1\n",
      "Name: tenure, dtype: int64\n",
      "na number of tenure  column is 0\n"
     ]
    }
   ],
   "source": [
    "preprocess.handle_years_and_tenure_nan(df_no_nan, 'tenure')"
   ]
  },
  {
   "cell_type": "code",
   "execution_count": 65,
   "id": "4239b1d8",
   "metadata": {},
   "outputs": [
    {
     "name": "stdout",
     "output_type": "stream",
     "text": [
      "99          12976\n",
      "freehold     6584\n",
      "999           447\n",
      "103           194\n",
      "110            25\n",
      "956            12\n",
      "946            10\n",
      "929             2\n",
      "102             2\n",
      "100             1\n",
      "947             1\n",
      "Name: tenure, dtype: int64\n",
      "na number of tenure column is 0\n"
     ]
    }
   ],
   "source": [
    "#ffill (choose one)\n",
    "# df_no_nan['tenure'].fillna(method='ffill', inplace=True)\n",
    "# print(df_no_nan['tenure'].value_counts())\n",
    "# print(\"na number of tenure column is\", df_no_nan['tenure'].isna().sum())"
   ]
  },
  {
   "cell_type": "code",
   "execution_count": 43,
   "id": "1dac088c",
   "metadata": {
    "scrolled": true
   },
   "outputs": [
    {
     "name": "stdout",
     "output_type": "stream",
     "text": [
      "99          12962\n",
      "freehold     6595\n",
      "999           450\n",
      "103           192\n",
      "110            25\n",
      "956            13\n",
      "946            11\n",
      "929             2\n",
      "102             2\n",
      "100             1\n",
      "947             1\n",
      "Name: tenure, dtype: int64\n",
      "na number of tenure column is 0\n"
     ]
    }
   ],
   "source": [
    "# #bfill\n",
    "# df_no_nan['tenure'].fillna(method='bfill', inplace=True)\n",
    "# print(df_no_nan['tenure'].value_counts())\n",
    "# print(\"na number of tenure column is\", df_no_nan['tenure'].isna().sum())"
   ]
  },
  {
   "cell_type": "code",
   "execution_count": 67,
   "id": "3b0ff5cf",
   "metadata": {},
   "outputs": [
    {
     "name": "stdout",
     "output_type": "stream",
     "text": [
      "2023.0    2154\n",
      "2025.0    1534\n",
      "2024.0    1476\n",
      "2022.0    1168\n",
      "2017.0    1164\n",
      "          ... \n",
      "1991.0      37\n",
      "1971.0      32\n",
      "2028.0      31\n",
      "1963.0       8\n",
      "1968.0       6\n",
      "Name: built_year, Length: 63, dtype: int64\n",
      "na number of built_year column is 922\n"
     ]
    }
   ],
   "source": [
    "print(df_no_nan['built_year'].value_counts())\n",
    "print(\"na number of built_year column is\", df_no_nan['built_year'].isna().sum())"
   ]
  },
  {
   "cell_type": "code",
   "execution_count": 12,
   "id": "e0b76d49",
   "metadata": {},
   "outputs": [
    {
     "name": "stdout",
     "output_type": "stream",
     "text": [
      "2023.0    2247\n",
      "2025.0    1613\n",
      "2024.0    1555\n",
      "2017.0    1223\n",
      "2022.0    1213\n",
      "          ... \n",
      "1991.0      37\n",
      "1971.0      34\n",
      "2028.0      31\n",
      "1963.0       9\n",
      "1968.0       6\n",
      "Name: built_year, Length: 63, dtype: int64\n",
      "na number of built_year column is 0\n"
     ]
    }
   ],
   "source": [
    "preprocess.handle_years_and_tenure_nan(df_no_nan, 'built_year')\n",
    "\n",
    "# #ffill (choose one)\n",
    "\n",
    "# df_no_nan['built_year'].fillna(method='ffill', inplace=True)\n",
    "# print(df_no_nan['built_year'].value_counts())\n",
    "# print(\"na number of built_year column is\", df_no_nan['built_year'].isna().sum())\n",
    "\n",
    "# #bfill\n",
    "\n",
    "# df_no_nan['built_year'].fillna(method='bfill', inplace=True)\n",
    "# print(df_no_nan['built_year'].value_counts())\n",
    "# print(\"na number of built_year column is\", df_no_nan['built_year'].isna().sum())\n"
   ]
  },
  {
   "cell_type": "markdown",
   "id": "59a1d351",
   "metadata": {},
   "source": [
    "## Data Visualization"
   ]
  },
  {
   "cell_type": "code",
   "execution_count": 96,
   "id": "1a7fe4b2",
   "metadata": {},
   "outputs": [
    {
     "data": {
      "text/plain": [
       "<AxesSubplot:title={'center':'The Number Of Property With Built Year'}, xlabel='built year', ylabel='property number'>"
      ]
     },
     "execution_count": 96,
     "metadata": {},
     "output_type": "execute_result"
    },
    {
     "data": {
      "image/png": "[encoded data removed]",
      "text/plain": [
       "<Figure size 432x288 with 1 Axes>"
      ]
     },
     "metadata": {
      "needs_background": "light"
     },
     "output_type": "display_data"
    }
   ],
   "source": [
    "df_no_nan.groupby('built_year').size().plot(xlabel = \"Built Year\", ylabel = \"Property Number\", title = \"The Number Of Property With Built Year\")"
   ]
  },
  {
   "cell_type": "code",
   "execution_count": 97,
   "id": "82666d82",
   "metadata": {},
   "outputs": [
    {
     "data": {
      "text/plain": [
       "<AxesSubplot:title={'center':'The Number Of Property With Different Tenure'}, xlabel='Tenure Year', ylabel='Property Number'>"
      ]
     },
     "execution_count": 97,
     "metadata": {},
     "output_type": "execute_result"
    },
    {
     "data": {
      "image/png": "[encoded data removed]",
      "text/plain": [
       "<Figure size 432x288 with 1 Axes>"
      ]
     },
     "metadata": {
      "needs_background": "light"
     },
     "output_type": "display_data"
    }
   ],
   "source": [
    "df_no_nan.groupby('tenure').size().plot(xlabel = \"Tenure Year\", ylabel = \"Property Number\", kind = 'bar', title = \"The Number Of Property With Different Tenure\")"
   ]
  }
 ],
 "metadata": {
  "kernelspec": {
   "display_name": "Python 3 (ipykernel)",
   "language": "python",
   "name": "python3"
  },
  "language_info": {
   "codemirror_mode": {
    "name": "ipython",
    "version": 3
   },
   "file_extension": ".py",
   "mimetype": "text/x-python",
   "name": "python",
   "nbconvert_exporter": "python",
   "pygments_lexer": "ipython3",
   "version": "3.9.12"
  }
 },
 "nbformat": 4,
 "nbformat_minor": 5
}
