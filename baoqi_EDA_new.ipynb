{
 "cells": [
  {
   "cell_type": "code",
   "execution_count": null,
   "id": "9bf2df21-ac63-42e2-a5d4-fd225db20f7c",
   "metadata": {},
   "outputs": [],
   "source": [
    "import os\n",
    "import numpy as np\n",
    "import pandas as pd\n",
    "\n",
    "from matplotlib import pyplot as plt\n",
    "\n",
    "from utils import preprocess"
   ]
  },
  {
   "cell_type": "code",
   "execution_count": null,
   "id": "56fbfe8c-a061-4fc2-84ef-cfe334a11f86",
   "metadata": {},
   "outputs": [],
   "source": [
    "# Some more magic so that the notebook will reload external python modules;\n",
    "# see http://stackoverflow.com/questions/1907993/autoreload-of-modules-in-ipython\n",
    "%load_ext autoreload\n",
    "%autoreload 2"
   ]
  },
  {
   "cell_type": "code",
   "execution_count": null,
   "id": "15e40657-77d7-43bc-8c24-ec2fa4dfbfa5",
   "metadata": {},
   "outputs": [],
   "source": [
    "preprocess.print_hello_world()"
   ]
  },
  {
   "cell_type": "code",
   "execution_count": null,
   "id": "5d356145-4063-4b5e-84b1-c7010a016feb",
   "metadata": {},
   "outputs": [],
   "source": [
    "DATA_DIR = 'data/'\n",
    "IMG_DIR = 'img/'\n",
    "TRAIN_FILE = DATA_DIR + 'train.csv'\n",
    "TEST_FILE = DATA_DIR + 'train.csv'\n",
    "AUX_DATA_DIR = DATA_DIR + 'auxiliary-data/'"
   ]
  },
  {
   "cell_type": "code",
   "execution_count": null,
   "id": "1d097082-6fcf-4ddd-9987-9ae6290c253f",
   "metadata": {},
   "outputs": [],
   "source": [
    "df_train_original = pd.read_csv(TRAIN_FILE)\n",
    "df_train_original.head()"
   ]
  },
  {
   "cell_type": "markdown",
   "id": "2f1bbd73-30d4-4e26-85ad-107ffce1d9f9",
   "metadata": {},
   "source": [
    "# Latitude & Longitude"
   ]
  },
  {
   "cell_type": "code",
   "execution_count": null,
   "id": "1fb89f31-cf12-46e2-81c7-6f52069348dc",
   "metadata": {},
   "outputs": [],
   "source": [
    "lat_array = df_train_original['lat'].to_numpy()\n",
    "lng_array = df_train_original['lng'].to_numpy()"
   ]
  },
  {
   "cell_type": "code",
   "execution_count": null,
   "id": "c3edc1b6-ef99-45c6-b72b-29342d1960b5",
   "metadata": {},
   "outputs": [],
   "source": [
    "print('Min latitude is', lat_array.min())\n",
    "print('Max latitude is', lat_array.max())\n",
    "print('Min longitude is', lng_array.min())\n",
    "print('Max longitude is', lng_array.max())"
   ]
  },
  {
   "cell_type": "code",
   "execution_count": null,
   "id": "8f8a2f54-8d8a-46ca-9da9-8b3470fa38c9",
   "metadata": {},
   "outputs": [],
   "source": [
    "# preprocess.save_geo_scatter_plot(lat_array, lng_array, IMG_DIR + 'geo_coordinates_density_plot_pre.png')"
   ]
  },
  {
   "cell_type": "markdown",
   "id": "ff9313d1-8a38-4ddd-a9e8-7c9ad1f7d25a",
   "metadata": {},
   "source": [
    "### Geo Coordinates Density Scattor Plot Pre"
   ]
  },
  {
   "cell_type": "markdown",
   "id": "ebb530f7-5d2a-4664-bed6-6a80f5f8bf51",
   "metadata": {},
   "source": [
    "<img src=\"img/geo_coordinates_density_plot_pre.png\">"
   ]
  },
  {
   "cell_type": "markdown",
   "id": "00bcccee-c15c-4373-8e94-3d69a1c4942c",
   "metadata": {},
   "source": [
    "**After inspecting latitude and longitude, we find some properties have abnormal locations.**"
   ]
  },
  {
   "cell_type": "code",
   "execution_count": null,
   "id": "71d7e302-847e-49e5-81fc-4fa5b8a1528e",
   "metadata": {},
   "outputs": [],
   "source": [
    "lat_mask_global = df_train_original['lat'] > 1.5\n",
    "lng_mask_global = (df_train_original['lng'] > 105) | (df_train_original['lng'] < 103)\n",
    "df_train_abnormal_geo_location = df_train_original[lat_mask_global & lng_mask_global]\n",
    "list(df_train_abnormal_geo_location['property_name'].unique())"
   ]
  },
  {
   "cell_type": "markdown",
   "id": "94482083-f03a-475a-9d83-073b2efd8896",
   "metadata": {},
   "source": [
    "**There are only four properties with wrong geo location, hence we will do a manual lookup in Google Maps to correct them.**"
   ]
  },
  {
   "cell_type": "code",
   "execution_count": null,
   "id": "22799f32-450e-4a66-9bb0-65b345c72626",
   "metadata": {},
   "outputs": [],
   "source": [
    "preprocess.fix_abnormal_geo_location(df_train_original, lat_mask_global & lng_mask_global)"
   ]
  },
  {
   "cell_type": "code",
   "execution_count": null,
   "id": "4b5f79b0-9360-41c8-82e0-a38ad80fcea3",
   "metadata": {},
   "outputs": [],
   "source": [
    "print('latitude error', (df_train_original['lat'] > 1.5).sum())\n",
    "print('longitude error', ((df_train_original['lng'] > 105) | (df_train_original['lng'] < 103)).sum())"
   ]
  },
  {
   "cell_type": "code",
   "execution_count": null,
   "id": "3a2ed254-a99e-4db5-a196-46d420b4fbcd",
   "metadata": {},
   "outputs": [],
   "source": [
    "new_lat_array = df_train_original['lat'].to_numpy()\n",
    "new_lng_array = df_train_original['lng'].to_numpy()"
   ]
  },
  {
   "cell_type": "code",
   "execution_count": null,
   "id": "b6a36789-c2bc-4f32-97d6-703d486c6c0e",
   "metadata": {},
   "outputs": [],
   "source": [
    "# preprocess.save_geo_scatter_plot(new_lat_array, new_lng_array, IMG_DIR + 'geo_coordinates_density_plot_post.png')"
   ]
  },
  {
   "cell_type": "markdown",
   "id": "45369938-a153-49b4-be52-cfa9a293e117",
   "metadata": {},
   "source": [
    "### Geo Coordinates Density Scattor Plot Post"
   ]
  },
  {
   "cell_type": "markdown",
   "id": "741b0825-7727-4ac4-9748-9d42132ede21",
   "metadata": {},
   "source": [
    "<img src=\"img/geo_coordinates_density_plot_post.png\">"
   ]
  },
  {
   "cell_type": "markdown",
   "id": "c099c15b-d4d8-400d-b081-aa44455eab42",
   "metadata": {},
   "source": [
    "# Subzone"
   ]
  },
  {
   "cell_type": "code",
   "execution_count": null,
   "id": "1590be46-14b0-4ebc-86e9-18af8fa5c0e9",
   "metadata": {},
   "outputs": [],
   "source": [
    "print('Number of NA subzone records:', df_train_original['subzone'].isna().sum())"
   ]
  },
  {
   "cell_type": "code",
   "execution_count": null,
   "id": "50a84b76-91ba-4b0c-87aa-f1c46f3edb32",
   "metadata": {},
   "outputs": [],
   "source": [
    "preprocess.map_subzone_by_geo_location_knn(df_train_original)"
   ]
  },
  {
   "cell_type": "code",
   "execution_count": null,
   "id": "369ec254-7c3e-4713-9a48-024dba73694f",
   "metadata": {},
   "outputs": [],
   "source": [
    "print('After preprocess, number of NA subzone records:', df_train_original['subzone'].isna().sum())"
   ]
  },
  {
   "cell_type": "code",
   "execution_count": null,
   "id": "a65dac6f-851f-4c3a-a721-25829421b3dd",
   "metadata": {},
   "outputs": [],
   "source": []
  }
 ],
 "metadata": {
  "kernelspec": {
   "display_name": "Python 3 (ipykernel)",
   "language": "python",
   "name": "python3"
  },
  "language_info": {
   "codemirror_mode": {
    "name": "ipython",
    "version": 3
   },
   "file_extension": ".py",
   "mimetype": "text/x-python",
   "name": "python",
   "nbconvert_exporter": "python",
   "pygments_lexer": "ipython3",
   "version": "3.9.12"
  }
 },
 "nbformat": 4,
 "nbformat_minor": 5
}
