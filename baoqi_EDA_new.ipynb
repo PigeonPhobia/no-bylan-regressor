{
 "cells": [
  {
   "cell_type": "code",
   "execution_count": 1,
   "id": "9bf2df21-ac63-42e2-a5d4-fd225db20f7c",
   "metadata": {},
   "outputs": [],
   "source": [
    "import os\n",
    "import numpy as np\n",
    "import pandas as pd\n",
    "\n",
    "from matplotlib import pyplot as plt\n",
    "\n",
    "from utils import preprocess"
   ]
  },
  {
   "cell_type": "code",
   "execution_count": 2,
   "id": "56fbfe8c-a061-4fc2-84ef-cfe334a11f86",
   "metadata": {},
   "outputs": [],
   "source": [
    "# Some more magic so that the notebook will reload external python modules;\n",
    "# see http://stackoverflow.com/questions/1907993/autoreload-of-modules-in-ipython\n",
    "%load_ext autoreload\n",
    "%autoreload 2"
   ]
  },
  {
   "cell_type": "code",
   "execution_count": 3,
   "id": "15e40657-77d7-43bc-8c24-ec2fa4dfbfa5",
   "metadata": {},
   "outputs": [
    {
     "name": "stdout",
     "output_type": "stream",
     "text": [
      "Hello world!\n"
     ]
    }
   ],
   "source": [
    "preprocess.print_hello_world()"
   ]
  },
  {
   "cell_type": "code",
   "execution_count": 4,
   "id": "5d356145-4063-4b5e-84b1-c7010a016feb",
   "metadata": {},
   "outputs": [],
   "source": [
    "DATA_DIR = 'data/'\n",
    "IMG_DIR = 'img/'\n",
    "TRAIN_FILE = DATA_DIR + 'train.csv'\n",
    "TEST_FILE = DATA_DIR + 'train.csv'\n",
    "AUX_DATA_DIR = DATA_DIR + 'auxiliary-data/'"
   ]
  },
  {
   "cell_type": "code",
   "execution_count": 5,
   "id": "1d097082-6fcf-4ddd-9987-9ae6290c253f",
   "metadata": {},
   "outputs": [
    {
     "data": {
      "text/html": [
       "<div>\n",
       "<style scoped>\n",
       "    .dataframe tbody tr th:only-of-type {\n",
       "        vertical-align: middle;\n",
       "    }\n",
       "\n",
       "    .dataframe tbody tr th {\n",
       "        vertical-align: top;\n",
       "    }\n",
       "\n",
       "    .dataframe thead th {\n",
       "        text-align: right;\n",
       "    }\n",
       "</style>\n",
       "<table border=\"1\" class=\"dataframe\">\n",
       "  <thead>\n",
       "    <tr style=\"text-align: right;\">\n",
       "      <th></th>\n",
       "      <th>listing_id</th>\n",
       "      <th>title</th>\n",
       "      <th>address</th>\n",
       "      <th>property_name</th>\n",
       "      <th>property_type</th>\n",
       "      <th>tenure</th>\n",
       "      <th>built_year</th>\n",
       "      <th>num_beds</th>\n",
       "      <th>num_baths</th>\n",
       "      <th>size_sqft</th>\n",
       "      <th>...</th>\n",
       "      <th>furnishing</th>\n",
       "      <th>available_unit_types</th>\n",
       "      <th>total_num_units</th>\n",
       "      <th>property_details_url</th>\n",
       "      <th>lat</th>\n",
       "      <th>lng</th>\n",
       "      <th>elevation</th>\n",
       "      <th>subzone</th>\n",
       "      <th>planning_area</th>\n",
       "      <th>price</th>\n",
       "    </tr>\n",
       "  </thead>\n",
       "  <tbody>\n",
       "    <tr>\n",
       "      <th>0</th>\n",
       "      <td>122881</td>\n",
       "      <td>hdb flat for sale in 866 yishun street 81</td>\n",
       "      <td>sembawang / yishun (d27)</td>\n",
       "      <td>866 yishun street 81</td>\n",
       "      <td>hdb 4 rooms</td>\n",
       "      <td>NaN</td>\n",
       "      <td>1988.0</td>\n",
       "      <td>3.0</td>\n",
       "      <td>2.0</td>\n",
       "      <td>1115</td>\n",
       "      <td>...</td>\n",
       "      <td>unspecified</td>\n",
       "      <td>NaN</td>\n",
       "      <td>116.0</td>\n",
       "      <td>https://www.99.co/singapore/hdb/866-yishun-str...</td>\n",
       "      <td>1.414399</td>\n",
       "      <td>103.837196</td>\n",
       "      <td>0</td>\n",
       "      <td>yishun south</td>\n",
       "      <td>yishun</td>\n",
       "      <td>514500.0</td>\n",
       "    </tr>\n",
       "    <tr>\n",
       "      <th>1</th>\n",
       "      <td>259374</td>\n",
       "      <td>hdb flat for sale in 506b serangoon north aven...</td>\n",
       "      <td>hougang / punggol / sengkang (d19)</td>\n",
       "      <td>hdb-serangoon estate</td>\n",
       "      <td>hdb</td>\n",
       "      <td>99-year leasehold</td>\n",
       "      <td>1992.0</td>\n",
       "      <td>4.0</td>\n",
       "      <td>2.0</td>\n",
       "      <td>1575</td>\n",
       "      <td>...</td>\n",
       "      <td>unspecified</td>\n",
       "      <td>1, 2, 3, 4, 5, 6 br</td>\n",
       "      <td>NaN</td>\n",
       "      <td>https://www.99.co/singapore/hdb/hdbserangoon-e...</td>\n",
       "      <td>1.372597</td>\n",
       "      <td>103.875625</td>\n",
       "      <td>0</td>\n",
       "      <td>serangoon north</td>\n",
       "      <td>serangoon</td>\n",
       "      <td>995400.0</td>\n",
       "    </tr>\n",
       "    <tr>\n",
       "      <th>2</th>\n",
       "      <td>665422</td>\n",
       "      <td>4 bed condo for sale in meyerhouse</td>\n",
       "      <td>128 meyer road</td>\n",
       "      <td>meyerhouse</td>\n",
       "      <td>condo</td>\n",
       "      <td>freehold</td>\n",
       "      <td>2022.0</td>\n",
       "      <td>4.0</td>\n",
       "      <td>6.0</td>\n",
       "      <td>3070</td>\n",
       "      <td>...</td>\n",
       "      <td>partial</td>\n",
       "      <td>studio, 3, 4, 5, 6 br</td>\n",
       "      <td>56.0</td>\n",
       "      <td>https://www.99.co/singapore/condos-apartments/...</td>\n",
       "      <td>1.298773</td>\n",
       "      <td>103.895798</td>\n",
       "      <td>0</td>\n",
       "      <td>mountbatten</td>\n",
       "      <td>marine parade</td>\n",
       "      <td>8485000.0</td>\n",
       "    </tr>\n",
       "    <tr>\n",
       "      <th>3</th>\n",
       "      <td>857699</td>\n",
       "      <td>3 bed condo for sale in leedon green</td>\n",
       "      <td>26 leedon heights</td>\n",
       "      <td>leedon green</td>\n",
       "      <td>Condo</td>\n",
       "      <td>freehold</td>\n",
       "      <td>2023.0</td>\n",
       "      <td>3.0</td>\n",
       "      <td>2.0</td>\n",
       "      <td>958</td>\n",
       "      <td>...</td>\n",
       "      <td>partial</td>\n",
       "      <td>studio, 1, 2, 3, 4 br</td>\n",
       "      <td>638.0</td>\n",
       "      <td>https://www.99.co/singapore/condos-apartments/...</td>\n",
       "      <td>1.312364</td>\n",
       "      <td>103.803271</td>\n",
       "      <td>0</td>\n",
       "      <td>farrer court</td>\n",
       "      <td>bukit timah</td>\n",
       "      <td>2626000.0</td>\n",
       "    </tr>\n",
       "    <tr>\n",
       "      <th>4</th>\n",
       "      <td>216061</td>\n",
       "      <td>2 bed condo for sale in one bernam</td>\n",
       "      <td>1 bernam street</td>\n",
       "      <td>one bernam</td>\n",
       "      <td>condo</td>\n",
       "      <td>99-year leasehold</td>\n",
       "      <td>2026.0</td>\n",
       "      <td>2.0</td>\n",
       "      <td>1.0</td>\n",
       "      <td>732</td>\n",
       "      <td>...</td>\n",
       "      <td>unspecified</td>\n",
       "      <td>studio, 1, 2, 3, 4, 5 br</td>\n",
       "      <td>351.0</td>\n",
       "      <td>https://www.99.co/singapore/condos-apartments/...</td>\n",
       "      <td>1.273959</td>\n",
       "      <td>103.843635</td>\n",
       "      <td>0</td>\n",
       "      <td>anson</td>\n",
       "      <td>downtown core</td>\n",
       "      <td>1764000.0</td>\n",
       "    </tr>\n",
       "  </tbody>\n",
       "</table>\n",
       "<p>5 rows × 21 columns</p>\n",
       "</div>"
      ],
      "text/plain": [
       "   listing_id                                              title  \\\n",
       "0      122881          hdb flat for sale in 866 yishun street 81   \n",
       "1      259374  hdb flat for sale in 506b serangoon north aven...   \n",
       "2      665422                 4 bed condo for sale in meyerhouse   \n",
       "3      857699               3 bed condo for sale in leedon green   \n",
       "4      216061                 2 bed condo for sale in one bernam   \n",
       "\n",
       "                              address         property_name property_type  \\\n",
       "0            sembawang / yishun (d27)  866 yishun street 81   hdb 4 rooms   \n",
       "1  hougang / punggol / sengkang (d19)  hdb-serangoon estate           hdb   \n",
       "2                      128 meyer road            meyerhouse         condo   \n",
       "3                   26 leedon heights          leedon green         Condo   \n",
       "4                     1 bernam street            one bernam         condo   \n",
       "\n",
       "              tenure  built_year  num_beds  num_baths  size_sqft  ...  \\\n",
       "0                NaN      1988.0       3.0        2.0       1115  ...   \n",
       "1  99-year leasehold      1992.0       4.0        2.0       1575  ...   \n",
       "2           freehold      2022.0       4.0        6.0       3070  ...   \n",
       "3           freehold      2023.0       3.0        2.0        958  ...   \n",
       "4  99-year leasehold      2026.0       2.0        1.0        732  ...   \n",
       "\n",
       "    furnishing      available_unit_types total_num_units  \\\n",
       "0  unspecified                       NaN           116.0   \n",
       "1  unspecified       1, 2, 3, 4, 5, 6 br             NaN   \n",
       "2      partial     studio, 3, 4, 5, 6 br            56.0   \n",
       "3      partial     studio, 1, 2, 3, 4 br           638.0   \n",
       "4  unspecified  studio, 1, 2, 3, 4, 5 br           351.0   \n",
       "\n",
       "                                property_details_url       lat         lng  \\\n",
       "0  https://www.99.co/singapore/hdb/866-yishun-str...  1.414399  103.837196   \n",
       "1  https://www.99.co/singapore/hdb/hdbserangoon-e...  1.372597  103.875625   \n",
       "2  https://www.99.co/singapore/condos-apartments/...  1.298773  103.895798   \n",
       "3  https://www.99.co/singapore/condos-apartments/...  1.312364  103.803271   \n",
       "4  https://www.99.co/singapore/condos-apartments/...  1.273959  103.843635   \n",
       "\n",
       "   elevation          subzone  planning_area      price  \n",
       "0          0     yishun south         yishun   514500.0  \n",
       "1          0  serangoon north      serangoon   995400.0  \n",
       "2          0      mountbatten  marine parade  8485000.0  \n",
       "3          0     farrer court    bukit timah  2626000.0  \n",
       "4          0            anson  downtown core  1764000.0  \n",
       "\n",
       "[5 rows x 21 columns]"
      ]
     },
     "execution_count": 5,
     "metadata": {},
     "output_type": "execute_result"
    }
   ],
   "source": [
    "df_train_original = pd.read_csv(TRAIN_FILE)\n",
    "df_train_original.head()"
   ]
  },
  {
   "cell_type": "markdown",
   "id": "2f1bbd73-30d4-4e26-85ad-107ffce1d9f9",
   "metadata": {},
   "source": [
    "# Latitude & Longitude"
   ]
  },
  {
   "cell_type": "code",
   "execution_count": 6,
   "id": "1fb89f31-cf12-46e2-81c7-6f52069348dc",
   "metadata": {},
   "outputs": [],
   "source": [
    "lat_array = df_train_original['lat'].to_numpy()\n",
    "lng_array = df_train_original['lng'].to_numpy()"
   ]
  },
  {
   "cell_type": "code",
   "execution_count": 7,
   "id": "c3edc1b6-ef99-45c6-b72b-29342d1960b5",
   "metadata": {},
   "outputs": [
    {
     "name": "stdout",
     "output_type": "stream",
     "text": [
      "Min latitude is 1.23962095\n",
      "Max latitude is 69.4867678\n",
      "Min longitude is -77.0653642528485\n",
      "Max longitude is 121.0232316\n"
     ]
    }
   ],
   "source": [
    "print('Min latitude is', lat_array.min())\n",
    "print('Max latitude is', lat_array.max())\n",
    "print('Min longitude is', lng_array.min())\n",
    "print('Max longitude is', lng_array.max())"
   ]
  },
  {
   "cell_type": "code",
   "execution_count": null,
   "id": "8f8a2f54-8d8a-46ca-9da9-8b3470fa38c9",
   "metadata": {},
   "outputs": [],
   "source": [
    "# preprocess.save_geo_scatter_plot(lat_array, lng_array, IMG_DIR + 'geo_coordinates_density_plot_pre.png')"
   ]
  },
  {
   "cell_type": "markdown",
   "id": "ff9313d1-8a38-4ddd-a9e8-7c9ad1f7d25a",
   "metadata": {},
   "source": [
    "### Geo Coordinates Density Scattor Plot Pre"
   ]
  },
  {
   "cell_type": "markdown",
   "id": "ebb530f7-5d2a-4664-bed6-6a80f5f8bf51",
   "metadata": {},
   "source": [
    "<img src=\"img/geo_coordinates_density_plot_pre.png\">"
   ]
  },
  {
   "cell_type": "markdown",
   "id": "00bcccee-c15c-4373-8e94-3d69a1c4942c",
   "metadata": {},
   "source": [
    "**After inspecting latitude and longitude, we find some properties have abnormal locations.**"
   ]
  },
  {
   "cell_type": "code",
   "execution_count": 9,
   "id": "71d7e302-847e-49e5-81fc-4fa5b8a1528e",
   "metadata": {},
   "outputs": [
    {
     "data": {
      "text/plain": [
       "['1953', 'pollen & bleu', 'ness', 'm5']"
      ]
     },
     "execution_count": 9,
     "metadata": {},
     "output_type": "execute_result"
    }
   ],
   "source": [
    "lat_mask_global = df_train_original['lat'] > 1.5\n",
    "lng_mask_global = (df_train_original['lng'] > 105) | (df_train_original['lng'] < 103)\n",
    "df_train_abnormal_geo_location = df_train_original[lat_mask_global & lng_mask_global]\n",
    "list(df_train_abnormal_geo_location['property_name'].unique())"
   ]
  },
  {
   "cell_type": "markdown",
   "id": "94482083-f03a-475a-9d83-073b2efd8896",
   "metadata": {},
   "source": [
    "**There are only four properties with wrong geo location, hence we will do a manual lookup in Google Maps to correct them.**"
   ]
  },
  {
   "cell_type": "code",
   "execution_count": 10,
   "id": "22799f32-450e-4a66-9bb0-65b345c72626",
   "metadata": {},
   "outputs": [],
   "source": [
    "preprocess.fix_abnormal_geo_location(df_train_original)"
   ]
  },
  {
   "cell_type": "code",
   "execution_count": 11,
   "id": "4b5f79b0-9360-41c8-82e0-a38ad80fcea3",
   "metadata": {},
   "outputs": [
    {
     "name": "stdout",
     "output_type": "stream",
     "text": [
      "latitude error 0\n",
      "longitude error 0\n"
     ]
    }
   ],
   "source": [
    "print('latitude error', (df_train_original['lat'] > 1.5).sum())\n",
    "print('longitude error', ((df_train_original['lng'] > 105) | (df_train_original['lng'] < 103)).sum())"
   ]
  },
  {
   "cell_type": "code",
   "execution_count": 12,
   "id": "3a2ed254-a99e-4db5-a196-46d420b4fbcd",
   "metadata": {},
   "outputs": [],
   "source": [
    "new_lat_array = df_train_original['lat'].to_numpy()\n",
    "new_lng_array = df_train_original['lng'].to_numpy()"
   ]
  },
  {
   "cell_type": "code",
   "execution_count": 13,
   "id": "b6a36789-c2bc-4f32-97d6-703d486c6c0e",
   "metadata": {},
   "outputs": [
    {
     "name": "stdout",
     "output_type": "stream",
     "text": [
      "Stacking data...\n",
      "Calculating kernel density...\n"
     ]
    },
    {
     "data": {
      "image/png": "[encoded data removed]",
      "text/plain": [
       "<Figure size 432x288 with 1 Axes>"
      ]
     },
     "metadata": {
      "needs_background": "light"
     },
     "output_type": "display_data"
    }
   ],
   "source": [
    "# preprocess.save_geo_scatter_plot(new_lat_array, new_lng_array, IMG_DIR + 'geo_coordinates_density_plot_post.png')"
   ]
  },
  {
   "cell_type": "markdown",
   "id": "45369938-a153-49b4-be52-cfa9a293e117",
   "metadata": {},
   "source": [
    "### Geo Coordinates Density Scattor Plot Post"
   ]
  },
  {
   "cell_type": "markdown",
   "id": "741b0825-7727-4ac4-9748-9d42132ede21",
   "metadata": {},
   "source": [
    "<img src=\"img/geo_coordinates_density_plot_post.png\">"
   ]
  },
  {
   "cell_type": "markdown",
   "id": "c099c15b-d4d8-400d-b081-aa44455eab42",
   "metadata": {},
   "source": [
    "# Subzone"
   ]
  },
  {
   "cell_type": "code",
   "execution_count": 14,
   "id": "1590be46-14b0-4ebc-86e9-18af8fa5c0e9",
   "metadata": {},
   "outputs": [
    {
     "name": "stdout",
     "output_type": "stream",
     "text": [
      "Number of NA subzone records: 113\n"
     ]
    }
   ],
   "source": [
    "print('Number of NA subzone records:', df_train_original['subzone'].isna().sum())"
   ]
  },
  {
   "cell_type": "code",
   "execution_count": 15,
   "id": "50a84b76-91ba-4b0c-87aa-f1c46f3edb32",
   "metadata": {},
   "outputs": [],
   "source": [
    "preprocess.map_subzone_by_geo_location_knn(df_train_original)"
   ]
  },
  {
   "cell_type": "code",
   "execution_count": 16,
   "id": "369ec254-7c3e-4713-9a48-024dba73694f",
   "metadata": {},
   "outputs": [
    {
     "name": "stdout",
     "output_type": "stream",
     "text": [
      "After preprocess, number of NA subzone records: 0\n"
     ]
    }
   ],
   "source": [
    "print('After preprocess, number of NA subzone records:', df_train_original['subzone'].isna().sum())"
   ]
  },
  {
   "cell_type": "code",
   "execution_count": null,
   "id": "a65dac6f-851f-4c3a-a721-25829421b3dd",
   "metadata": {},
   "outputs": [],
   "source": []
  }
 ],
 "metadata": {
  "kernelspec": {
   "display_name": "Python 3 (ipykernel)",
   "language": "python",
   "name": "python3"
  },
  "language_info": {
   "codemirror_mode": {
    "name": "ipython",
    "version": 3
   },
   "file_extension": ".py",
   "mimetype": "text/x-python",
   "name": "python",
   "nbconvert_exporter": "python",
   "pygments_lexer": "ipython3",
   "version": "3.9.12"
  }
 },
 "nbformat": 4,
 "nbformat_minor": 5
}
