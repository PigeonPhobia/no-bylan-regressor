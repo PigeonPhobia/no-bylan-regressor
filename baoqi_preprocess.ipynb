{
 "cells": [
  {
   "cell_type": "code",
   "execution_count": null,
   "id": "d2c0db11-8e76-4e4c-866e-0f4dde2616e3",
   "metadata": {},
   "outputs": [],
   "source": [
    "import os\n",
    "from pathlib import Path\n",
    "\n",
    "import numpy as np\n",
    "import pandas as pd\n",
    "\n",
    "from sklearn.tree import DecisionTreeRegressor\n",
    "from sklearn.ensemble import RandomForestRegressor, GradientBoostingRegressor, AdaBoostRegressor, ExtraTreesRegressor\n",
    "from sklearn.model_selection import train_test_split, GridSearchCV\n",
    "from sklearn.metrics import mean_squared_error, make_scorer\n",
    "\n",
    "import matplotlib.pyplot as plt\n",
    "\n",
    "from utils import preprocess"
   ]
  },
  {
   "cell_type": "code",
   "execution_count": null,
   "id": "eb668178-bb67-4913-9015-8e3a9abb4d5f",
   "metadata": {},
   "outputs": [],
   "source": [
    "# Some more magic so that the notebook will reload external python modules;\n",
    "# see http://stackoverflow.com/questions/1907993/autoreload-of-modules-in-ipython\n",
    "%load_ext autoreload\n",
    "%autoreload 2"
   ]
  },
  {
   "cell_type": "code",
   "execution_count": null,
   "id": "d6b9deb5-2f4a-4895-ba93-6ea7251f0ff3",
   "metadata": {},
   "outputs": [],
   "source": [
    "DATA_DIR = './data/'\n",
    "IMG_DIR = './img/'\n",
    "PROCESSED_DATA_DIR = './processed_data/'\n",
    "TRAIN_FILE = DATA_DIR + 'train.csv'\n",
    "TEST_FILE = DATA_DIR + 'train.csv'\n",
    "PROCESSED_TRAIN_FILE = PROCESSED_DATA_DIR + 'processed_train.csv'\n",
    "AUX_DATA_DIR = DATA_DIR + 'auxiliary-data/'\n",
    "SUBZONE_FILE = AUX_DATA_DIR + 'sg-subzones.csv'"
   ]
  },
  {
   "cell_type": "markdown",
   "id": "3087c81c-86ad-4928-9817-c08f60ad662a",
   "metadata": {},
   "source": [
    "# Preprocess"
   ]
  },
  {
   "cell_type": "code",
   "execution_count": null,
   "id": "79c34b6b-16b5-41bc-bc25-9888f4a79c14",
   "metadata": {},
   "outputs": [],
   "source": [
    "YEAR_BINS = pd.IntervalIndex.from_tuples([(0, 1980), (1980, 1990), (1990, 2000), (2000, 2010), (2010, 2020), (2020, 3000)])\n",
    "YEAR_LABELS = dict(zip(YEAR_BINS, ['y0','y1','y2','y3','y4','y5']))\n",
    "YEAR_DICT = { 'y0': 0., 'y1': 1., 'y2': 2., 'y3': 3., 'y4': 4., 'y5': 5. }"
   ]
  },
  {
   "cell_type": "code",
   "execution_count": null,
   "id": "70d27cd1-2464-4ec0-84c7-5ce0cad1f09f",
   "metadata": {},
   "outputs": [],
   "source": [
    "df_subzone = pd.read_csv(SUBZONE_FILE)"
   ]
  },
  {
   "cell_type": "code",
   "execution_count": null,
   "id": "9dfe5360-9ff5-47db-9ea1-12a93128ed44",
   "metadata": {},
   "outputs": [],
   "source": [
    "PLANNING_AREA_LIST = df_subzone['planning_area'].unique()"
   ]
  },
  {
   "cell_type": "code",
   "execution_count": null,
   "id": "ad5c31d7-1624-454d-8410-e397d4251a70",
   "metadata": {},
   "outputs": [],
   "source": [
    "df_train = pd.read_csv(TRAIN_FILE)"
   ]
  },
  {
   "cell_type": "code",
   "execution_count": null,
   "id": "91a88617-4c8e-46a9-9510-f7e6a51c87f0",
   "metadata": {},
   "outputs": [],
   "source": [
    "# fixed random for preprocessing\n",
    "np.random.seed(5228)\n",
    "\n",
    "# property_type\n",
    "preprocess.process_property_type(df_train)\n",
    "# tenure\n",
    "preprocess.universalize_tenure(df_train)\n",
    "# tenure fill na\n",
    "preprocess.fillna_by_grouping(df_train, 'tenure', 'property_type')\n",
    "# built year\n",
    "preprocess.fillna_by_property_name(df_train, 'built_year')\n",
    "preprocess.discretize_built_year(df_train, YEAR_BINS, YEAR_LABELS)\n",
    "# built year fill na\n",
    "preprocess.fillna_by_grouping(df_train, 'built_year', 'property_type')\n",
    "preprocess.fill_conservation_house_built_year(df_train, 'y0')\n",
    "# size_sqft\n",
    "preprocess.fill_zero_sqft(df_train)\n",
    "preprocess.fix_abnormal_sqft(df_train)\n",
    "preprocess.convert_sqm_to_sqft(df_train)\n",
    "# num_beds\n",
    "preprocess.fill_na_num_beds(df_train)\n",
    "# TODO: compassvale plains\n",
    "# num_baths\n",
    "preprocess.map_value_by_most_common(df_train, 'num_baths', 'num_beds')\n",
    "# fix odd num_baths\n",
    "preprocess.fix_abnormal_beds_baths_number(df_train)\n",
    "# price\n",
    "preprocess.fix_super_high_price(df_train)\n",
    "# remove 0 price rows\n",
    "preprocess.remove_price_zero_records(df_train)\n",
    "# lat & lng\n",
    "preprocess.fix_abnormal_geo_location(df_train)\n",
    "# subzone\n",
    "preprocess.map_subzone_by_geo_location_knn(df_train)\n",
    "# planning_area\n",
    "preprocess.map_value_by_most_common(df_train, 'planning_area', 'subzone')"
   ]
  },
  {
   "cell_type": "code",
   "execution_count": null,
   "id": "4641003d-939f-4dd9-8b30-2bf5be50a9f3",
   "metadata": {},
   "outputs": [],
   "source": [
    "dropped_columns = [\n",
    "    \"listing_id\", \n",
    "    \"title\", \n",
    "    \"address\",\n",
    "    \"property_name\",\n",
    "    \"floor_level\", \n",
    "    \"elevation\", \n",
    "    \"available_unit_types\", \n",
    "    \"total_num_units\", \n",
    "    \"furnishing\", \n",
    "    \"available_unit_types\", \n",
    "    \"property_details_url\",\n",
    "]\n",
    "df_train.drop(columns=dropped_columns, inplace=True)"
   ]
  },
  {
   "cell_type": "code",
   "execution_count": null,
   "id": "de4af069-ae21-4962-b4a5-d86cd7ed4488",
   "metadata": {},
   "outputs": [],
   "source": [
    "# add additional price per sqft as new label\n",
    "# df_train['sqft_price'] = df_train['price'] / df_train['size_sqft']"
   ]
  },
  {
   "cell_type": "code",
   "execution_count": null,
   "id": "13e6c6d7-c7a4-4f0c-ac4d-0c29266c785d",
   "metadata": {},
   "outputs": [],
   "source": [
    "# encode categorical features\n",
    "# subzone, property_type\n",
    "df_train, subzone_property_type_encoding_dict = preprocess.target_encode_property_type_subzone(df_train)\n",
    "# built_year\n",
    "preprocess.encode_built_year(df_train, YEAR_DICT)\n",
    "# tenure\n",
    "preprocess.encode_tenure(df_train)\n",
    "# planning_area\n",
    "df_train = preprocess.encode_planning_area(df_train, PLANNING_AREA_LIST)"
   ]
  },
  {
   "cell_type": "code",
   "execution_count": null,
   "id": "f9e18605-6f46-43b2-a7bb-5faeaccf7c82",
   "metadata": {},
   "outputs": [],
   "source": [
    "df_train.head()"
   ]
  },
  {
   "cell_type": "code",
   "execution_count": null,
   "id": "458f11cd-cf11-4fd9-a7de-9b9e97c23613",
   "metadata": {},
   "outputs": [],
   "source": [
    "df_train[df_train.isna().any(axis=1)]"
   ]
  },
  {
   "cell_type": "code",
   "execution_count": null,
   "id": "c410f9eb-f955-4a16-86d6-794cf9d254db",
   "metadata": {},
   "outputs": [],
   "source": [
    "Path(PROCESSED_DATA_DIR).mkdir(parents=True, exist_ok=True)\n",
    "df_train.to_csv(PROCESSED_TRAIN_FILE, index=False)"
   ]
  }
 ],
 "metadata": {
  "kernelspec": {
   "display_name": "Python 3 (ipykernel)",
   "language": "python",
   "name": "python3"
  },
  "language_info": {
   "codemirror_mode": {
    "name": "ipython",
    "version": 3
   },
   "file_extension": ".py",
   "mimetype": "text/x-python",
   "name": "python",
   "nbconvert_exporter": "python",
   "pygments_lexer": "ipython3",
   "version": "3.9.12"
  }
 },
 "nbformat": 4,
 "nbformat_minor": 5
}
