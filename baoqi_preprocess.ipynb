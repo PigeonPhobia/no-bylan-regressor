{
 "cells": [
  {
   "cell_type": "code",
   "execution_count": null,
   "id": "d2c0db11-8e76-4e4c-866e-0f4dde2616e3",
   "metadata": {},
   "outputs": [],
   "source": [
    "import os\n",
    "from pathlib import Path\n",
    "\n",
    "import numpy as np\n",
    "import pandas as pd\n",
    "\n",
    "import matplotlib.pyplot as plt\n",
    "\n",
    "from utils import preprocess"
   ]
  },
  {
   "cell_type": "code",
   "execution_count": null,
   "id": "eb668178-bb67-4913-9015-8e3a9abb4d5f",
   "metadata": {},
   "outputs": [],
   "source": [
    "# Some more magic so that the notebook will reload external python modules;\n",
    "# see http://stackoverflow.com/questions/1907993/autoreload-of-modules-in-ipython\n",
    "%load_ext autoreload\n",
    "%autoreload 2"
   ]
  },
  {
   "cell_type": "code",
   "execution_count": null,
   "id": "d6b9deb5-2f4a-4895-ba93-6ea7251f0ff3",
   "metadata": {},
   "outputs": [],
   "source": [
    "DATA_DIR = './data/'\n",
    "IMG_DIR = './img/'\n",
    "PROCESSED_DATA_DIR = './processed_data/'\n",
    "\n",
    "TRAIN_FILE = DATA_DIR + 'train.csv'\n",
    "TEST_FILE = DATA_DIR + 'test.csv'\n",
    "\n",
    "PROCESSED_TRAIN_FILE = PROCESSED_DATA_DIR + 'processed_train.csv'\n",
    "PROCESSED_TEST_FILE = PROCESSED_DATA_DIR + 'processed_test.csv'\n",
    "PROCESSED_RECOMMENDATION_TRAIN_FILE = PROCESSED_DATA_DIR + 'processed_recommendation_train.csv'\n",
    "\n",
    "AUX_DATA_DIR = DATA_DIR + 'auxiliary-data/'\n",
    "SUBZONE_FILE = AUX_DATA_DIR + 'sg-subzones.csv'\n",
    "COMMERCIAL_CENTER_FILE = AUX_DATA_DIR + 'sg-commerical-centres.csv'\n",
    "MRT_FILE = AUX_DATA_DIR + 'sg-mrt-stations.csv'\n",
    "PRIMARY_SCHOOL_FILE = AUX_DATA_DIR + 'sg-primary-schools.csv'\n",
    "SECONDARY_SCHOOL_FILE = AUX_DATA_DIR + 'sg-secondary-schools.csv'\n",
    "SHOPPING_MALL_FILE = AUX_DATA_DIR + 'sg-shopping-malls.csv'\n",
    "\n",
    "COMMERCIAL_CENTER_DIS_FILE = PROCESSED_DATA_DIR + 'sg-commerical-centres.npy'\n",
    "MRT_DIS_FILE = PROCESSED_DATA_DIR + 'sg-mrt-stations.npy'\n",
    "PRIMARY_SCHOOL_DIS_FILE = PROCESSED_DATA_DIR + 'sg-primary-schools.npy'\n",
    "SECONDARY_SCHOOL_DIS_FILE = PROCESSED_DATA_DIR + 'sg-secondary-schools.npy'\n",
    "SHOPPING_MALL_DIS_FILE = PROCESSED_DATA_DIR + 'sg-shopping-malls.npy'"
   ]
  },
  {
   "cell_type": "markdown",
   "id": "3087c81c-86ad-4928-9817-c08f60ad662a",
   "metadata": {},
   "source": [
    "# Preprocess"
   ]
  },
  {
   "cell_type": "code",
   "execution_count": null,
   "id": "79c34b6b-16b5-41bc-bc25-9888f4a79c14",
   "metadata": {},
   "outputs": [],
   "source": [
    "YEAR_BINS = pd.IntervalIndex.from_tuples([(0, 1980), (1980, 1990), (1990, 2000), (2000, 2010), (2010, 2020), (2020, 3000)])\n",
    "YEAR_LABELS = dict(zip(YEAR_BINS, ['y0','y1','y2','y3','y4','y5']))\n",
    "YEAR_DICT = { 'y0': 0., 'y1': 1., 'y2': 2., 'y3': 3., 'y4': 4., 'y5': 5. }"
   ]
  },
  {
   "cell_type": "code",
   "execution_count": null,
   "id": "70d27cd1-2464-4ec0-84c7-5ce0cad1f09f",
   "metadata": {},
   "outputs": [],
   "source": [
    "df_subzone = pd.read_csv(SUBZONE_FILE)\n",
    "PLANNING_AREA_LIST = df_subzone['planning_area'].unique()"
   ]
  },
  {
   "cell_type": "code",
   "execution_count": null,
   "id": "ad5c31d7-1624-454d-8410-e397d4251a70",
   "metadata": {},
   "outputs": [],
   "source": [
    "df_train = pd.read_csv(TRAIN_FILE)\n",
    "df_test = pd.read_csv(TEST_FILE)"
   ]
  },
  {
   "cell_type": "markdown",
   "id": "671a150e-3780-4191-8430-4f064ad74d20",
   "metadata": {},
   "source": [
    "### Preprocess df_train"
   ]
  },
  {
   "cell_type": "code",
   "execution_count": null,
   "id": "05f12f14-592e-402f-b1a0-581903bb7dfb",
   "metadata": {},
   "outputs": [],
   "source": [
    "# size_sqft\n",
    "preprocess.fill_zero_sqft(df_train)\n",
    "preprocess.fix_abnormal_sqft(df_train)\n",
    "preprocess.convert_sqm_to_sqft(df_train)\n",
    "# num_beds\n",
    "preprocess.fill_na_num_beds(df_train)\n",
    "# TODO: compassvale plains\n",
    "# fix odd num_baths\n",
    "preprocess.fix_abnormal_beds_baths_number(df_train)\n",
    "# remove 0 price rows\n",
    "preprocess.remove_price_zero_records(df_train)\n",
    "# price\n",
    "preprocess.fix_super_high_price(df_train)"
   ]
  },
  {
   "cell_type": "markdown",
   "id": "2abf478c-5099-4cea-899a-23a44d197aa5",
   "metadata": {},
   "source": [
    "### Preprocess df_test"
   ]
  },
  {
   "cell_type": "code",
   "execution_count": null,
   "id": "d3555d3a-eb20-4ad2-9035-f40bcae5e4e5",
   "metadata": {},
   "outputs": [],
   "source": [
    "# size_sqft\n",
    "preprocess.convert_sqm_to_sqft_for_test(df_test)\n",
    "preprocess.fix_abnormal_sqft_for_test(df_test)\n",
    "# num_beds\n",
    "preprocess.fill_na_num_beds_for_test(df_test)"
   ]
  },
  {
   "cell_type": "markdown",
   "id": "803638e8-1f37-4cda-af44-1ef435809cb2",
   "metadata": {},
   "source": [
    "### Combine & Preprocess"
   ]
  },
  {
   "cell_type": "code",
   "execution_count": null,
   "id": "b6bbcadc-1287-4e3e-a54f-e1a5c59cb639",
   "metadata": {},
   "outputs": [],
   "source": [
    "# assign an invalid price to test data, combine train/test data together for preprocess\n",
    "df_test['price'] = -1.\n",
    "train_test_delimiter = len(df_train)\n",
    "df_all = pd.concat((df_train, df_test))"
   ]
  },
  {
   "cell_type": "code",
   "execution_count": null,
   "id": "91a88617-4c8e-46a9-9510-f7e6a51c87f0",
   "metadata": {},
   "outputs": [],
   "source": [
    "# fixed random for preprocessing\n",
    "np.random.seed(5228)\n",
    "\n",
    "# num_baths, for both train/test\n",
    "preprocess.map_value_by_most_common(df_all, 'num_baths', 'num_beds')\n",
    "# property_type\n",
    "preprocess.process_property_type(df_all)\n",
    "# tenure\n",
    "preprocess.universalize_tenure(df_all)\n",
    "# tenure fill na\n",
    "preprocess.fillna_by_grouping(df_all, 'tenure', 'property_type')\n",
    "# built year\n",
    "preprocess.fillna_by_property_name(df_all, 'built_year')\n",
    "preprocess.discretize_built_year(df_all, YEAR_BINS, YEAR_LABELS)\n",
    "# built year fill na\n",
    "preprocess.fillna_by_grouping(df_all, 'built_year', 'property_type')\n",
    "preprocess.fill_conservation_house_built_year(df_all, 'y0')\n",
    "# lat & lng\n",
    "preprocess.fix_abnormal_geo_location(df_all)\n",
    "# subzone\n",
    "preprocess.map_subzone_by_geo_location_knn(df_all)\n",
    "# planning_area\n",
    "preprocess.map_value_by_most_common(df_all, 'planning_area', 'subzone')"
   ]
  },
  {
   "cell_type": "markdown",
   "id": "621e94e4-a33f-4bf2-a6cd-77d773df3f33",
   "metadata": {},
   "source": [
    "### Process Auxiliary Data"
   ]
  },
  {
   "cell_type": "code",
   "execution_count": null,
   "id": "7b14790e-63be-46ec-ad6b-983147dc9375",
   "metadata": {},
   "outputs": [],
   "source": [
    "# property location data frame\n",
    "df_property_name_location = df_all.groupby(['property_name']).agg(lat=('lat', 'mean'), lng=('lng', 'mean'))"
   ]
  },
  {
   "cell_type": "code",
   "execution_count": null,
   "id": "7833292a-231f-4071-90df-92587999441e",
   "metadata": {},
   "outputs": [],
   "source": [
    "df_commercial_center = pd.read_csv(COMMERCIAL_CENTER_FILE)\n",
    "df_mrt = pd.read_csv(MRT_FILE)\n",
    "df_primary_school = pd.read_csv(PRIMARY_SCHOOL_FILE)\n",
    "df_secondary_school = pd.read_csv(SECONDARY_SCHOOL_FILE)\n",
    "df_shopping_mall = pd.read_csv(SHOPPING_MALL_FILE)"
   ]
  },
  {
   "cell_type": "code",
   "execution_count": null,
   "id": "b52146f7-ae2a-4dee-8c55-178e81dd467b",
   "metadata": {},
   "outputs": [],
   "source": [
    "# # commercial center\n",
    "# distance_commercial_center = preprocess.calculate_distance_km(df_property_name_location, df_commercial_center)\n",
    "# np.save(COMMERCIAL_CENTER_DIS_FILE, distance_commercial_center)\n",
    "# # mrt\n",
    "# distance_mrt = preprocess.calculate_distance_km(df_property_name_location, df_mrt)\n",
    "# np.save(MRT_DIS_FILE, distance_mrt)\n",
    "# # primary school\n",
    "# distance_primary_school = preprocess.calculate_distance_km(df_property_name_location, df_primary_school)\n",
    "# np.save(PRIMARY_SCHOOL_DIS_FILE, distance_primary_school)\n",
    "# # secondary school\n",
    "# distance_secondary_school = preprocess.calculate_distance_km(df_property_name_location, df_secondary_school)\n",
    "# np.save(SECONDARY_SCHOOL_DIS_FILE, distance_secondary_school)\n",
    "# # shopping mall\n",
    "# distance_shopping_mall = preprocess.calculate_distance_km(df_property_name_location, df_shopping_mall)\n",
    "# np.save(SHOPPING_MALL_DIS_FILE, distance_shopping_mall)"
   ]
  },
  {
   "cell_type": "code",
   "execution_count": null,
   "id": "670a3573-66d2-407d-8770-b3431efc0a8e",
   "metadata": {},
   "outputs": [],
   "source": [
    "distance_commercial_center = np.load(COMMERCIAL_CENTER_DIS_FILE)\n",
    "distance_mrt = np.load(MRT_DIS_FILE)\n",
    "distance_primary_school = np.load(PRIMARY_SCHOOL_DIS_FILE)\n",
    "distance_secondary_school = np.load(SECONDARY_SCHOOL_DIS_FILE)\n",
    "distance_shopping_mall = np.load(SHOPPING_MALL_DIS_FILE)"
   ]
  },
  {
   "cell_type": "code",
   "execution_count": null,
   "id": "9ca2fdec-341d-4d8f-aff0-9e0e5b2b0bf3",
   "metadata": {},
   "outputs": [],
   "source": [
    "# comercial center\n",
    "preprocess.populate_num_targets_within_range(df_all, df_property_name_location, distance_commercial_center, 0, 5, 'num_cc_5km')\n",
    "# mrt\n",
    "preprocess.populate_num_targets_within_range(df_all, df_property_name_location, distance_mrt, 0, 0.8, 'num_mrt_800m')\n",
    "preprocess.populate_distance_to_nearest_target(df_all, df_property_name_location, distance_mrt, 'nearest_mrt_km')\n",
    "# primary school\n",
    "preprocess.populate_num_targets_within_range(df_all, df_property_name_location, distance_primary_school, 0, 1, 'num_ps_1km')\n",
    "preprocess.populate_num_targets_within_range(df_all, df_property_name_location, distance_primary_school, 1, 2, 'num_ps_1km_to_2km')\n",
    "# secondary school\n",
    "preprocess.populate_num_targets_within_range(df_all, df_property_name_location, distance_secondary_school, 0, 1, 'num_ss_1km')\n",
    "preprocess.populate_num_targets_within_range(df_all, df_property_name_location, distance_secondary_school, 1, 2, 'num_ss_1km_to_2km')\n",
    "# shopping mall\n",
    "preprocess.populate_num_targets_within_range(df_all, df_property_name_location, distance_shopping_mall, 0, 3, 'num_sm_3km')\n",
    "# rearrange_columns\n",
    "df_all = preprocess.move_price_to_last_column(df_all)"
   ]
  },
  {
   "cell_type": "markdown",
   "id": "bbf8aef2-55b8-41d6-a00f-3ef2b49444e8",
   "metadata": {},
   "source": [
    "### Drop unused columns"
   ]
  },
  {
   "cell_type": "code",
   "execution_count": null,
   "id": "4641003d-939f-4dd9-8b30-2bf5be50a9f3",
   "metadata": {},
   "outputs": [],
   "source": [
    "dropped_columns = [\n",
    "    \"title\", \n",
    "    \"address\",\n",
    "    \"property_name\",\n",
    "    \"floor_level\", \n",
    "    \"elevation\", \n",
    "    \"available_unit_types\", \n",
    "    \"total_num_units\", \n",
    "    \"furnishing\", \n",
    "    \"available_unit_types\", \n",
    "    \"property_details_url\",\n",
    "]\n",
    "df_all.drop(columns=dropped_columns, inplace=True)"
   ]
  },
  {
   "cell_type": "markdown",
   "id": "5988f720-784b-48f9-8e68-db962ff5a69f",
   "metadata": {},
   "source": [
    "### Encode Categorical Features"
   ]
  },
  {
   "cell_type": "code",
   "execution_count": null,
   "id": "bea53667-674f-4762-89e0-418f6288d579",
   "metadata": {},
   "outputs": [],
   "source": [
    "# built_year\n",
    "preprocess.encode_built_year(df_all, YEAR_DICT)\n",
    "# tenure\n",
    "preprocess.encode_tenure(df_all)\n",
    "# planning_area\n",
    "df_all = preprocess.encode_planning_area(df_all, PLANNING_AREA_LIST)\n",
    "# property_type\n",
    "df_all = preprocess.encode_property_type(df_all)"
   ]
  },
  {
   "cell_type": "code",
   "execution_count": null,
   "id": "00c8cc02-d2a3-40ae-992b-920bfae58bda",
   "metadata": {},
   "outputs": [],
   "source": [
    "# split train/test\n",
    "df_train = df_all[:train_test_delimiter].copy()\n",
    "df_test = df_all[train_test_delimiter:].copy()\n",
    "df_test.drop(columns=['price'], inplace=True)"
   ]
  },
  {
   "cell_type": "code",
   "execution_count": null,
   "id": "13e6c6d7-c7a4-4f0c-ac4d-0c29266c785d",
   "metadata": {},
   "outputs": [],
   "source": [
    "# generate encoding dict for test\n",
    "subzone_encoding_dict = preprocess.generate_subzone_encoding_map(df_train)\n",
    "property_type_encoding_dict = preprocess.generate_property_type_encoding_map(df_train)\n",
    "# subzone, property_type\n",
    "# train\n",
    "subzone_property_type_encoding_dict = preprocess.target_encode_property_type_subzone(df_train)\n",
    "# test\n",
    "preprocess.target_encode_property_type_subzone_for_test(df_test, subzone_property_type_encoding_dict, subzone_encoding_dict, property_type_encoding_dict)"
   ]
  },
  {
   "cell_type": "code",
   "execution_count": null,
   "id": "575579df-15b4-460b-b945-99c6301208dc",
   "metadata": {},
   "outputs": [],
   "source": [
    "# rearrange columns to put one hot encoding at last place\n",
    "df_train = preprocess.rearrange_columns(df_train)\n",
    "df_test = preprocess.rearrange_columns(df_test)"
   ]
  },
  {
   "cell_type": "code",
   "execution_count": null,
   "id": "40c202d7-7dbf-4f6a-8b62-a5dfe0260adc",
   "metadata": {},
   "outputs": [],
   "source": [
    "# for recommender system\n",
    "df_train_recommendation = df_train.copy()\n",
    "Path(PROCESSED_DATA_DIR).mkdir(parents=True, exist_ok=True)\n",
    "# df_train_recommendation.to_csv(PROCESSED_RECOMMENDATION_TRAIN_FILE, index=False)\n",
    "\n",
    "# drop listing id after preparing recommdation related data\n",
    "df_train.drop(columns=['listing_id'], inplace=True)\n",
    "df_test.drop(columns=['listing_id'], inplace=True)"
   ]
  },
  {
   "cell_type": "code",
   "execution_count": null,
   "id": "f9e18605-6f46-43b2-a7bb-5faeaccf7c82",
   "metadata": {},
   "outputs": [],
   "source": [
    "df_train.head()"
   ]
  },
  {
   "cell_type": "code",
   "execution_count": null,
   "id": "4ca05e60-ec70-498b-9904-5f93d531d047",
   "metadata": {},
   "outputs": [],
   "source": [
    "df_test.head()"
   ]
  },
  {
   "cell_type": "code",
   "execution_count": null,
   "id": "458f11cd-cf11-4fd9-a7de-9b9e97c23613",
   "metadata": {},
   "outputs": [],
   "source": [
    "print('Records with NA value in train data:', len(df_train[df_train.isna().any(axis=1)]))\n",
    "print('Records with NA value in test data:', len(df_test[df_test.isna().any(axis=1)]))"
   ]
  },
  {
   "cell_type": "code",
   "execution_count": null,
   "id": "c410f9eb-f955-4a16-86d6-794cf9d254db",
   "metadata": {},
   "outputs": [],
   "source": [
    "Path(PROCESSED_DATA_DIR).mkdir(parents=True, exist_ok=True)\n",
    "# df_train.to_csv(PROCESSED_TRAIN_FILE, index=False)\n",
    "# df_test.to_csv(PROCESSED_TEST_FILE, index=False)"
   ]
  }
 ],
 "metadata": {
  "kernelspec": {
   "display_name": "Python 3 (ipykernel)",
   "language": "python",
   "name": "python3"
  },
  "language_info": {
   "codemirror_mode": {
    "name": "ipython",
    "version": 3
   },
   "file_extension": ".py",
   "mimetype": "text/x-python",
   "name": "python",
   "nbconvert_exporter": "python",
   "pygments_lexer": "ipython3",
   "version": "3.9.12"
  }
 },
 "nbformat": 4,
 "nbformat_minor": 5
}
